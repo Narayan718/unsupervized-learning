{
  "nbformat": 4,
  "nbformat_minor": 0,
  "metadata": {
    "kernelspec": {
      "display_name": "Python 3",
      "language": "python",
      "name": "python3"
    },
    "language_info": {
      "codemirror_mode": {
        "name": "ipython",
        "version": 3
      },
      "file_extension": ".py",
      "mimetype": "text/x-python",
      "name": "python",
      "nbconvert_exporter": "python",
      "pygments_lexer": "ipython3",
      "version": "3.8.8"
    },
    "colab": {
      "name": "zomato.ipynb",
      "provenance": [],
      "collapsed_sections": []
    }
  },
  "cells": [
    {
      "cell_type": "markdown",
      "metadata": {
        "id": "9TtVDdXF9Nx2"
      },
      "source": [
        "# <b> Project Title: Zomato Restaurant Clustering and Sentiment Analysis"
      ]
    },
    {
      "cell_type": "markdown",
      "metadata": {
        "id": "TAR_IO3K9NyD"
      },
      "source": [
        "# **Problem Statement**"
      ]
    },
    {
      "cell_type": "markdown",
      "metadata": {
        "id": "u0qlyzpa9NyE"
      },
      "source": [
        "Zomato is an Indian restaurant aggregator and food delivery start-up founded by Deepinder Goyal and Pankaj Chaddah in 2008. Zomato provides information, menus and user-reviews of restaurants, and also has food delivery options from partner restaurants in select cities.\n",
        "\n",
        "India is quite famous for its diverse multi cuisine available in a large number of restaurants and hotel resorts, which is reminiscent of unity in diversity. Restaurant business in India is always evolving. More Indians are warming up to the idea of eating restaurant food whether by dining outside or getting food delivered. The growing number of restaurants in every state of India has been a motivation to inspect the data to get some insights, interesting facts and figures about the Indian food industry in each city. So, this project focuses on analysing the Zomato restaurant data for each city in India.\n",
        "\n",
        "The Project focuses on Customers and Company, you have  to analyze the sentiments of the reviews given by the customer in the data and made some useful conclusion in the form of Visualizations. Also, cluster the zomato restaurants into different segments. The data is vizualized as it becomes easy to analyse data at instant. The Analysis also solve some of the business cases that can directly help the customers finding the Best restaurant in their locality and for the company to grow up and work on the fields they are currently lagging in.\n",
        "\n",
        "This could help in clustering the restaurants into segments. Also the data has valuable information around cuisine and costing which can be used in cost vs. benefit analysis\n",
        "\n",
        "Data could be used for sentiment analysis. Also the metadata of reviewers can be used for identifying the critics in the industry. "
      ]
    },
    {
      "cell_type": "markdown",
      "metadata": {
        "id": "G_OEV1ip9NyG"
      },
      "source": [
        "# **Attribute Information**"
      ]
    },
    {
      "cell_type": "markdown",
      "metadata": {
        "id": "3tyyKlb09NyH"
      },
      "source": [
        "**Zomato Restaurant names and Metadata**\n",
        "\n",
        "Use this dataset for clustering part\n",
        "\n",
        "1. Name : Name of Restaurants\n",
        "\n",
        "2. Links : URL Links of Restaurants\n",
        "\n",
        "3. Cost : Per person estimated Cost of dining\n",
        "\n",
        "4. Collection : Tagging of Restaurants w.r.t. Zomato categories\n",
        "\n",
        "5. Cuisines : Cuisines served by Restaurants\n",
        "\n",
        "6. Timings : Restaurant Timings"
      ]
    },
    {
      "cell_type": "markdown",
      "metadata": {
        "id": "N9iudNFn9NyI"
      },
      "source": [
        "**Zomato Restaurant reviews**\n",
        "\n",
        "Merge this dataset with Names and Matadata and then use for sentiment analysis part\n",
        "\n",
        "1. Restaurant : Name of the Restaurant\n",
        "\n",
        "2. Reviewer : Name of the Reviewer\n",
        "\n",
        "3. Review : Review Text\n",
        "\n",
        "4. Rating : Rating Provided by Reviewer\n",
        "\n",
        "5. MetaData : Reviewer Metadata - No. of Reviews and followers\n",
        "\n",
        "6. Time: Date and Time of Review\n",
        "\n",
        "7. Pictures : No. of pictures posted with review"
      ]
    },
    {
      "cell_type": "markdown",
      "metadata": {
        "id": "1FRJIIC39bHR"
      },
      "source": [
        "**Connecting the drive**"
      ]
    },
    {
      "cell_type": "code",
      "metadata": {
        "id": "ksjEZxSR9Yl5",
        "colab": {
          "base_uri": "https://localhost:8080/"
        },
        "outputId": "dbdd14ed-a736-4ec9-cf8f-8336f9d73184"
      },
      "source": [
        "#importing and connecting to the drive storage\n",
        "from google.colab import drive\n",
        "drive.mount('/content/drive')"
      ],
      "execution_count": 1,
      "outputs": [
        {
          "output_type": "stream",
          "name": "stdout",
          "text": [
            "Mounted at /content/drive\n"
          ]
        }
      ]
    },
    {
      "cell_type": "markdown",
      "metadata": {
        "id": "OepbCb1h9NyL"
      },
      "source": [
        "**Importing libraries**"
      ]
    },
    {
      "cell_type": "code",
      "metadata": {
        "id": "DsUXflKy9NyN",
        "colab": {
          "base_uri": "https://localhost:8080/"
        },
        "outputId": "0fd61d8d-107e-45d0-fc8c-a00fca2ddb0d"
      },
      "source": [
        "#importing libraries\n",
        "import string\n",
        "import numpy as np\n",
        "import pandas as pd\n",
        "import seaborn as sns\n",
        "import warnings\n",
        "warnings.filterwarnings('ignore')\n",
        "import matplotlib.pyplot as plt\n",
        "import missingno as msno\n",
        "from datetime import date, datetime\n",
        "import nltk\n",
        "nltk.download('stopwords')"
      ],
      "execution_count": 2,
      "outputs": [
        {
          "output_type": "stream",
          "name": "stdout",
          "text": [
            "[nltk_data] Downloading package stopwords to /root/nltk_data...\n",
            "[nltk_data]   Unzipping corpora/stopwords.zip.\n"
          ]
        },
        {
          "output_type": "execute_result",
          "data": {
            "text/plain": [
              "True"
            ]
          },
          "metadata": {},
          "execution_count": 2
        }
      ]
    },
    {
      "cell_type": "markdown",
      "metadata": {
        "id": "f4QHdGbJ9NyP"
      },
      "source": [
        "# **Data Loading**\n",
        "\n",
        "**Restaurent reviews dataframe**"
      ]
    },
    {
      "cell_type": "code",
      "metadata": {
        "id": "TNiBcf239NyS",
        "colab": {
          "base_uri": "https://localhost:8080/",
          "height": 224
        },
        "outputId": "d90cb7ad-ecc6-43dd-a9f5-3ef962496100"
      },
      "source": [
        "#loading the restaurant reviews dataset\n",
        "reviews_df = pd.read_csv('/content/drive/MyDrive/zomato/Zomato Restaurant reviews.csv')\n",
        "print('Restaurent reviews dataframe:')\n",
        "reviews_df.head()"
      ],
      "execution_count": 3,
      "outputs": [
        {
          "output_type": "stream",
          "name": "stdout",
          "text": [
            "Restaurent reviews dataframe:\n"
          ]
        },
        {
          "output_type": "execute_result",
          "data": {
            "text/html": [
              "<div>\n",
              "<style scoped>\n",
              "    .dataframe tbody tr th:only-of-type {\n",
              "        vertical-align: middle;\n",
              "    }\n",
              "\n",
              "    .dataframe tbody tr th {\n",
              "        vertical-align: top;\n",
              "    }\n",
              "\n",
              "    .dataframe thead th {\n",
              "        text-align: right;\n",
              "    }\n",
              "</style>\n",
              "<table border=\"1\" class=\"dataframe\">\n",
              "  <thead>\n",
              "    <tr style=\"text-align: right;\">\n",
              "      <th></th>\n",
              "      <th>Restaurant</th>\n",
              "      <th>Reviewer</th>\n",
              "      <th>Review</th>\n",
              "      <th>Rating</th>\n",
              "      <th>Metadata</th>\n",
              "      <th>Time</th>\n",
              "      <th>Pictures</th>\n",
              "    </tr>\n",
              "  </thead>\n",
              "  <tbody>\n",
              "    <tr>\n",
              "      <th>0</th>\n",
              "      <td>Beyond Flavours</td>\n",
              "      <td>Rusha Chakraborty</td>\n",
              "      <td>The ambience was good, food was quite good . h...</td>\n",
              "      <td>5</td>\n",
              "      <td>1 Review , 2 Followers</td>\n",
              "      <td>5/25/2019 15:54</td>\n",
              "      <td>0</td>\n",
              "    </tr>\n",
              "    <tr>\n",
              "      <th>1</th>\n",
              "      <td>Beyond Flavours</td>\n",
              "      <td>Anusha Tirumalaneedi</td>\n",
              "      <td>Ambience is too good for a pleasant evening. S...</td>\n",
              "      <td>5</td>\n",
              "      <td>3 Reviews , 2 Followers</td>\n",
              "      <td>5/25/2019 14:20</td>\n",
              "      <td>0</td>\n",
              "    </tr>\n",
              "    <tr>\n",
              "      <th>2</th>\n",
              "      <td>Beyond Flavours</td>\n",
              "      <td>Ashok Shekhawat</td>\n",
              "      <td>A must try.. great food great ambience. Thnx f...</td>\n",
              "      <td>5</td>\n",
              "      <td>2 Reviews , 3 Followers</td>\n",
              "      <td>5/24/2019 22:54</td>\n",
              "      <td>0</td>\n",
              "    </tr>\n",
              "    <tr>\n",
              "      <th>3</th>\n",
              "      <td>Beyond Flavours</td>\n",
              "      <td>Swapnil Sarkar</td>\n",
              "      <td>Soumen das and Arun was a great guy. Only beca...</td>\n",
              "      <td>5</td>\n",
              "      <td>1 Review , 1 Follower</td>\n",
              "      <td>5/24/2019 22:11</td>\n",
              "      <td>0</td>\n",
              "    </tr>\n",
              "    <tr>\n",
              "      <th>4</th>\n",
              "      <td>Beyond Flavours</td>\n",
              "      <td>Dileep</td>\n",
              "      <td>Food is good.we ordered Kodi drumsticks and ba...</td>\n",
              "      <td>5</td>\n",
              "      <td>3 Reviews , 2 Followers</td>\n",
              "      <td>5/24/2019 21:37</td>\n",
              "      <td>0</td>\n",
              "    </tr>\n",
              "  </tbody>\n",
              "</table>\n",
              "</div>"
            ],
            "text/plain": [
              "        Restaurant              Reviewer  ...             Time Pictures\n",
              "0  Beyond Flavours     Rusha Chakraborty  ...  5/25/2019 15:54        0\n",
              "1  Beyond Flavours  Anusha Tirumalaneedi  ...  5/25/2019 14:20        0\n",
              "2  Beyond Flavours       Ashok Shekhawat  ...  5/24/2019 22:54        0\n",
              "3  Beyond Flavours        Swapnil Sarkar  ...  5/24/2019 22:11        0\n",
              "4  Beyond Flavours                Dileep  ...  5/24/2019 21:37        0\n",
              "\n",
              "[5 rows x 7 columns]"
            ]
          },
          "metadata": {},
          "execution_count": 3
        }
      ]
    },
    {
      "cell_type": "code",
      "metadata": {
        "id": "W5CwNDNk9NyT",
        "colab": {
          "base_uri": "https://localhost:8080/"
        },
        "outputId": "50000176-6764-4c13-f301-f252f77051fc"
      },
      "source": [
        "#shape and size of dataset\n",
        "reviews_df.shape"
      ],
      "execution_count": 4,
      "outputs": [
        {
          "output_type": "execute_result",
          "data": {
            "text/plain": [
              "(10000, 7)"
            ]
          },
          "metadata": {},
          "execution_count": 4
        }
      ]
    },
    {
      "cell_type": "code",
      "metadata": {
        "id": "KIHWs2fb9NyU",
        "colab": {
          "base_uri": "https://localhost:8080/"
        },
        "outputId": "cc5afa11-82c9-4d55-9da2-4d6510407b07"
      },
      "source": [
        "#columns in the reviews dataset\n",
        "reviews_df.columns"
      ],
      "execution_count": 5,
      "outputs": [
        {
          "output_type": "execute_result",
          "data": {
            "text/plain": [
              "Index(['Restaurant', 'Reviewer', 'Review', 'Rating', 'Metadata', 'Time',\n",
              "       'Pictures'],\n",
              "      dtype='object')"
            ]
          },
          "metadata": {},
          "execution_count": 5
        }
      ]
    },
    {
      "cell_type": "code",
      "metadata": {
        "id": "RhtbTvU49NyV",
        "colab": {
          "base_uri": "https://localhost:8080/"
        },
        "outputId": "8a7d8e6c-c5b3-4878-8c81-02ce0d723b1b"
      },
      "source": [
        "reviews_df.info()"
      ],
      "execution_count": 6,
      "outputs": [
        {
          "output_type": "stream",
          "name": "stdout",
          "text": [
            "<class 'pandas.core.frame.DataFrame'>\n",
            "RangeIndex: 10000 entries, 0 to 9999\n",
            "Data columns (total 7 columns):\n",
            " #   Column      Non-Null Count  Dtype \n",
            "---  ------      --------------  ----- \n",
            " 0   Restaurant  10000 non-null  object\n",
            " 1   Reviewer    9962 non-null   object\n",
            " 2   Review      9955 non-null   object\n",
            " 3   Rating      9962 non-null   object\n",
            " 4   Metadata    9962 non-null   object\n",
            " 5   Time        9962 non-null   object\n",
            " 6   Pictures    10000 non-null  int64 \n",
            "dtypes: int64(1), object(6)\n",
            "memory usage: 547.0+ KB\n"
          ]
        }
      ]
    },
    {
      "cell_type": "markdown",
      "metadata": {
        "id": "eDNnWNWQ9NyV"
      },
      "source": [
        "# **Data Cleaning**"
      ]
    },
    {
      "cell_type": "code",
      "metadata": {
        "id": "Dd66lssE9NyW",
        "colab": {
          "base_uri": "https://localhost:8080/",
          "height": 637
        },
        "outputId": "f11b2a65-bbd6-463f-a42d-eefefea9a1af"
      },
      "source": [
        "#checking for null values\n",
        "msno.bar(reviews_df, color='green')\n",
        "plt.title('Checking for NaN values', size=16)\n",
        "plt.xlabel('Columns', size=14)\n",
        "plt.show()"
      ],
      "execution_count": 7,
      "outputs": [
        {
          "output_type": "display_data",
          "data": {
            "image/png": "[encoded data removed]",
            "text/plain": [
              "<Figure size 1800x720 with 3 Axes>"
            ]
          },
          "metadata": {
            "needs_background": "light"
          }
        }
      ]
    },
    {
      "cell_type": "markdown",
      "metadata": {
        "id": "OWnDlfWQ9NyW"
      },
      "source": [
        "* Reviewer, Review, Rating, Metadata and Time are the features having the NaN values"
      ]
    },
    {
      "cell_type": "code",
      "metadata": {
        "id": "0_bHxWPR9NyX"
      },
      "source": [
        "#dropping the null values\n",
        "reviews_df.dropna(inplace=True)"
      ],
      "execution_count": 8,
      "outputs": []
    },
    {
      "cell_type": "code",
      "metadata": {
        "id": "Aasp2fYd9NyX",
        "colab": {
          "base_uri": "https://localhost:8080/",
          "height": 356
        },
        "outputId": "4bba0d2f-0037-4474-a4e4-182ca65a43c9"
      },
      "source": [
        "#heatmap of data frame\n",
        "plt.figure(figsize=(12, 5))\n",
        "sns.heatmap(reviews_df.isnull(), yticklabels=False)\n",
        "plt.title('Heatmap of NaN values', size=16)\n",
        "plt.xlabel('Columns', size=14)\n",
        "plt.show()"
      ],
      "execution_count": 9,
      "outputs": [
        {
          "output_type": "display_data",
          "data": {
            "image/png": "[encoded data removed]",
            "text/plain": [
              "<Figure size 864x360 with 2 Axes>"
            ]
          },
          "metadata": {
            "needs_background": "light"
          }
        }
      ]
    },
    {
      "cell_type": "markdown",
      "metadata": {
        "id": "Hm53mAuE9NyY"
      },
      "source": [
        "# **Data Visualization**"
      ]
    },
    {
      "cell_type": "code",
      "metadata": {
        "id": "6c3rIAtq9NyY",
        "colab": {
          "base_uri": "https://localhost:8080/"
        },
        "outputId": "d070462e-3000-4dde-caaa-00aee090f8d9"
      },
      "source": [
        "#number of unique values in reviews dataset\n",
        "reviews_df.nunique()"
      ],
      "execution_count": 10,
      "outputs": [
        {
          "output_type": "execute_result",
          "data": {
            "text/plain": [
              "Restaurant     100\n",
              "Reviewer      7442\n",
              "Review        9364\n",
              "Rating          10\n",
              "Metadata      2477\n",
              "Time          9775\n",
              "Pictures        36\n",
              "dtype: int64"
            ]
          },
          "metadata": {},
          "execution_count": 10
        }
      ]
    },
    {
      "cell_type": "markdown",
      "metadata": {
        "id": "kSEx5oCM9NyZ"
      },
      "source": [
        "**Restaurant Ratings**"
      ]
    },
    {
      "cell_type": "code",
      "metadata": {
        "id": "_ei98bus9Nya",
        "colab": {
          "base_uri": "https://localhost:8080/",
          "height": 356
        },
        "outputId": "a7c79155-98f1-4730-b33b-4599faa7d3f9"
      },
      "source": [
        "#plotting the value counts of Restaurant ratings\n",
        "plt.figure(figsize=(12, 5))\n",
        "sns.countplot(reviews_df.Rating)\n",
        "plt.title('Restaurant Ratings', size=16)\n",
        "plt.xlabel('Rating', size=14)\n",
        "plt.ylabel('Count', size=14)\n",
        "plt.show()"
      ],
      "execution_count": 11,
      "outputs": [
        {
          "output_type": "display_data",
          "data": {
            "image/png": "[encoded data removed]",
            "text/plain": [
              "<Figure size 864x360 with 1 Axes>"
            ]
          },
          "metadata": {
            "needs_background": "light"
          }
        }
      ]
    },
    {
      "cell_type": "code",
      "metadata": {
        "id": "yyA_CzAS9Nya"
      },
      "source": [
        "#removing the chategorical data\n",
        "reviews_df = reviews_df[reviews_df['Rating']!='Like']"
      ],
      "execution_count": 12,
      "outputs": []
    },
    {
      "cell_type": "code",
      "metadata": {
        "id": "0Pz1WV0h9Nya"
      },
      "source": [
        "#converting the rating datatype to numerical values\n",
        "reviews_df['Rating'] = reviews_df['Rating'].astype(float)"
      ],
      "execution_count": 13,
      "outputs": []
    },
    {
      "cell_type": "code",
      "metadata": {
        "scrolled": true,
        "id": "S9AN_bYp9Nyb",
        "colab": {
          "base_uri": "https://localhost:8080/"
        },
        "outputId": "c413e87c-b8b1-4496-9760-020f74e04a23"
      },
      "source": [
        "#information of dataframe after the conversion\n",
        "reviews_df.info()"
      ],
      "execution_count": 14,
      "outputs": [
        {
          "output_type": "stream",
          "name": "stdout",
          "text": [
            "<class 'pandas.core.frame.DataFrame'>\n",
            "Int64Index: 9954 entries, 0 to 9999\n",
            "Data columns (total 7 columns):\n",
            " #   Column      Non-Null Count  Dtype  \n",
            "---  ------      --------------  -----  \n",
            " 0   Restaurant  9954 non-null   object \n",
            " 1   Reviewer    9954 non-null   object \n",
            " 2   Review      9954 non-null   object \n",
            " 3   Rating      9954 non-null   float64\n",
            " 4   Metadata    9954 non-null   object \n",
            " 5   Time        9954 non-null   object \n",
            " 6   Pictures    9954 non-null   int64  \n",
            "dtypes: float64(1), int64(1), object(5)\n",
            "memory usage: 622.1+ KB\n"
          ]
        }
      ]
    },
    {
      "cell_type": "markdown",
      "metadata": {
        "id": "sQipU4yJ9Nyb"
      },
      "source": [
        "<b> Analysis of Metadata"
      ]
    },
    {
      "cell_type": "code",
      "metadata": {
        "id": "6thxC86-9Nyc"
      },
      "source": [
        "#converting the datatype of metadata\n",
        "reviews_df['Metadata'] = reviews_df['Metadata'].astype(str)"
      ],
      "execution_count": 15,
      "outputs": []
    },
    {
      "cell_type": "code",
      "metadata": {
        "id": "PfE9AaGO9Nyd",
        "colab": {
          "base_uri": "https://localhost:8080/",
          "height": 206
        },
        "outputId": "39b69e16-c529-415c-a34b-6bcce9405439"
      },
      "source": [
        "#first 5 rows of dataframe after data cleaning \n",
        "reviews_df.head()"
      ],
      "execution_count": 16,
      "outputs": [
        {
          "output_type": "execute_result",
          "data": {
            "text/html": [
              "<div>\n",
              "<style scoped>\n",
              "    .dataframe tbody tr th:only-of-type {\n",
              "        vertical-align: middle;\n",
              "    }\n",
              "\n",
              "    .dataframe tbody tr th {\n",
              "        vertical-align: top;\n",
              "    }\n",
              "\n",
              "    .dataframe thead th {\n",
              "        text-align: right;\n",
              "    }\n",
              "</style>\n",
              "<table border=\"1\" class=\"dataframe\">\n",
              "  <thead>\n",
              "    <tr style=\"text-align: right;\">\n",
              "      <th></th>\n",
              "      <th>Restaurant</th>\n",
              "      <th>Reviewer</th>\n",
              "      <th>Review</th>\n",
              "      <th>Rating</th>\n",
              "      <th>Metadata</th>\n",
              "      <th>Time</th>\n",
              "      <th>Pictures</th>\n",
              "    </tr>\n",
              "  </thead>\n",
              "  <tbody>\n",
              "    <tr>\n",
              "      <th>0</th>\n",
              "      <td>Beyond Flavours</td>\n",
              "      <td>Rusha Chakraborty</td>\n",
              "      <td>The ambience was good, food was quite good . h...</td>\n",
              "      <td>5.0</td>\n",
              "      <td>1 Review , 2 Followers</td>\n",
              "      <td>5/25/2019 15:54</td>\n",
              "      <td>0</td>\n",
              "    </tr>\n",
              "    <tr>\n",
              "      <th>1</th>\n",
              "      <td>Beyond Flavours</td>\n",
              "      <td>Anusha Tirumalaneedi</td>\n",
              "      <td>Ambience is too good for a pleasant evening. S...</td>\n",
              "      <td>5.0</td>\n",
              "      <td>3 Reviews , 2 Followers</td>\n",
              "      <td>5/25/2019 14:20</td>\n",
              "      <td>0</td>\n",
              "    </tr>\n",
              "    <tr>\n",
              "      <th>2</th>\n",
              "      <td>Beyond Flavours</td>\n",
              "      <td>Ashok Shekhawat</td>\n",
              "      <td>A must try.. great food great ambience. Thnx f...</td>\n",
              "      <td>5.0</td>\n",
              "      <td>2 Reviews , 3 Followers</td>\n",
              "      <td>5/24/2019 22:54</td>\n",
              "      <td>0</td>\n",
              "    </tr>\n",
              "    <tr>\n",
              "      <th>3</th>\n",
              "      <td>Beyond Flavours</td>\n",
              "      <td>Swapnil Sarkar</td>\n",
              "      <td>Soumen das and Arun was a great guy. Only beca...</td>\n",
              "      <td>5.0</td>\n",
              "      <td>1 Review , 1 Follower</td>\n",
              "      <td>5/24/2019 22:11</td>\n",
              "      <td>0</td>\n",
              "    </tr>\n",
              "    <tr>\n",
              "      <th>4</th>\n",
              "      <td>Beyond Flavours</td>\n",
              "      <td>Dileep</td>\n",
              "      <td>Food is good.we ordered Kodi drumsticks and ba...</td>\n",
              "      <td>5.0</td>\n",
              "      <td>3 Reviews , 2 Followers</td>\n",
              "      <td>5/24/2019 21:37</td>\n",
              "      <td>0</td>\n",
              "    </tr>\n",
              "  </tbody>\n",
              "</table>\n",
              "</div>"
            ],
            "text/plain": [
              "        Restaurant              Reviewer  ...             Time  Pictures\n",
              "0  Beyond Flavours     Rusha Chakraborty  ...  5/25/2019 15:54         0\n",
              "1  Beyond Flavours  Anusha Tirumalaneedi  ...  5/25/2019 14:20         0\n",
              "2  Beyond Flavours       Ashok Shekhawat  ...  5/24/2019 22:54         0\n",
              "3  Beyond Flavours        Swapnil Sarkar  ...  5/24/2019 22:11         0\n",
              "4  Beyond Flavours                Dileep  ...  5/24/2019 21:37         0\n",
              "\n",
              "[5 rows x 7 columns]"
            ]
          },
          "metadata": {},
          "execution_count": 16
        }
      ]
    },
    {
      "cell_type": "code",
      "metadata": {
        "id": "7ZQCpXgy9Nye"
      },
      "source": [
        "#separating the data contained in the metadata column\n",
        "reviews_df['Reviewrs'], reviews_df['Followers'] = reviews_df['Metadata'].str.split(',').str"
      ],
      "execution_count": 17,
      "outputs": []
    },
    {
      "cell_type": "code",
      "metadata": {
        "id": "yqsGggb49Nye"
      },
      "source": [
        "#separating the numerical data contained in columns\n",
        "reviews_df['Reviewrs'] = pd.to_numeric(reviews_df['Reviewrs'].str.split(' ').str[0])\n",
        "reviews_df['Followers'] = pd.to_numeric(reviews_df['Followers'].str.split(' ').str[1])"
      ],
      "execution_count": 18,
      "outputs": []
    },
    {
      "cell_type": "code",
      "metadata": {
        "id": "n3JsRtZF9Nyf",
        "colab": {
          "base_uri": "https://localhost:8080/",
          "height": 206
        },
        "outputId": "8b1b6c9d-01af-420b-994c-1e4f0064fde4"
      },
      "source": [
        "#dropping the column\n",
        "reviews_df.drop('Metadata', axis=1, inplace=True)\n",
        "reviews_df.head()"
      ],
      "execution_count": 19,
      "outputs": [
        {
          "output_type": "execute_result",
          "data": {
            "text/html": [
              "<div>\n",
              "<style scoped>\n",
              "    .dataframe tbody tr th:only-of-type {\n",
              "        vertical-align: middle;\n",
              "    }\n",
              "\n",
              "    .dataframe tbody tr th {\n",
              "        vertical-align: top;\n",
              "    }\n",
              "\n",
              "    .dataframe thead th {\n",
              "        text-align: right;\n",
              "    }\n",
              "</style>\n",
              "<table border=\"1\" class=\"dataframe\">\n",
              "  <thead>\n",
              "    <tr style=\"text-align: right;\">\n",
              "      <th></th>\n",
              "      <th>Restaurant</th>\n",
              "      <th>Reviewer</th>\n",
              "      <th>Review</th>\n",
              "      <th>Rating</th>\n",
              "      <th>Time</th>\n",
              "      <th>Pictures</th>\n",
              "      <th>Reviewrs</th>\n",
              "      <th>Followers</th>\n",
              "    </tr>\n",
              "  </thead>\n",
              "  <tbody>\n",
              "    <tr>\n",
              "      <th>0</th>\n",
              "      <td>Beyond Flavours</td>\n",
              "      <td>Rusha Chakraborty</td>\n",
              "      <td>The ambience was good, food was quite good . h...</td>\n",
              "      <td>5.0</td>\n",
              "      <td>5/25/2019 15:54</td>\n",
              "      <td>0</td>\n",
              "      <td>1</td>\n",
              "      <td>2.0</td>\n",
              "    </tr>\n",
              "    <tr>\n",
              "      <th>1</th>\n",
              "      <td>Beyond Flavours</td>\n",
              "      <td>Anusha Tirumalaneedi</td>\n",
              "      <td>Ambience is too good for a pleasant evening. S...</td>\n",
              "      <td>5.0</td>\n",
              "      <td>5/25/2019 14:20</td>\n",
              "      <td>0</td>\n",
              "      <td>3</td>\n",
              "      <td>2.0</td>\n",
              "    </tr>\n",
              "    <tr>\n",
              "      <th>2</th>\n",
              "      <td>Beyond Flavours</td>\n",
              "      <td>Ashok Shekhawat</td>\n",
              "      <td>A must try.. great food great ambience. Thnx f...</td>\n",
              "      <td>5.0</td>\n",
              "      <td>5/24/2019 22:54</td>\n",
              "      <td>0</td>\n",
              "      <td>2</td>\n",
              "      <td>3.0</td>\n",
              "    </tr>\n",
              "    <tr>\n",
              "      <th>3</th>\n",
              "      <td>Beyond Flavours</td>\n",
              "      <td>Swapnil Sarkar</td>\n",
              "      <td>Soumen das and Arun was a great guy. Only beca...</td>\n",
              "      <td>5.0</td>\n",
              "      <td>5/24/2019 22:11</td>\n",
              "      <td>0</td>\n",
              "      <td>1</td>\n",
              "      <td>1.0</td>\n",
              "    </tr>\n",
              "    <tr>\n",
              "      <th>4</th>\n",
              "      <td>Beyond Flavours</td>\n",
              "      <td>Dileep</td>\n",
              "      <td>Food is good.we ordered Kodi drumsticks and ba...</td>\n",
              "      <td>5.0</td>\n",
              "      <td>5/24/2019 21:37</td>\n",
              "      <td>0</td>\n",
              "      <td>3</td>\n",
              "      <td>2.0</td>\n",
              "    </tr>\n",
              "  </tbody>\n",
              "</table>\n",
              "</div>"
            ],
            "text/plain": [
              "        Restaurant              Reviewer  ... Reviewrs  Followers\n",
              "0  Beyond Flavours     Rusha Chakraborty  ...        1        2.0\n",
              "1  Beyond Flavours  Anusha Tirumalaneedi  ...        3        2.0\n",
              "2  Beyond Flavours       Ashok Shekhawat  ...        2        3.0\n",
              "3  Beyond Flavours        Swapnil Sarkar  ...        1        1.0\n",
              "4  Beyond Flavours                Dileep  ...        3        2.0\n",
              "\n",
              "[5 rows x 8 columns]"
            ]
          },
          "metadata": {},
          "execution_count": 19
        }
      ]
    },
    {
      "cell_type": "code",
      "metadata": {
        "id": "WkZHSVqT9Nyf"
      },
      "source": [
        "#changing the datetime format\n",
        "reviews_df['Time'] = pd.to_datetime(reviews_df['Time'])"
      ],
      "execution_count": 20,
      "outputs": []
    },
    {
      "cell_type": "code",
      "metadata": {
        "id": "JRj4vO2q9Nyf"
      },
      "source": [
        "#inserting new columns after converssion of format\n",
        "reviews_df['Date'] = reviews_df['Time'].dt.day\n",
        "reviews_df['Month'] = reviews_df['Time'].dt.month\n",
        "reviews_df['Year'] = reviews_df['Time'].dt.year\n",
        "reviews_df['Day'] = reviews_df['Time'].dt.day_name()\n",
        "reviews_df['Hour'] = reviews_df['Time'].dt.hour"
      ],
      "execution_count": 21,
      "outputs": []
    },
    {
      "cell_type": "code",
      "metadata": {
        "id": "Fq54jek-9Nyg",
        "colab": {
          "base_uri": "https://localhost:8080/",
          "height": 292
        },
        "outputId": "bf2881e2-291d-47fc-d867-9a1b168183af"
      },
      "source": [
        "#dataframe after inserssion of columns\n",
        "reviews_df.head()"
      ],
      "execution_count": 22,
      "outputs": [
        {
          "output_type": "execute_result",
          "data": {
            "text/html": [
              "<div>\n",
              "<style scoped>\n",
              "    .dataframe tbody tr th:only-of-type {\n",
              "        vertical-align: middle;\n",
              "    }\n",
              "\n",
              "    .dataframe tbody tr th {\n",
              "        vertical-align: top;\n",
              "    }\n",
              "\n",
              "    .dataframe thead th {\n",
              "        text-align: right;\n",
              "    }\n",
              "</style>\n",
              "<table border=\"1\" class=\"dataframe\">\n",
              "  <thead>\n",
              "    <tr style=\"text-align: right;\">\n",
              "      <th></th>\n",
              "      <th>Restaurant</th>\n",
              "      <th>Reviewer</th>\n",
              "      <th>Review</th>\n",
              "      <th>Rating</th>\n",
              "      <th>Time</th>\n",
              "      <th>Pictures</th>\n",
              "      <th>Reviewrs</th>\n",
              "      <th>Followers</th>\n",
              "      <th>Date</th>\n",
              "      <th>Month</th>\n",
              "      <th>Year</th>\n",
              "      <th>Day</th>\n",
              "      <th>Hour</th>\n",
              "    </tr>\n",
              "  </thead>\n",
              "  <tbody>\n",
              "    <tr>\n",
              "      <th>0</th>\n",
              "      <td>Beyond Flavours</td>\n",
              "      <td>Rusha Chakraborty</td>\n",
              "      <td>The ambience was good, food was quite good . h...</td>\n",
              "      <td>5.0</td>\n",
              "      <td>2019-05-25 15:54:00</td>\n",
              "      <td>0</td>\n",
              "      <td>1</td>\n",
              "      <td>2.0</td>\n",
              "      <td>25</td>\n",
              "      <td>5</td>\n",
              "      <td>2019</td>\n",
              "      <td>Saturday</td>\n",
              "      <td>15</td>\n",
              "    </tr>\n",
              "    <tr>\n",
              "      <th>1</th>\n",
              "      <td>Beyond Flavours</td>\n",
              "      <td>Anusha Tirumalaneedi</td>\n",
              "      <td>Ambience is too good for a pleasant evening. S...</td>\n",
              "      <td>5.0</td>\n",
              "      <td>2019-05-25 14:20:00</td>\n",
              "      <td>0</td>\n",
              "      <td>3</td>\n",
              "      <td>2.0</td>\n",
              "      <td>25</td>\n",
              "      <td>5</td>\n",
              "      <td>2019</td>\n",
              "      <td>Saturday</td>\n",
              "      <td>14</td>\n",
              "    </tr>\n",
              "    <tr>\n",
              "      <th>2</th>\n",
              "      <td>Beyond Flavours</td>\n",
              "      <td>Ashok Shekhawat</td>\n",
              "      <td>A must try.. great food great ambience. Thnx f...</td>\n",
              "      <td>5.0</td>\n",
              "      <td>2019-05-24 22:54:00</td>\n",
              "      <td>0</td>\n",
              "      <td>2</td>\n",
              "      <td>3.0</td>\n",
              "      <td>24</td>\n",
              "      <td>5</td>\n",
              "      <td>2019</td>\n",
              "      <td>Friday</td>\n",
              "      <td>22</td>\n",
              "    </tr>\n",
              "    <tr>\n",
              "      <th>3</th>\n",
              "      <td>Beyond Flavours</td>\n",
              "      <td>Swapnil Sarkar</td>\n",
              "      <td>Soumen das and Arun was a great guy. Only beca...</td>\n",
              "      <td>5.0</td>\n",
              "      <td>2019-05-24 22:11:00</td>\n",
              "      <td>0</td>\n",
              "      <td>1</td>\n",
              "      <td>1.0</td>\n",
              "      <td>24</td>\n",
              "      <td>5</td>\n",
              "      <td>2019</td>\n",
              "      <td>Friday</td>\n",
              "      <td>22</td>\n",
              "    </tr>\n",
              "    <tr>\n",
              "      <th>4</th>\n",
              "      <td>Beyond Flavours</td>\n",
              "      <td>Dileep</td>\n",
              "      <td>Food is good.we ordered Kodi drumsticks and ba...</td>\n",
              "      <td>5.0</td>\n",
              "      <td>2019-05-24 21:37:00</td>\n",
              "      <td>0</td>\n",
              "      <td>3</td>\n",
              "      <td>2.0</td>\n",
              "      <td>24</td>\n",
              "      <td>5</td>\n",
              "      <td>2019</td>\n",
              "      <td>Friday</td>\n",
              "      <td>21</td>\n",
              "    </tr>\n",
              "  </tbody>\n",
              "</table>\n",
              "</div>"
            ],
            "text/plain": [
              "        Restaurant              Reviewer  ...       Day  Hour\n",
              "0  Beyond Flavours     Rusha Chakraborty  ...  Saturday    15\n",
              "1  Beyond Flavours  Anusha Tirumalaneedi  ...  Saturday    14\n",
              "2  Beyond Flavours       Ashok Shekhawat  ...    Friday    22\n",
              "3  Beyond Flavours        Swapnil Sarkar  ...    Friday    22\n",
              "4  Beyond Flavours                Dileep  ...    Friday    21\n",
              "\n",
              "[5 rows x 13 columns]"
            ]
          },
          "metadata": {},
          "execution_count": 22
        }
      ]
    },
    {
      "cell_type": "code",
      "metadata": {
        "id": "mlayWAMu9Nyg",
        "colab": {
          "base_uri": "https://localhost:8080/"
        },
        "outputId": "986aa5cf-5804-4347-b604-3905786b1bd6"
      },
      "source": [
        "#dropping the datetime column\n",
        "reviews_df.drop('Time', axis=1, inplace=True)\n",
        "#checking for unique values in year feature\n",
        "reviews_df['Year'].unique()"
      ],
      "execution_count": 23,
      "outputs": [
        {
          "output_type": "execute_result",
          "data": {
            "text/plain": [
              "array([2019, 2018, 2017, 2016])"
            ]
          },
          "metadata": {},
          "execution_count": 23
        }
      ]
    },
    {
      "cell_type": "code",
      "metadata": {
        "id": "Rgr9hkZ59Nyg",
        "colab": {
          "base_uri": "https://localhost:8080/",
          "height": 1000
        },
        "outputId": "5029ddbd-c2c7-4a50-f4ef-1e5b7a7f00f6"
      },
      "source": [
        "#creating a list of new features\n",
        "features = ['Year', 'Month', 'Date', 'Day', 'Hour']\n",
        "\n",
        "#plotting of value counts of the features\n",
        "for col in features:\n",
        "    fig = plt.figure(figsize=(12, 5))\n",
        "    ax = fig.gca()\n",
        "    sns.countplot(reviews_df[col], ax=ax)\n",
        "    plt.title(f'{col} and their value counts', size=16)\n",
        "    plt.xlabel(col, size=14)\n",
        "    plt.ylabel('Count', size=14)\n",
        "    plt.show()"
      ],
      "execution_count": 24,
      "outputs": [
        {
          "output_type": "display_data",
          "data": {
            "image/png": "[encoded data removed]",
            "text/plain": [
              "<Figure size 864x360 with 1 Axes>"
            ]
          },
          "metadata": {
            "needs_background": "light"
          }
        },
        {
          "output_type": "display_data",
          "data": {
            "image/png": "[encoded data removed]",
            "text/plain": [
              "<Figure size 864x360 with 1 Axes>"
            ]
          },
          "metadata": {
            "needs_background": "light"
          }
        },
        {
          "output_type": "display_data",
          "data": {
            "image/png": "[encoded data removed]",
            "text/plain": [
              "<Figure size 864x360 with 1 Axes>"
            ]
          },
          "metadata": {
            "needs_background": "light"
          }
        },
        {
          "output_type": "display_data",
          "data": {
            "image/png": "[encoded data removed]",
            "text/plain": [
              "<Figure size 864x360 with 1 Axes>"
            ]
          },
          "metadata": {
            "needs_background": "light"
          }
        },
        {
          "output_type": "display_data",
          "data": {
            "image/png": "[encoded data removed]",
            "text/plain": [
              "<Figure size 864x360 with 1 Axes>"
            ]
          },
          "metadata": {
            "needs_background": "light"
          }
        }
      ]
    },
    {
      "cell_type": "code",
      "metadata": {
        "id": "OuPBhMxJ9Nyh"
      },
      "source": [
        "#fuction for finding the type of time\n",
        "def time_type(time):\n",
        "    if(time==4 or time==5 or time==6 or time==7 or time==8 or time==9 or time==10 or time==11):\n",
        "        return 'Morning'\n",
        "    elif(time==12 or time==13 or time==14 or time==15 or time==16 or time==17):\n",
        "        return 'Noon'\n",
        "    elif(time==16 or time==18 or time==19 or time==20):\n",
        "        return 'Evening'\n",
        "    else:\n",
        "        return 'Night'"
      ],
      "execution_count": 25,
      "outputs": []
    },
    {
      "cell_type": "code",
      "metadata": {
        "id": "04k_LQwe9Nyh"
      },
      "source": [
        "#applying the framed function on the data\n",
        "reviews_df['Time type'] = reviews_df['Hour'].apply(time_type)"
      ],
      "execution_count": 26,
      "outputs": []
    },
    {
      "cell_type": "code",
      "metadata": {
        "id": "HDmmH2YF9Nyh",
        "colab": {
          "base_uri": "https://localhost:8080/",
          "height": 356
        },
        "outputId": "20b6ad3e-5c0a-487d-f9fd-2dcf71901646"
      },
      "source": [
        "#plotting the time type data\n",
        "plt.figure(figsize=(12, 5))\n",
        "sns.countplot(reviews_df['Time type'])\n",
        "plt.title('Time Type and their value counts', size=16)\n",
        "plt.xlabel('Time Type', size=14)\n",
        "plt.ylabel('Count', size=14)\n",
        "plt.show()"
      ],
      "execution_count": 27,
      "outputs": [
        {
          "output_type": "display_data",
          "data": {
            "image/png": "[encoded data removed]",
            "text/plain": [
              "<Figure size 864x360 with 1 Axes>"
            ]
          },
          "metadata": {
            "needs_background": "light"
          }
        }
      ]
    },
    {
      "cell_type": "markdown",
      "metadata": {
        "id": "JTPf18sQ9Nyi"
      },
      "source": [
        "**Restaurants and Ratings**"
      ]
    },
    {
      "cell_type": "code",
      "metadata": {
        "id": "8ZwO_R719Nyi",
        "colab": {
          "base_uri": "https://localhost:8080/",
          "height": 356
        },
        "outputId": "6bcc1942-2af0-46a3-ed7c-f7631eab8580"
      },
      "source": [
        "#data of restaurants\n",
        "top_restaurants = reviews_df.groupby('Restaurant').agg({'Rating':'sum'}).sort_values(by='Rating',ascending=False)\n",
        "#top 10 restaurants\n",
        "top_10 = top_restaurants[:10]\n",
        "#plotting the data of top 10 restaurants\n",
        "top_10.plot(kind='barh', xlim=(400, 500), figsize=(10, 5))\n",
        "plt.title('Top 10 Rated Restaurants', size=16)\n",
        "plt.ylabel('Restaurant', size=14)\n",
        "plt.xlabel('Total Ratings', size=14)\n",
        "plt.show()"
      ],
      "execution_count": 28,
      "outputs": [
        {
          "output_type": "display_data",
          "data": {
            "image/png": "[encoded data removed]",
            "text/plain": [
              "<Figure size 720x360 with 1 Axes>"
            ]
          },
          "metadata": {
            "needs_background": "light"
          }
        }
      ]
    },
    {
      "cell_type": "code",
      "metadata": {
        "id": "v16HCtbT9Nyi",
        "colab": {
          "base_uri": "https://localhost:8080/"
        },
        "outputId": "1d31e2bb-9da9-4d82-dbfd-03cb1ddd95f0"
      },
      "source": [
        "#checking the shape for middle records of features\n",
        "top_restaurants.shape"
      ],
      "execution_count": 29,
      "outputs": [
        {
          "output_type": "execute_result",
          "data": {
            "text/plain": [
              "(100, 1)"
            ]
          },
          "metadata": {},
          "execution_count": 29
        }
      ]
    },
    {
      "cell_type": "code",
      "metadata": {
        "id": "jC4nbCD09Nyj",
        "colab": {
          "base_uri": "https://localhost:8080/",
          "height": 356
        },
        "outputId": "1b07bbd4-e55f-438a-cb30-59fb54ccc668"
      },
      "source": [
        "#restaurants ranges in middle\n",
        "avg_rated = top_restaurants[45:55]\n",
        "avg_rated.plot(kind='barh', xlim=(350, 370), figsize=(10, 5), color='orange')\n",
        "plt.title('Restaurants ranged in middle', size=16)\n",
        "plt.ylabel('Restaurant', size=14)\n",
        "plt.xlabel('Total Ratings', size=14)\n",
        "plt.show()"
      ],
      "execution_count": 30,
      "outputs": [
        {
          "output_type": "display_data",
          "data": {
            "image/png": "[encoded data removed]",
            "text/plain": [
              "<Figure size 720x360 with 1 Axes>"
            ]
          },
          "metadata": {
            "needs_background": "light"
          }
        }
      ]
    },
    {
      "cell_type": "code",
      "metadata": {
        "id": "l1XOehFr9Nyj",
        "colab": {
          "base_uri": "https://localhost:8080/",
          "height": 338
        },
        "outputId": "3382e6a9-b946-4e46-9088-c0c8124797ed"
      },
      "source": [
        "#least 10 restaurants\n",
        "last_10 = top_restaurants[-10:]\n",
        "last_10.plot(kind='barh', xlim=(230, 300), figsize=(10, 5), color='c')\n",
        "plt.title('Last 10 Rated Restaurants', size=16)\n",
        "plt.ylabel('Restaurant', size=14)\n",
        "plt.show()"
      ],
      "execution_count": 31,
      "outputs": [
        {
          "output_type": "display_data",
          "data": {
            "image/png": "[encoded data removed]",
            "text/plain": [
              "<Figure size 720x360 with 1 Axes>"
            ]
          },
          "metadata": {
            "needs_background": "light"
          }
        }
      ]
    },
    {
      "cell_type": "markdown",
      "metadata": {
        "id": "lniLoncj9Nyj"
      },
      "source": [
        "**Restaurants and Followers**"
      ]
    },
    {
      "cell_type": "code",
      "metadata": {
        "id": "3-BGDENz9Nyk",
        "colab": {
          "base_uri": "https://localhost:8080/",
          "height": 356
        },
        "outputId": "3d3921c0-57be-4417-9229-38b57a96645e"
      },
      "source": [
        "#data of restaurants\n",
        "followed_restaurants = reviews_df.groupby('Restaurant').agg({'Followers':'sum'}).sort_values(by='Followers',ascending=False)\n",
        "#top 10 restaurants\n",
        "top_10 = followed_restaurants[:10]\n",
        "top_10.plot(kind='barh',  figsize=(10, 5))\n",
        "plt.title('Top 10 Followed Restaurants', size=16)\n",
        "plt.ylabel('Restaurants', size=14)\n",
        "plt.xlabel('Total Followers', size=14)\n",
        "plt.show()"
      ],
      "execution_count": 32,
      "outputs": [
        {
          "output_type": "display_data",
          "data": {
            "image/png": "[encoded data removed]",
            "text/plain": [
              "<Figure size 720x360 with 1 Axes>"
            ]
          },
          "metadata": {
            "needs_background": "light"
          }
        }
      ]
    },
    {
      "cell_type": "code",
      "metadata": {
        "id": "guvJ9Nhl9Nyk",
        "colab": {
          "base_uri": "https://localhost:8080/",
          "height": 356
        },
        "outputId": "8b234489-7120-4cc6-aaee-c11ca1adb303"
      },
      "source": [
        "#plotting last 10 records\n",
        "least_10 = followed_restaurants[-10:]\n",
        "least_10.plot(kind='barh',  figsize=(10, 5))\n",
        "plt.title('Least 10 Followed Restaurants', size=16, )\n",
        "plt.ylabel('Restaurants', size=14)\n",
        "plt.xlabel('Total Followers', size=14)\n",
        "plt.show()"
      ],
      "execution_count": 33,
      "outputs": [
        {
          "output_type": "display_data",
          "data": {
            "image/png": "[encoded data removed]",
            "text/plain": [
              "<Figure size 720x360 with 1 Axes>"
            ]
          },
          "metadata": {
            "needs_background": "light"
          }
        }
      ]
    },
    {
      "cell_type": "markdown",
      "metadata": {
        "id": "mqcdy-xl9Nyk"
      },
      "source": [
        "**Restaurants and Pictures Posted**"
      ]
    },
    {
      "cell_type": "code",
      "metadata": {
        "id": "ag75aqni9Nyl",
        "colab": {
          "base_uri": "https://localhost:8080/",
          "height": 356
        },
        "outputId": "26fcb3cf-193f-4d9d-f891-025cf1222cfb"
      },
      "source": [
        "#data of restaurants with pictures posted in reviews\n",
        "pic_restaurants = reviews_df.groupby('Restaurant').agg({'Pictures':'sum'}).sort_values(by='Pictures',ascending=False)\n",
        "#top 10 restaurants\n",
        "top = pic_restaurants.head(10)\n",
        "#plotting the data of top 10 restaurants\n",
        "top.plot(kind='barh', figsize=(10, 5))\n",
        "plt.title('Top Restaurants with Pictures', size=16)\n",
        "plt.ylabel('Restaurant', size=14)\n",
        "plt.xlabel('Total Pictures', size=14)\n",
        "plt.show()"
      ],
      "execution_count": 34,
      "outputs": [
        {
          "output_type": "display_data",
          "data": {
            "image/png": "[encoded data removed]",
            "text/plain": [
              "<Figure size 720x360 with 1 Axes>"
            ]
          },
          "metadata": {
            "needs_background": "light"
          }
        }
      ]
    },
    {
      "cell_type": "code",
      "metadata": {
        "id": "nd1MSFnV9Nyl",
        "colab": {
          "base_uri": "https://localhost:8080/",
          "height": 356
        },
        "outputId": "321e50d5-bb4c-4b67-e288-933f0a79c2a8"
      },
      "source": [
        "#last 10 records\n",
        "least = pic_restaurants.tail(10)\n",
        "#plotting the data of least 10 restaurants\n",
        "least.plot(kind='barh', figsize=(10, 5))\n",
        "plt.title('Restaurants with Pictures', size=16)\n",
        "plt.ylabel('Restaurant', size=14)\n",
        "plt.xlabel('Total Pictures', size=14)\n",
        "plt.show()"
      ],
      "execution_count": 35,
      "outputs": [
        {
          "output_type": "display_data",
          "data": {
            "image/png": "[encoded data removed]",
            "text/plain": [
              "<Figure size 720x360 with 1 Axes>"
            ]
          },
          "metadata": {
            "needs_background": "light"
          }
        }
      ]
    },
    {
      "cell_type": "markdown",
      "metadata": {
        "id": "z7Q1mFjA9Nyl"
      },
      "source": [
        "**Reviewers and Followers**"
      ]
    },
    {
      "cell_type": "code",
      "metadata": {
        "id": "YUhGFKeT9Nym",
        "colab": {
          "base_uri": "https://localhost:8080/",
          "height": 363
        },
        "outputId": "86112255-9f05-48d6-bae9-a0046dc67449"
      },
      "source": [
        "#finding the total number of reviewrs and followers\n",
        "ratings = reviews_df.groupby('Rating').agg({'Reviewrs':sum, 'Followers':sum})\n",
        "ratings"
      ],
      "execution_count": 36,
      "outputs": [
        {
          "output_type": "execute_result",
          "data": {
            "text/html": [
              "<div>\n",
              "<style scoped>\n",
              "    .dataframe tbody tr th:only-of-type {\n",
              "        vertical-align: middle;\n",
              "    }\n",
              "\n",
              "    .dataframe tbody tr th {\n",
              "        vertical-align: top;\n",
              "    }\n",
              "\n",
              "    .dataframe thead th {\n",
              "        text-align: right;\n",
              "    }\n",
              "</style>\n",
              "<table border=\"1\" class=\"dataframe\">\n",
              "  <thead>\n",
              "    <tr style=\"text-align: right;\">\n",
              "      <th></th>\n",
              "      <th>Reviewrs</th>\n",
              "      <th>Followers</th>\n",
              "    </tr>\n",
              "    <tr>\n",
              "      <th>Rating</th>\n",
              "      <th></th>\n",
              "      <th></th>\n",
              "    </tr>\n",
              "  </thead>\n",
              "  <tbody>\n",
              "    <tr>\n",
              "      <th>1.0</th>\n",
              "      <td>13165</td>\n",
              "      <td>84228.0</td>\n",
              "    </tr>\n",
              "    <tr>\n",
              "      <th>1.5</th>\n",
              "      <td>457</td>\n",
              "      <td>3381.0</td>\n",
              "    </tr>\n",
              "    <tr>\n",
              "      <th>2.0</th>\n",
              "      <td>15234</td>\n",
              "      <td>99521.0</td>\n",
              "    </tr>\n",
              "    <tr>\n",
              "      <th>2.5</th>\n",
              "      <td>985</td>\n",
              "      <td>4997.0</td>\n",
              "    </tr>\n",
              "    <tr>\n",
              "      <th>3.0</th>\n",
              "      <td>47320</td>\n",
              "      <td>276104.0</td>\n",
              "    </tr>\n",
              "    <tr>\n",
              "      <th>3.5</th>\n",
              "      <td>5289</td>\n",
              "      <td>25045.0</td>\n",
              "    </tr>\n",
              "    <tr>\n",
              "      <th>4.0</th>\n",
              "      <td>101115</td>\n",
              "      <td>679406.0</td>\n",
              "    </tr>\n",
              "    <tr>\n",
              "      <th>4.5</th>\n",
              "      <td>4067</td>\n",
              "      <td>34892.0</td>\n",
              "    </tr>\n",
              "    <tr>\n",
              "      <th>5.0</th>\n",
              "      <td>51343</td>\n",
              "      <td>416146.0</td>\n",
              "    </tr>\n",
              "  </tbody>\n",
              "</table>\n",
              "</div>"
            ],
            "text/plain": [
              "        Reviewrs  Followers\n",
              "Rating                     \n",
              "1.0        13165    84228.0\n",
              "1.5          457     3381.0\n",
              "2.0        15234    99521.0\n",
              "2.5          985     4997.0\n",
              "3.0        47320   276104.0\n",
              "3.5         5289    25045.0\n",
              "4.0       101115   679406.0\n",
              "4.5         4067    34892.0\n",
              "5.0        51343   416146.0"
            ]
          },
          "metadata": {},
          "execution_count": 36
        }
      ]
    },
    {
      "cell_type": "code",
      "metadata": {
        "id": "etxI2fEv9Nym",
        "colab": {
          "base_uri": "https://localhost:8080/",
          "height": 362
        },
        "outputId": "9a9e6398-86bb-4ec0-b407-56718333223e"
      },
      "source": [
        "#plotting the data of ratings\n",
        "ratings.plot(kind='bar', figsize=(12, 5))\n",
        "plt.title('Reviewrs and Followers for the Restaurant', size=16)\n",
        "plt.xlabel('Ratings', size=14)\n",
        "plt.ylabel('Total Number of Reviewers and Followers', size=14)\n",
        "plt.show()"
      ],
      "execution_count": 37,
      "outputs": [
        {
          "output_type": "display_data",
          "data": {
            "image/png": "[encoded data removed]",
            "text/plain": [
              "<Figure size 864x360 with 1 Axes>"
            ]
          },
          "metadata": {
            "needs_background": "light"
          }
        }
      ]
    },
    {
      "cell_type": "markdown",
      "metadata": {
        "id": "bmK4nHNB9Nym"
      },
      "source": [
        "**Reviewers**"
      ]
    },
    {
      "cell_type": "code",
      "metadata": {
        "id": "GlvI_cEn9Nyn",
        "colab": {
          "base_uri": "https://localhost:8080/",
          "height": 394
        },
        "outputId": "8dc51800-691d-40b1-8106-ff7c86acb659"
      },
      "source": [
        "#gathering the data of reviewers\n",
        "top_reviewers = reviews_df.groupby('Reviewer').agg({'Rating':'sum'}).sort_values(by='Rating',ascending=False)\n",
        "top_10 = top_reviewers[:10]\n",
        "top_10"
      ],
      "execution_count": 38,
      "outputs": [
        {
          "output_type": "execute_result",
          "data": {
            "text/html": [
              "<div>\n",
              "<style scoped>\n",
              "    .dataframe tbody tr th:only-of-type {\n",
              "        vertical-align: middle;\n",
              "    }\n",
              "\n",
              "    .dataframe tbody tr th {\n",
              "        vertical-align: top;\n",
              "    }\n",
              "\n",
              "    .dataframe thead th {\n",
              "        text-align: right;\n",
              "    }\n",
              "</style>\n",
              "<table border=\"1\" class=\"dataframe\">\n",
              "  <thead>\n",
              "    <tr style=\"text-align: right;\">\n",
              "      <th></th>\n",
              "      <th>Rating</th>\n",
              "    </tr>\n",
              "    <tr>\n",
              "      <th>Reviewer</th>\n",
              "      <th></th>\n",
              "    </tr>\n",
              "  </thead>\n",
              "  <tbody>\n",
              "    <tr>\n",
              "      <th>Kiran</th>\n",
              "      <td>54.0</td>\n",
              "    </tr>\n",
              "    <tr>\n",
              "      <th>Ankita</th>\n",
              "      <td>51.0</td>\n",
              "    </tr>\n",
              "    <tr>\n",
              "      <th>Vedant Killa</th>\n",
              "      <td>44.0</td>\n",
              "    </tr>\n",
              "    <tr>\n",
              "      <th>Kumar</th>\n",
              "      <td>42.0</td>\n",
              "    </tr>\n",
              "    <tr>\n",
              "      <th>Parijat Ray</th>\n",
              "      <td>41.5</td>\n",
              "    </tr>\n",
              "    <tr>\n",
              "      <th>Jay Mehta</th>\n",
              "      <td>41.0</td>\n",
              "    </tr>\n",
              "    <tr>\n",
              "      <th>Sravani</th>\n",
              "      <td>40.0</td>\n",
              "    </tr>\n",
              "    <tr>\n",
              "      <th>Prachita Jayaswal</th>\n",
              "      <td>39.0</td>\n",
              "    </tr>\n",
              "    <tr>\n",
              "      <th>Aman Agarwal</th>\n",
              "      <td>38.0</td>\n",
              "    </tr>\n",
              "    <tr>\n",
              "      <th>Manojkumar D Nambisan</th>\n",
              "      <td>37.0</td>\n",
              "    </tr>\n",
              "  </tbody>\n",
              "</table>\n",
              "</div>"
            ],
            "text/plain": [
              "                       Rating\n",
              "Reviewer                     \n",
              "Kiran                    54.0\n",
              "Ankita                   51.0\n",
              "Vedant Killa             44.0\n",
              "Kumar                    42.0\n",
              "Parijat Ray              41.5\n",
              "Jay Mehta                41.0\n",
              "Sravani                  40.0\n",
              "Prachita Jayaswal        39.0\n",
              "Aman Agarwal             38.0\n",
              "Manojkumar D Nambisan    37.0"
            ]
          },
          "metadata": {},
          "execution_count": 38
        }
      ]
    },
    {
      "cell_type": "code",
      "metadata": {
        "id": "A61KgJ2n9Nyn",
        "colab": {
          "base_uri": "https://localhost:8080/",
          "height": 338
        },
        "outputId": "1b37e900-d7eb-4f4f-fc92-fab3d2d1bb56"
      },
      "source": [
        "#plotting the data of top reviewers\n",
        "top_10.plot(kind='barh', xlim=(35, 60), figsize=(10, 5))\n",
        "plt.title('Top 10 Rated Reviewers', size=16)\n",
        "plt.ylabel('Reviewers', size=14)\n",
        "plt.show()"
      ],
      "execution_count": 39,
      "outputs": [
        {
          "output_type": "display_data",
          "data": {
            "image/png": "[encoded data removed]",
            "text/plain": [
              "<Figure size 720x360 with 1 Axes>"
            ]
          },
          "metadata": {
            "needs_background": "light"
          }
        }
      ]
    },
    {
      "cell_type": "code",
      "metadata": {
        "id": "Z5pbtNiR9Nyn",
        "colab": {
          "base_uri": "https://localhost:8080/",
          "height": 338
        },
        "outputId": "5e404e86-c229-4c45-ec49-d658179061f7"
      },
      "source": [
        "#least reviewers\n",
        "last_10 = top_reviewers[-10:]\n",
        "last_10.plot(kind='barh', xlim=(0, 3), figsize=(10, 5), color='c')\n",
        "plt.title('Last 10 Rated Reviewers', size=16)\n",
        "plt.ylabel('Reviewers', size=14)\n",
        "plt.show()"
      ],
      "execution_count": 40,
      "outputs": [
        {
          "output_type": "display_data",
          "data": {
            "image/png": "[encoded data removed]",
            "text/plain": [
              "<Figure size 720x360 with 1 Axes>"
            ]
          },
          "metadata": {
            "needs_background": "light"
          }
        }
      ]
    },
    {
      "cell_type": "code",
      "metadata": {
        "id": "XDfcQS8V9Nyo"
      },
      "source": [
        "#defining the stopwords\n",
        "stopwords = nltk.corpus.stopwords\n",
        "\n",
        "#defining the preprocessing\n",
        "def txt_processing(text):\n",
        "    #removing the punctuations\n",
        "    no_punc = [char for char in text if char not in string.punctuation]\n",
        "    no_punc = \"\".join(no_punc)\n",
        "    #removing stopwords\n",
        "    return \" \".join([word for word in no_punc.split() if word.lower not in stopwords.words('english')])"
      ],
      "execution_count": 41,
      "outputs": []
    },
    {
      "cell_type": "code",
      "metadata": {
        "id": "qyf67Wif9Nyo",
        "colab": {
          "base_uri": "https://localhost:8080/"
        },
        "outputId": "6af42a49-3f34-4500-df1d-50c3b1d04502"
      },
      "source": [
        "#applying the text preprocessing fuction\n",
        "reviews_df['Review'] = reviews_df['Review'].apply(lambda text: txt_processing(text))\n",
        "#top 10 records after processing\n",
        "reviews_df['Review'].head(10)"
      ],
      "execution_count": 42,
      "outputs": [
        {
          "output_type": "execute_result",
          "data": {
            "text/plain": [
              "0    The ambience was good food was quite good had ...\n",
              "1    Ambience is too good for a pleasant evening Se...\n",
              "2    A must try great food great ambience Thnx for ...\n",
              "3    Soumen das and Arun was a great guy Only becau...\n",
              "4    Food is goodwe ordered Kodi drumsticks and bas...\n",
              "5    Ambiance is good service is good food is aPrad...\n",
              "6    Its a very nice place ambience is different al...\n",
              "7    Well after reading so many reviews finally vis...\n",
              "8    Excellent food specially if you like spicy foo...\n",
              "9    Came for the birthday treat of a close friend ...\n",
              "Name: Review, dtype: object"
            ]
          },
          "metadata": {},
          "execution_count": 42
        }
      ]
    },
    {
      "cell_type": "code",
      "metadata": {
        "id": "ScpdDL_r9Nyo"
      },
      "source": [
        "#dictionary of reviews\n",
        "reviews_dict = {}\n",
        "for word in reviews_df['Review']:\n",
        "    for char in word.split(', '):\n",
        "        if char in reviews_dict:\n",
        "            reviews_dict[char] = reviews_dict[char]+1\n",
        "        else:\n",
        "            reviews_dict[char] = 1"
      ],
      "execution_count": 43,
      "outputs": []
    },
    {
      "cell_type": "code",
      "metadata": {
        "id": "X2HWIlGM9Nyp",
        "colab": {
          "base_uri": "https://localhost:8080/",
          "height": 206
        },
        "outputId": "b8ff47f9-2d58-4176-b39c-75473e392c37"
      },
      "source": [
        "#dataframe of words in the reviews\n",
        "review_df = pd.DataFrame(reviews_dict.items(), columns=['Review', 'Count']).sort_values('Count', ascending=False)\n",
        "#first 5 records of the dataframe\n",
        "review_df.head()"
      ],
      "execution_count": 44,
      "outputs": [
        {
          "output_type": "execute_result",
          "data": {
            "text/html": [
              "<div>\n",
              "<style scoped>\n",
              "    .dataframe tbody tr th:only-of-type {\n",
              "        vertical-align: middle;\n",
              "    }\n",
              "\n",
              "    .dataframe tbody tr th {\n",
              "        vertical-align: top;\n",
              "    }\n",
              "\n",
              "    .dataframe thead th {\n",
              "        text-align: right;\n",
              "    }\n",
              "</style>\n",
              "<table border=\"1\" class=\"dataframe\">\n",
              "  <thead>\n",
              "    <tr style=\"text-align: right;\">\n",
              "      <th></th>\n",
              "      <th>Review</th>\n",
              "      <th>Count</th>\n",
              "    </tr>\n",
              "  </thead>\n",
              "  <tbody>\n",
              "    <tr>\n",
              "      <th>785</th>\n",
              "      <td>good</td>\n",
              "      <td>239</td>\n",
              "    </tr>\n",
              "    <tr>\n",
              "      <th>1566</th>\n",
              "      <td>Good</td>\n",
              "      <td>50</td>\n",
              "    </tr>\n",
              "    <tr>\n",
              "      <th>1581</th>\n",
              "      <td>nice</td>\n",
              "      <td>30</td>\n",
              "    </tr>\n",
              "    <tr>\n",
              "      <th>1900</th>\n",
              "      <td>very good</td>\n",
              "      <td>23</td>\n",
              "    </tr>\n",
              "    <tr>\n",
              "      <th>791</th>\n",
              "      <td>excellent</td>\n",
              "      <td>20</td>\n",
              "    </tr>\n",
              "  </tbody>\n",
              "</table>\n",
              "</div>"
            ],
            "text/plain": [
              "         Review  Count\n",
              "785        good    239\n",
              "1566       Good     50\n",
              "1581       nice     30\n",
              "1900  very good     23\n",
              "791   excellent     20"
            ]
          },
          "metadata": {},
          "execution_count": 44
        }
      ]
    },
    {
      "cell_type": "markdown",
      "metadata": {
        "id": "AmmmESok9Nyp"
      },
      "source": [
        "**Restaurant Names Data Frame**"
      ]
    },
    {
      "cell_type": "code",
      "metadata": {
        "id": "gZj5rD409Nyp",
        "colab": {
          "base_uri": "https://localhost:8080/",
          "height": 311
        },
        "outputId": "0d9449ee-239c-4117-aad9-fd10ac0dd2aa"
      },
      "source": [
        "#loading the zomato restaurant dataset \n",
        "names_df = pd.read_csv('/content/drive/MyDrive/zomato/Zomato Restaurant names and Metadata.csv')\n",
        "print('Restaurent names dataframe:')\n",
        "names_df.head()"
      ],
      "execution_count": 45,
      "outputs": [
        {
          "output_type": "stream",
          "name": "stdout",
          "text": [
            "Restaurent names dataframe:\n"
          ]
        },
        {
          "output_type": "execute_result",
          "data": {
            "text/html": [
              "<div>\n",
              "<style scoped>\n",
              "    .dataframe tbody tr th:only-of-type {\n",
              "        vertical-align: middle;\n",
              "    }\n",
              "\n",
              "    .dataframe tbody tr th {\n",
              "        vertical-align: top;\n",
              "    }\n",
              "\n",
              "    .dataframe thead th {\n",
              "        text-align: right;\n",
              "    }\n",
              "</style>\n",
              "<table border=\"1\" class=\"dataframe\">\n",
              "  <thead>\n",
              "    <tr style=\"text-align: right;\">\n",
              "      <th></th>\n",
              "      <th>Name</th>\n",
              "      <th>Links</th>\n",
              "      <th>Cost</th>\n",
              "      <th>Collections</th>\n",
              "      <th>Cuisines</th>\n",
              "      <th>Timings</th>\n",
              "    </tr>\n",
              "  </thead>\n",
              "  <tbody>\n",
              "    <tr>\n",
              "      <th>0</th>\n",
              "      <td>Beyond Flavours</td>\n",
              "      <td>https://www.zomato.com/hyderabad/beyond-flavou...</td>\n",
              "      <td>800</td>\n",
              "      <td>Food Hygiene Rated Restaurants in Hyderabad, C...</td>\n",
              "      <td>Chinese, Continental, Kebab, European, South I...</td>\n",
              "      <td>12noon to 3:30pm, 6:30pm to 11:30pm (Mon-Sun)</td>\n",
              "    </tr>\n",
              "    <tr>\n",
              "      <th>1</th>\n",
              "      <td>Paradise</td>\n",
              "      <td>https://www.zomato.com/hyderabad/paradise-gach...</td>\n",
              "      <td>800</td>\n",
              "      <td>Hyderabad's Hottest</td>\n",
              "      <td>Biryani, North Indian, Chinese</td>\n",
              "      <td>11 AM to 11 PM</td>\n",
              "    </tr>\n",
              "    <tr>\n",
              "      <th>2</th>\n",
              "      <td>Flechazo</td>\n",
              "      <td>https://www.zomato.com/hyderabad/flechazo-gach...</td>\n",
              "      <td>1,300</td>\n",
              "      <td>Great Buffets, Hyderabad's Hottest</td>\n",
              "      <td>Asian, Mediterranean, North Indian, Desserts</td>\n",
              "      <td>11:30 AM to 4:30 PM, 6:30 PM to 11 PM</td>\n",
              "    </tr>\n",
              "    <tr>\n",
              "      <th>3</th>\n",
              "      <td>Shah Ghouse Hotel &amp; Restaurant</td>\n",
              "      <td>https://www.zomato.com/hyderabad/shah-ghouse-h...</td>\n",
              "      <td>800</td>\n",
              "      <td>Late Night Restaurants</td>\n",
              "      <td>Biryani, North Indian, Chinese, Seafood, Bever...</td>\n",
              "      <td>12 Noon to 2 AM</td>\n",
              "    </tr>\n",
              "    <tr>\n",
              "      <th>4</th>\n",
              "      <td>Over The Moon Brew Company</td>\n",
              "      <td>https://www.zomato.com/hyderabad/over-the-moon...</td>\n",
              "      <td>1,200</td>\n",
              "      <td>Best Bars &amp; Pubs, Food Hygiene Rated Restauran...</td>\n",
              "      <td>Asian, Continental, North Indian, Chinese, Med...</td>\n",
              "      <td>12noon to 11pm (Mon, Tue, Wed, Thu, Sun), 12no...</td>\n",
              "    </tr>\n",
              "  </tbody>\n",
              "</table>\n",
              "</div>"
            ],
            "text/plain": [
              "                             Name  ...                                            Timings\n",
              "0                 Beyond Flavours  ...      12noon to 3:30pm, 6:30pm to 11:30pm (Mon-Sun)\n",
              "1                        Paradise  ...                                     11 AM to 11 PM\n",
              "2                        Flechazo  ...              11:30 AM to 4:30 PM, 6:30 PM to 11 PM\n",
              "3  Shah Ghouse Hotel & Restaurant  ...                                    12 Noon to 2 AM\n",
              "4      Over The Moon Brew Company  ...  12noon to 11pm (Mon, Tue, Wed, Thu, Sun), 12no...\n",
              "\n",
              "[5 rows x 6 columns]"
            ]
          },
          "metadata": {},
          "execution_count": 45
        }
      ]
    },
    {
      "cell_type": "markdown",
      "metadata": {
        "id": "WjGOXaIg9Nyq"
      },
      "source": [
        "**Data Cleaning**"
      ]
    },
    {
      "cell_type": "code",
      "metadata": {
        "id": "jMGMj-LQ9Nyq",
        "colab": {
          "base_uri": "https://localhost:8080/",
          "height": 633
        },
        "outputId": "bc63166d-cbc7-4301-8d4a-f79e78d993cd"
      },
      "source": [
        "#checking for null values\n",
        "msno.bar(names_df, color='gray')\n",
        "plt.title('Checking for NaN values', size=16)\n",
        "plt.xlabel('Columns', size=14)\n",
        "plt.show()"
      ],
      "execution_count": 46,
      "outputs": [
        {
          "output_type": "display_data",
          "data": {
            "image/png": "[encoded data removed]",
            "text/plain": [
              "<Figure size 1800x720 with 3 Axes>"
            ]
          },
          "metadata": {
            "needs_background": "light"
          }
        }
      ]
    },
    {
      "cell_type": "markdown",
      "metadata": {
        "id": "fn5rE57Q9Nyq"
      },
      "source": [
        "* Collections feature is having the NaN values\n",
        "* Dropping the feature"
      ]
    },
    {
      "cell_type": "markdown",
      "metadata": {
        "id": "HuSFLSVu9Nyq"
      },
      "source": [
        "**Changing the Cost feature in th dataset**"
      ]
    },
    {
      "cell_type": "code",
      "metadata": {
        "id": "AHtb_6mR9Nyr"
      },
      "source": [
        "#replacing , in the feature\n",
        "names_df['Cost'] = names_df['Cost'].str.replace(',','').astype(int)"
      ],
      "execution_count": 47,
      "outputs": []
    },
    {
      "cell_type": "code",
      "metadata": {
        "id": "4r0r_HZK9Nyr",
        "colab": {
          "base_uri": "https://localhost:8080/"
        },
        "outputId": "13339a3f-7e34-4d3b-b48b-209a963dbc7a"
      },
      "source": [
        "#information of datatypes\n",
        "names_df.info()"
      ],
      "execution_count": 48,
      "outputs": [
        {
          "output_type": "stream",
          "name": "stdout",
          "text": [
            "<class 'pandas.core.frame.DataFrame'>\n",
            "RangeIndex: 105 entries, 0 to 104\n",
            "Data columns (total 6 columns):\n",
            " #   Column       Non-Null Count  Dtype \n",
            "---  ------       --------------  ----- \n",
            " 0   Name         105 non-null    object\n",
            " 1   Links        105 non-null    object\n",
            " 2   Cost         105 non-null    int64 \n",
            " 3   Collections  51 non-null     object\n",
            " 4   Cuisines     105 non-null    object\n",
            " 5   Timings      104 non-null    object\n",
            "dtypes: int64(1), object(5)\n",
            "memory usage: 5.0+ KB\n"
          ]
        }
      ]
    },
    {
      "cell_type": "code",
      "metadata": {
        "id": "k4kmYLSG9Nyr",
        "colab": {
          "base_uri": "https://localhost:8080/"
        },
        "outputId": "ca775e1c-e4d9-40d3-9971-5dd07929a1c3"
      },
      "source": [
        "#number of unique values\n",
        "names_df.nunique()"
      ],
      "execution_count": 49,
      "outputs": [
        {
          "output_type": "execute_result",
          "data": {
            "text/plain": [
              "Name           105\n",
              "Links          105\n",
              "Cost            29\n",
              "Collections     42\n",
              "Cuisines        92\n",
              "Timings         77\n",
              "dtype: int64"
            ]
          },
          "metadata": {},
          "execution_count": 49
        }
      ]
    },
    {
      "cell_type": "markdown",
      "metadata": {
        "id": "dsqiKhZa9Nys"
      },
      "source": [
        "**Filling the null value in Timings feature**"
      ]
    },
    {
      "cell_type": "code",
      "metadata": {
        "id": "qVMcYli79Nys"
      },
      "source": [
        "#finding the mode of the feature\n",
        "z = names_df['Timings'].mode()[0]\n",
        "#filling the null values\n",
        "names_df['Timings'] = names_df['Timings'].fillna(z)\n",
        "#dropping the nan values features\n",
        "names_df.drop('Collections', axis=1, inplace=True)"
      ],
      "execution_count": 50,
      "outputs": []
    },
    {
      "cell_type": "code",
      "metadata": {
        "id": "JPob4MSQ9Nys",
        "colab": {
          "base_uri": "https://localhost:8080/",
          "height": 356
        },
        "outputId": "72750abd-e091-4586-b25a-442e31a4d67b"
      },
      "source": [
        "#heatmap of data frame\n",
        "plt.figure(figsize=(12, 5))\n",
        "sns.heatmap(names_df.isnull(), yticklabels=False)\n",
        "plt.title('Heatmap of NaN values', size=16)\n",
        "plt.xlabel('Columns', size=14)\n",
        "plt.show()"
      ],
      "execution_count": 51,
      "outputs": [
        {
          "output_type": "display_data",
          "data": {
            "image/png": "[encoded data removed]",
            "text/plain": [
              "<Figure size 864x360 with 2 Axes>"
            ]
          },
          "metadata": {
            "needs_background": "light"
          }
        }
      ]
    },
    {
      "cell_type": "code",
      "metadata": {
        "id": "ztaTrf9K9Nyt",
        "colab": {
          "base_uri": "https://localhost:8080/"
        },
        "outputId": "b224c3e1-b451-49c7-fc84-821c265993ec"
      },
      "source": [
        "#shape of the names dataframe\n",
        "names_df.shape"
      ],
      "execution_count": 52,
      "outputs": [
        {
          "output_type": "execute_result",
          "data": {
            "text/plain": [
              "(105, 5)"
            ]
          },
          "metadata": {},
          "execution_count": 52
        }
      ]
    },
    {
      "cell_type": "markdown",
      "metadata": {
        "id": "ifQDMbAy9Nyt"
      },
      "source": [
        "**Analysis on Cost Feature**"
      ]
    },
    {
      "cell_type": "code",
      "metadata": {
        "id": "QdO3qwZQ9Nyt",
        "colab": {
          "base_uri": "https://localhost:8080/",
          "height": 356
        },
        "outputId": "ba1af936-5625-473e-e2a5-f09ec02c29f6"
      },
      "source": [
        "#finding total of costs on the restaurant names\n",
        "cost = names_df.groupby(['Name'])['Cost'].sum().sort_values(ascending=False)\n",
        "high_cost = cost.head(10)\n",
        "\n",
        "#plotting of data\n",
        "high_cost.plot(kind='barh', figsize=(12,5), color='red')\n",
        "plt.title('Restaurant with high Cost', size=16)\n",
        "plt.xlabel('Cost', size=14)\n",
        "plt.ylabel('Name', size=14)\n",
        "plt.show()"
      ],
      "execution_count": 53,
      "outputs": [
        {
          "output_type": "display_data",
          "data": {
            "image/png": "[encoded data removed]",
            "text/plain": [
              "<Figure size 864x360 with 1 Axes>"
            ]
          },
          "metadata": {
            "needs_background": "light"
          }
        }
      ]
    },
    {
      "cell_type": "code",
      "metadata": {
        "id": "Ei0HhCgQ9Nyu",
        "colab": {
          "base_uri": "https://localhost:8080/",
          "height": 356
        },
        "outputId": "46f8bbd8-da0d-4b98-eb61-c8707030eb52"
      },
      "source": [
        "#plotting of the cheapest restuarants\n",
        "low_cost = cost.tail(10)\n",
        "low_cost.plot(kind='barh', figsize=(12,5), color='green')\n",
        "plt.title('Restaurant with low Cost', size=16)\n",
        "plt.xlabel('Cost', size=14)\n",
        "plt.ylabel('Name', size=14)\n",
        "plt.show()"
      ],
      "execution_count": 54,
      "outputs": [
        {
          "output_type": "display_data",
          "data": {
            "image/png": "[encoded data removed]",
            "text/plain": [
              "<Figure size 864x360 with 1 Axes>"
            ]
          },
          "metadata": {
            "needs_background": "light"
          }
        }
      ]
    },
    {
      "cell_type": "markdown",
      "metadata": {
        "id": "zp0JaxbX9Nyu"
      },
      "source": [
        "**Analysis on Cuisines**"
      ]
    },
    {
      "cell_type": "code",
      "metadata": {
        "id": "Ez7QYiyD9Nyu"
      },
      "source": [
        "#dictionary of dishes in restuarant\n",
        "cuisines_dict = {}\n",
        "for cuisine in names_df['Cuisines']:\n",
        "    for name in cuisine.split(', '):\n",
        "        if name in cuisines_dict:\n",
        "            cuisines_dict[name] = cuisines_dict[name]+1\n",
        "        else:\n",
        "            cuisines_dict[name] = 1"
      ],
      "execution_count": 55,
      "outputs": []
    },
    {
      "cell_type": "code",
      "metadata": {
        "id": "exP5yUPO9Nyv",
        "colab": {
          "base_uri": "https://localhost:8080/",
          "height": 206
        },
        "outputId": "530d0ea1-cd05-417f-eaf5-0d5d61eee963"
      },
      "source": [
        "#dataframe of the variaties of disehes\n",
        "cuisine_df = pd.DataFrame(cuisines_dict.items(), columns=['Cuisine', 'Count']).sort_values('Count', ascending=False)\n",
        "cuisine_df.head()"
      ],
      "execution_count": 56,
      "outputs": [
        {
          "output_type": "execute_result",
          "data": {
            "text/html": [
              "<div>\n",
              "<style scoped>\n",
              "    .dataframe tbody tr th:only-of-type {\n",
              "        vertical-align: middle;\n",
              "    }\n",
              "\n",
              "    .dataframe tbody tr th {\n",
              "        vertical-align: top;\n",
              "    }\n",
              "\n",
              "    .dataframe thead th {\n",
              "        text-align: right;\n",
              "    }\n",
              "</style>\n",
              "<table border=\"1\" class=\"dataframe\">\n",
              "  <thead>\n",
              "    <tr style=\"text-align: right;\">\n",
              "      <th></th>\n",
              "      <th>Cuisine</th>\n",
              "      <th>Count</th>\n",
              "    </tr>\n",
              "  </thead>\n",
              "  <tbody>\n",
              "    <tr>\n",
              "      <th>5</th>\n",
              "      <td>North Indian</td>\n",
              "      <td>61</td>\n",
              "    </tr>\n",
              "    <tr>\n",
              "      <th>0</th>\n",
              "      <td>Chinese</td>\n",
              "      <td>43</td>\n",
              "    </tr>\n",
              "    <tr>\n",
              "      <th>1</th>\n",
              "      <td>Continental</td>\n",
              "      <td>21</td>\n",
              "    </tr>\n",
              "    <tr>\n",
              "      <th>6</th>\n",
              "      <td>Biryani</td>\n",
              "      <td>16</td>\n",
              "    </tr>\n",
              "    <tr>\n",
              "      <th>18</th>\n",
              "      <td>Fast Food</td>\n",
              "      <td>15</td>\n",
              "    </tr>\n",
              "  </tbody>\n",
              "</table>\n",
              "</div>"
            ],
            "text/plain": [
              "         Cuisine  Count\n",
              "5   North Indian     61\n",
              "0        Chinese     43\n",
              "1    Continental     21\n",
              "6        Biryani     16\n",
              "18     Fast Food     15"
            ]
          },
          "metadata": {},
          "execution_count": 56
        }
      ]
    },
    {
      "cell_type": "code",
      "metadata": {
        "id": "jZe5wBoG9Nyv",
        "colab": {
          "base_uri": "https://localhost:8080/",
          "height": 356
        },
        "outputId": "eab0b1aa-8307-4699-87ff-cb079bd4a120"
      },
      "source": [
        "#plotting of cuisines data of top orders\n",
        "plt.figure(figsize=(12, 5))\n",
        "sns.barplot(x=cuisine_df['Cuisine'][:10], y=cuisine_df['Count'][:10])\n",
        "plt.title('Frequently Ordered', size=16)\n",
        "plt.xlabel('Cuisine', size=14)\n",
        "plt.ylabel('Count', size=14)\n",
        "plt.show()"
      ],
      "execution_count": 57,
      "outputs": [
        {
          "output_type": "display_data",
          "data": {
            "image/png": "[encoded data removed]",
            "text/plain": [
              "<Figure size 864x360 with 1 Axes>"
            ]
          },
          "metadata": {
            "needs_background": "light"
          }
        }
      ]
    },
    {
      "cell_type": "code",
      "metadata": {
        "id": "vnN7ZKgj9Nyv",
        "colab": {
          "base_uri": "https://localhost:8080/",
          "height": 356
        },
        "outputId": "7ead49c2-cb51-4279-d8ac-bba7129c4163"
      },
      "source": [
        "#plotting of cuisines data of least orders\n",
        "plt.figure(figsize=(12, 5))\n",
        "sns.barplot(x=cuisine_df['Cuisine'][-10:], y=cuisine_df['Count'][-10:])\n",
        "plt.title('Ordered Less', size=16)\n",
        "plt.xlabel('Cuisine', size=14)\n",
        "plt.ylabel('Count', size=14)\n",
        "plt.show()"
      ],
      "execution_count": 58,
      "outputs": [
        {
          "output_type": "display_data",
          "data": {
            "image/png": "[encoded data removed]",
            "text/plain": [
              "<Figure size 864x360 with 1 Axes>"
            ]
          },
          "metadata": {
            "needs_background": "light"
          }
        }
      ]
    },
    {
      "cell_type": "markdown",
      "metadata": {
        "id": "X4fJy9m2CsSo"
      },
      "source": [
        "# **Data Preparation**"
      ]
    },
    {
      "cell_type": "code",
      "metadata": {
        "id": "HyAFMjpV9Nyw",
        "colab": {
          "base_uri": "https://localhost:8080/",
          "height": 553
        },
        "outputId": "f7e5fb1e-6ef1-4bc2-a7c3-d19414c785d8"
      },
      "source": [
        "#merging 2 dataframes\n",
        "df = pd.merge(reviews_df, names_df, how='outer', right_on='Name', left_on='Restaurant')\n",
        "#droppin links feature\n",
        "df.drop(columns=['Links', 'Time type'], axis=1, inplace=True)\n",
        "#first 5 records of merged dataframe\n",
        "df.head()"
      ],
      "execution_count": 59,
      "outputs": [
        {
          "output_type": "execute_result",
          "data": {
            "text/html": [
              "<div>\n",
              "<style scoped>\n",
              "    .dataframe tbody tr th:only-of-type {\n",
              "        vertical-align: middle;\n",
              "    }\n",
              "\n",
              "    .dataframe tbody tr th {\n",
              "        vertical-align: top;\n",
              "    }\n",
              "\n",
              "    .dataframe thead th {\n",
              "        text-align: right;\n",
              "    }\n",
              "</style>\n",
              "<table border=\"1\" class=\"dataframe\">\n",
              "  <thead>\n",
              "    <tr style=\"text-align: right;\">\n",
              "      <th></th>\n",
              "      <th>Restaurant</th>\n",
              "      <th>Reviewer</th>\n",
              "      <th>Review</th>\n",
              "      <th>Rating</th>\n",
              "      <th>Pictures</th>\n",
              "      <th>Reviewrs</th>\n",
              "      <th>Followers</th>\n",
              "      <th>Date</th>\n",
              "      <th>Month</th>\n",
              "      <th>Year</th>\n",
              "      <th>Day</th>\n",
              "      <th>Hour</th>\n",
              "      <th>Name</th>\n",
              "      <th>Cost</th>\n",
              "      <th>Cuisines</th>\n",
              "      <th>Timings</th>\n",
              "    </tr>\n",
              "  </thead>\n",
              "  <tbody>\n",
              "    <tr>\n",
              "      <th>0</th>\n",
              "      <td>Beyond Flavours</td>\n",
              "      <td>Rusha Chakraborty</td>\n",
              "      <td>The ambience was good food was quite good had ...</td>\n",
              "      <td>5.0</td>\n",
              "      <td>0.0</td>\n",
              "      <td>1.0</td>\n",
              "      <td>2.0</td>\n",
              "      <td>25.0</td>\n",
              "      <td>5.0</td>\n",
              "      <td>2019.0</td>\n",
              "      <td>Saturday</td>\n",
              "      <td>15.0</td>\n",
              "      <td>Beyond Flavours</td>\n",
              "      <td>800</td>\n",
              "      <td>Chinese, Continental, Kebab, European, South I...</td>\n",
              "      <td>12noon to 3:30pm, 6:30pm to 11:30pm (Mon-Sun)</td>\n",
              "    </tr>\n",
              "    <tr>\n",
              "      <th>1</th>\n",
              "      <td>Beyond Flavours</td>\n",
              "      <td>Anusha Tirumalaneedi</td>\n",
              "      <td>Ambience is too good for a pleasant evening Se...</td>\n",
              "      <td>5.0</td>\n",
              "      <td>0.0</td>\n",
              "      <td>3.0</td>\n",
              "      <td>2.0</td>\n",
              "      <td>25.0</td>\n",
              "      <td>5.0</td>\n",
              "      <td>2019.0</td>\n",
              "      <td>Saturday</td>\n",
              "      <td>14.0</td>\n",
              "      <td>Beyond Flavours</td>\n",
              "      <td>800</td>\n",
              "      <td>Chinese, Continental, Kebab, European, South I...</td>\n",
              "      <td>12noon to 3:30pm, 6:30pm to 11:30pm (Mon-Sun)</td>\n",
              "    </tr>\n",
              "    <tr>\n",
              "      <th>2</th>\n",
              "      <td>Beyond Flavours</td>\n",
              "      <td>Ashok Shekhawat</td>\n",
              "      <td>A must try great food great ambience Thnx for ...</td>\n",
              "      <td>5.0</td>\n",
              "      <td>0.0</td>\n",
              "      <td>2.0</td>\n",
              "      <td>3.0</td>\n",
              "      <td>24.0</td>\n",
              "      <td>5.0</td>\n",
              "      <td>2019.0</td>\n",
              "      <td>Friday</td>\n",
              "      <td>22.0</td>\n",
              "      <td>Beyond Flavours</td>\n",
              "      <td>800</td>\n",
              "      <td>Chinese, Continental, Kebab, European, South I...</td>\n",
              "      <td>12noon to 3:30pm, 6:30pm to 11:30pm (Mon-Sun)</td>\n",
              "    </tr>\n",
              "    <tr>\n",
              "      <th>3</th>\n",
              "      <td>Beyond Flavours</td>\n",
              "      <td>Swapnil Sarkar</td>\n",
              "      <td>Soumen das and Arun was a great guy Only becau...</td>\n",
              "      <td>5.0</td>\n",
              "      <td>0.0</td>\n",
              "      <td>1.0</td>\n",
              "      <td>1.0</td>\n",
              "      <td>24.0</td>\n",
              "      <td>5.0</td>\n",
              "      <td>2019.0</td>\n",
              "      <td>Friday</td>\n",
              "      <td>22.0</td>\n",
              "      <td>Beyond Flavours</td>\n",
              "      <td>800</td>\n",
              "      <td>Chinese, Continental, Kebab, European, South I...</td>\n",
              "      <td>12noon to 3:30pm, 6:30pm to 11:30pm (Mon-Sun)</td>\n",
              "    </tr>\n",
              "    <tr>\n",
              "      <th>4</th>\n",
              "      <td>Beyond Flavours</td>\n",
              "      <td>Dileep</td>\n",
              "      <td>Food is goodwe ordered Kodi drumsticks and bas...</td>\n",
              "      <td>5.0</td>\n",
              "      <td>0.0</td>\n",
              "      <td>3.0</td>\n",
              "      <td>2.0</td>\n",
              "      <td>24.0</td>\n",
              "      <td>5.0</td>\n",
              "      <td>2019.0</td>\n",
              "      <td>Friday</td>\n",
              "      <td>21.0</td>\n",
              "      <td>Beyond Flavours</td>\n",
              "      <td>800</td>\n",
              "      <td>Chinese, Continental, Kebab, European, South I...</td>\n",
              "      <td>12noon to 3:30pm, 6:30pm to 11:30pm (Mon-Sun)</td>\n",
              "    </tr>\n",
              "  </tbody>\n",
              "</table>\n",
              "</div>"
            ],
            "text/plain": [
              "        Restaurant  ...                                        Timings\n",
              "0  Beyond Flavours  ...  12noon to 3:30pm, 6:30pm to 11:30pm (Mon-Sun)\n",
              "1  Beyond Flavours  ...  12noon to 3:30pm, 6:30pm to 11:30pm (Mon-Sun)\n",
              "2  Beyond Flavours  ...  12noon to 3:30pm, 6:30pm to 11:30pm (Mon-Sun)\n",
              "3  Beyond Flavours  ...  12noon to 3:30pm, 6:30pm to 11:30pm (Mon-Sun)\n",
              "4  Beyond Flavours  ...  12noon to 3:30pm, 6:30pm to 11:30pm (Mon-Sun)\n",
              "\n",
              "[5 rows x 16 columns]"
            ]
          },
          "metadata": {},
          "execution_count": 59
        }
      ]
    },
    {
      "cell_type": "markdown",
      "metadata": {
        "id": "jhx8J19YDD3S"
      },
      "source": [
        "# **Model Implementation**"
      ]
    },
    {
      "cell_type": "code",
      "metadata": {
        "id": "MGyqUnZq9Nyw"
      },
      "source": [
        "#importing libraries required for recomendation system\n",
        "from sklearn.feature_extraction.text import TfidfVectorizer\n",
        "from sklearn.metrics.pairwise import linear_kernel\n",
        "from sklearn.metrics.pairwise import sigmoid_kernel"
      ],
      "execution_count": 60,
      "outputs": []
    },
    {
      "cell_type": "code",
      "metadata": {
        "id": "_E2vwris9Nyw"
      },
      "source": [
        "#changing the index of the dataframe\n",
        "df.set_index('Name', inplace=True)\n",
        "#series of indices\n",
        "indices = pd.Series(df.index)\n",
        "tfidf = TfidfVectorizer(analyzer='word', ngram_range=(1, 2), min_df=0, stop_words='english')\n",
        "tfidf_matrix = tfidf.fit_transform(reviews_df['Review'])"
      ],
      "execution_count": 61,
      "outputs": []
    },
    {
      "cell_type": "markdown",
      "metadata": {
        "id": "oPmwGevqNbIy"
      },
      "source": [
        "**Linear Kernel**"
      ]
    },
    {
      "cell_type": "code",
      "metadata": {
        "id": "DShyGXeT9Nyx"
      },
      "source": [
        "#calculating the linear kernel\n",
        "cosine_similarities = linear_kernel(tfidf_matrix, tfidf_matrix)"
      ],
      "execution_count": 62,
      "outputs": []
    },
    {
      "cell_type": "code",
      "metadata": {
        "id": "PyaRhT3a9Nyx"
      },
      "source": [
        "#function of recomendatation system\n",
        "def recommend(name, cosine_similarities = cosine_similarities):\n",
        "    \n",
        "    #list to put top 10 restaurants\n",
        "    recommend_restaurant = []\n",
        "    #index of the hotel entered\n",
        "    idx = indices[indices == name].index[0]\n",
        "    #restaurants with a similar cosine value\n",
        "    score_series = pd.Series(cosine_similarities[idx]).sort_values(ascending=False)\n",
        "    #top 30 restaurant indexes with a similar cosine value\n",
        "    top30_indexes = list(score_series.iloc[0:30].index)\n",
        "    #top 30 restaurants\n",
        "    for each in top30_indexes:\n",
        "        recommend_restaurant.append(list(df.index)[each])\n",
        "    \n",
        "    #creating a new data set of similar restaurants\n",
        "    rec_df = pd.DataFrame(columns=['Cuisines', 'Rating', 'Cost', 'Timings'])\n",
        "    #top 30 similar restaurants with some of their columns\n",
        "    for each in recommend_restaurant:\n",
        "        rec_df = rec_df.append(pd.DataFrame(df[['Cuisines','Rating', 'Cost', 'Timings']][df.index == each].sample()))\n",
        "    \n",
        "    #dropping the same named restaurants and sort only the top 10 by the highest rating\n",
        "    rec_df = rec_df.drop_duplicates(subset=['Cuisines','Rating', 'Cost'], keep=False)\n",
        "    rec_df = rec_df.sort_values(by='Rating', ascending=False).head(10)\n",
        "    \n",
        "    print(f'TOP 10 RESTAURANTS LIKE {name} WITH SIMILAR REVIEWS:')\n",
        "    return rec_df"
      ],
      "execution_count": 63,
      "outputs": []
    },
    {
      "cell_type": "code",
      "metadata": {
        "id": "takIpFBV9Nyx",
        "colab": {
          "base_uri": "https://localhost:8080/",
          "height": 147
        },
        "outputId": "f53c52a2-133b-47c3-d9ae-d8bd2b357364"
      },
      "source": [
        "#evaluating the function with example\n",
        "df[df.index=='Pista House'].head(1)"
      ],
      "execution_count": 64,
      "outputs": [
        {
          "output_type": "execute_result",
          "data": {
            "text/html": [
              "<div>\n",
              "<style scoped>\n",
              "    .dataframe tbody tr th:only-of-type {\n",
              "        vertical-align: middle;\n",
              "    }\n",
              "\n",
              "    .dataframe tbody tr th {\n",
              "        vertical-align: top;\n",
              "    }\n",
              "\n",
              "    .dataframe thead th {\n",
              "        text-align: right;\n",
              "    }\n",
              "</style>\n",
              "<table border=\"1\" class=\"dataframe\">\n",
              "  <thead>\n",
              "    <tr style=\"text-align: right;\">\n",
              "      <th></th>\n",
              "      <th>Restaurant</th>\n",
              "      <th>Reviewer</th>\n",
              "      <th>Review</th>\n",
              "      <th>Rating</th>\n",
              "      <th>Pictures</th>\n",
              "      <th>Reviewrs</th>\n",
              "      <th>Followers</th>\n",
              "      <th>Date</th>\n",
              "      <th>Month</th>\n",
              "      <th>Year</th>\n",
              "      <th>Day</th>\n",
              "      <th>Hour</th>\n",
              "      <th>Cost</th>\n",
              "      <th>Cuisines</th>\n",
              "      <th>Timings</th>\n",
              "    </tr>\n",
              "    <tr>\n",
              "      <th>Name</th>\n",
              "      <th></th>\n",
              "      <th></th>\n",
              "      <th></th>\n",
              "      <th></th>\n",
              "      <th></th>\n",
              "      <th></th>\n",
              "      <th></th>\n",
              "      <th></th>\n",
              "      <th></th>\n",
              "      <th></th>\n",
              "      <th></th>\n",
              "      <th></th>\n",
              "      <th></th>\n",
              "      <th></th>\n",
              "      <th></th>\n",
              "    </tr>\n",
              "  </thead>\n",
              "  <tbody>\n",
              "    <tr>\n",
              "      <th>Pista House</th>\n",
              "      <td>Pista House</td>\n",
              "      <td>Moonis Ahmed</td>\n",
              "      <td>Living in Manikonda this has been our goto pla...</td>\n",
              "      <td>4.0</td>\n",
              "      <td>0.0</td>\n",
              "      <td>160.0</td>\n",
              "      <td>754.0</td>\n",
              "      <td>24.0</td>\n",
              "      <td>5.0</td>\n",
              "      <td>2019.0</td>\n",
              "      <td>Friday</td>\n",
              "      <td>19.0</td>\n",
              "      <td>1000</td>\n",
              "      <td>Bakery, North Indian, Mughlai, Juices, Chinese</td>\n",
              "      <td>11 AM to 12 Midnight</td>\n",
              "    </tr>\n",
              "  </tbody>\n",
              "</table>\n",
              "</div>"
            ],
            "text/plain": [
              "              Restaurant  ...               Timings\n",
              "Name                      ...                      \n",
              "Pista House  Pista House  ...  11 AM to 12 Midnight\n",
              "\n",
              "[1 rows x 15 columns]"
            ]
          },
          "metadata": {},
          "execution_count": 64
        }
      ]
    },
    {
      "cell_type": "code",
      "metadata": {
        "id": "Kccwi9qh9Nyx",
        "colab": {
          "base_uri": "https://localhost:8080/",
          "height": 381
        },
        "outputId": "7feb40cf-1d31-4e95-a788-5cd8dc08c2a4"
      },
      "source": [
        "#top recomendatations on the example\n",
        "recommend('Pista House')"
      ],
      "execution_count": 65,
      "outputs": [
        {
          "output_type": "stream",
          "name": "stdout",
          "text": [
            "TOP 10 RESTAURANTS LIKE Pista House WITH SIMILAR REVIEWS:\n"
          ]
        },
        {
          "output_type": "execute_result",
          "data": {
            "text/html": [
              "<div>\n",
              "<style scoped>\n",
              "    .dataframe tbody tr th:only-of-type {\n",
              "        vertical-align: middle;\n",
              "    }\n",
              "\n",
              "    .dataframe tbody tr th {\n",
              "        vertical-align: top;\n",
              "    }\n",
              "\n",
              "    .dataframe thead th {\n",
              "        text-align: right;\n",
              "    }\n",
              "</style>\n",
              "<table border=\"1\" class=\"dataframe\">\n",
              "  <thead>\n",
              "    <tr style=\"text-align: right;\">\n",
              "      <th></th>\n",
              "      <th>Cuisines</th>\n",
              "      <th>Rating</th>\n",
              "      <th>Cost</th>\n",
              "      <th>Timings</th>\n",
              "    </tr>\n",
              "  </thead>\n",
              "  <tbody>\n",
              "    <tr>\n",
              "      <th>Hitech Bawarchi Food Zone</th>\n",
              "      <td>Biryani, North Indian, Chinese</td>\n",
              "      <td>5.0</td>\n",
              "      <td>500</td>\n",
              "      <td>12 Noon to 11 PM</td>\n",
              "    </tr>\n",
              "    <tr>\n",
              "      <th>The Fisherman's Wharf</th>\n",
              "      <td>Seafood, Goan, North Indian, Continental, Asian</td>\n",
              "      <td>5.0</td>\n",
              "      <td>1500</td>\n",
              "      <td>12Noon to 3:30PM, 4PM to 6:30PM, 7PM to 11:30P...</td>\n",
              "    </tr>\n",
              "    <tr>\n",
              "      <th>Kritunga Restaurant</th>\n",
              "      <td>Andhra, Biryani, Hyderabadi, North Indian</td>\n",
              "      <td>5.0</td>\n",
              "      <td>500</td>\n",
              "      <td>12 Noon to 4 PM, 7 PM to 11 PM</td>\n",
              "    </tr>\n",
              "    <tr>\n",
              "      <th>Shah Ghouse Spl Shawarma</th>\n",
              "      <td>Lebanese</td>\n",
              "      <td>5.0</td>\n",
              "      <td>300</td>\n",
              "      <td>12 Noon to 12 Midnight</td>\n",
              "    </tr>\n",
              "    <tr>\n",
              "      <th>Paradise</th>\n",
              "      <td>Biryani, North Indian, Chinese</td>\n",
              "      <td>5.0</td>\n",
              "      <td>800</td>\n",
              "      <td>11 AM to 11 PM</td>\n",
              "    </tr>\n",
              "    <tr>\n",
              "      <th>Behrouz Biryani</th>\n",
              "      <td>Mughlai, Biryani</td>\n",
              "      <td>5.0</td>\n",
              "      <td>600</td>\n",
              "      <td>10 AM to 1 AM</td>\n",
              "    </tr>\n",
              "    <tr>\n",
              "      <th>Marsala Food Company</th>\n",
              "      <td>Arabian, North Indian, Chinese</td>\n",
              "      <td>4.0</td>\n",
              "      <td>700</td>\n",
              "      <td>12noon to 4pm, 7pm to 12midnight (Mon-Sun)</td>\n",
              "    </tr>\n",
              "    <tr>\n",
              "      <th>Royal Spicy Restaurant</th>\n",
              "      <td>North Indian, South Indian</td>\n",
              "      <td>4.0</td>\n",
              "      <td>700</td>\n",
              "      <td>10:30 AM to 11 PM</td>\n",
              "    </tr>\n",
              "    <tr>\n",
              "      <th>Marsala Food Company</th>\n",
              "      <td>Arabian, North Indian, Chinese</td>\n",
              "      <td>3.0</td>\n",
              "      <td>700</td>\n",
              "      <td>12noon to 4pm, 7pm to 12midnight (Mon-Sun)</td>\n",
              "    </tr>\n",
              "    <tr>\n",
              "      <th>Behrouz Biryani</th>\n",
              "      <td>Mughlai, Biryani</td>\n",
              "      <td>3.0</td>\n",
              "      <td>600</td>\n",
              "      <td>10 AM to 1 AM</td>\n",
              "    </tr>\n",
              "  </tbody>\n",
              "</table>\n",
              "</div>"
            ],
            "text/plain": [
              "                                                                  Cuisines  ...                                            Timings\n",
              "Hitech Bawarchi Food Zone                   Biryani, North Indian, Chinese  ...                                   12 Noon to 11 PM\n",
              "The Fisherman's Wharf      Seafood, Goan, North Indian, Continental, Asian  ...  12Noon to 3:30PM, 4PM to 6:30PM, 7PM to 11:30P...\n",
              "Kritunga Restaurant              Andhra, Biryani, Hyderabadi, North Indian  ...                     12 Noon to 4 PM, 7 PM to 11 PM\n",
              "Shah Ghouse Spl Shawarma                                          Lebanese  ...                             12 Noon to 12 Midnight\n",
              "Paradise                                    Biryani, North Indian, Chinese  ...                                     11 AM to 11 PM\n",
              "Behrouz Biryani                                           Mughlai, Biryani  ...                                      10 AM to 1 AM\n",
              "Marsala Food Company                        Arabian, North Indian, Chinese  ...         12noon to 4pm, 7pm to 12midnight (Mon-Sun)\n",
              "Royal Spicy Restaurant                          North Indian, South Indian  ...                                  10:30 AM to 11 PM\n",
              "Marsala Food Company                        Arabian, North Indian, Chinese  ...         12noon to 4pm, 7pm to 12midnight (Mon-Sun)\n",
              "Behrouz Biryani                                           Mughlai, Biryani  ...                                      10 AM to 1 AM\n",
              "\n",
              "[10 rows x 4 columns]"
            ]
          },
          "metadata": {},
          "execution_count": 65
        }
      ]
    },
    {
      "cell_type": "code",
      "metadata": {
        "colab": {
          "base_uri": "https://localhost:8080/",
          "height": 381
        },
        "id": "CUEZlurOYWxk",
        "outputId": "cd50fb5e-3022-4681-e2d9-dad261ecc31b"
      },
      "source": [
        "#top recomendatations on the example\n",
        "recommend('Paradise')"
      ],
      "execution_count": 66,
      "outputs": [
        {
          "output_type": "stream",
          "name": "stdout",
          "text": [
            "TOP 10 RESTAURANTS LIKE Paradise WITH SIMILAR REVIEWS:\n"
          ]
        },
        {
          "output_type": "execute_result",
          "data": {
            "text/html": [
              "<div>\n",
              "<style scoped>\n",
              "    .dataframe tbody tr th:only-of-type {\n",
              "        vertical-align: middle;\n",
              "    }\n",
              "\n",
              "    .dataframe tbody tr th {\n",
              "        vertical-align: top;\n",
              "    }\n",
              "\n",
              "    .dataframe thead th {\n",
              "        text-align: right;\n",
              "    }\n",
              "</style>\n",
              "<table border=\"1\" class=\"dataframe\">\n",
              "  <thead>\n",
              "    <tr style=\"text-align: right;\">\n",
              "      <th></th>\n",
              "      <th>Cuisines</th>\n",
              "      <th>Rating</th>\n",
              "      <th>Cost</th>\n",
              "      <th>Timings</th>\n",
              "    </tr>\n",
              "  </thead>\n",
              "  <tbody>\n",
              "    <tr>\n",
              "      <th>Karachi Bakery</th>\n",
              "      <td>Bakery, Fast Food, Desserts</td>\n",
              "      <td>5.0</td>\n",
              "      <td>500</td>\n",
              "      <td>10 AM to 10 PM</td>\n",
              "    </tr>\n",
              "    <tr>\n",
              "      <th>Khaan Saab</th>\n",
              "      <td>North Indian, Mughlai</td>\n",
              "      <td>5.0</td>\n",
              "      <td>1100</td>\n",
              "      <td>12 Noon to 3:30 PM, 7 PM to 11:30 PM</td>\n",
              "    </tr>\n",
              "    <tr>\n",
              "      <th>Biryanis And More</th>\n",
              "      <td>North Indian, Biryani, Chinese</td>\n",
              "      <td>5.0</td>\n",
              "      <td>500</td>\n",
              "      <td>11 AM to 11 PM</td>\n",
              "    </tr>\n",
              "    <tr>\n",
              "      <th>Al Saba Restaurant</th>\n",
              "      <td>North Indian, Chinese, Seafood, Biryani, Hyder...</td>\n",
              "      <td>5.0</td>\n",
              "      <td>750</td>\n",
              "      <td>6 AM to 11:30 PM</td>\n",
              "    </tr>\n",
              "    <tr>\n",
              "      <th>Owm Nom Nom</th>\n",
              "      <td>Chinese, Biryani, Andhra, North Indian</td>\n",
              "      <td>5.0</td>\n",
              "      <td>900</td>\n",
              "      <td>12Noon to 11:30PM (Mon-Sun)</td>\n",
              "    </tr>\n",
              "    <tr>\n",
              "      <th>Mohammedia Shawarma</th>\n",
              "      <td>Street Food, Arabian</td>\n",
              "      <td>5.0</td>\n",
              "      <td>150</td>\n",
              "      <td>1 PM to 1 AM</td>\n",
              "    </tr>\n",
              "    <tr>\n",
              "      <th>Shree Santosh Dhaba Family Restaurant</th>\n",
              "      <td>North Indian, Chinese, Fast Food</td>\n",
              "      <td>5.0</td>\n",
              "      <td>500</td>\n",
              "      <td>11 AM to 11:30 PM</td>\n",
              "    </tr>\n",
              "    <tr>\n",
              "      <th>Paradise</th>\n",
              "      <td>Biryani, North Indian, Chinese</td>\n",
              "      <td>4.0</td>\n",
              "      <td>800</td>\n",
              "      <td>11 AM to 11 PM</td>\n",
              "    </tr>\n",
              "    <tr>\n",
              "      <th>Hyderabad Chefs</th>\n",
              "      <td>North Indian, Chinese</td>\n",
              "      <td>4.0</td>\n",
              "      <td>600</td>\n",
              "      <td>12 Noon to 10:30 PM</td>\n",
              "    </tr>\n",
              "    <tr>\n",
              "      <th>Ulavacharu</th>\n",
              "      <td>Andhra, North Indian, Chinese</td>\n",
              "      <td>4.0</td>\n",
              "      <td>1400</td>\n",
              "      <td>12 Noon to 11:30 PM</td>\n",
              "    </tr>\n",
              "  </tbody>\n",
              "</table>\n",
              "</div>"
            ],
            "text/plain": [
              "                                                                                Cuisines  ...                               Timings\n",
              "Karachi Bakery                                               Bakery, Fast Food, Desserts  ...                        10 AM to 10 PM\n",
              "Khaan Saab                                                         North Indian, Mughlai  ...  12 Noon to 3:30 PM, 7 PM to 11:30 PM\n",
              "Biryanis And More                                         North Indian, Biryani, Chinese  ...                        11 AM to 11 PM\n",
              "Al Saba Restaurant                     North Indian, Chinese, Seafood, Biryani, Hyder...  ...                      6 AM to 11:30 PM\n",
              "Owm Nom Nom                                       Chinese, Biryani, Andhra, North Indian  ...           12Noon to 11:30PM (Mon-Sun)\n",
              "Mohammedia Shawarma                                                 Street Food, Arabian  ...                          1 PM to 1 AM\n",
              "Shree Santosh Dhaba Family Restaurant                   North Indian, Chinese, Fast Food  ...                     11 AM to 11:30 PM\n",
              "Paradise                                                  Biryani, North Indian, Chinese  ...                        11 AM to 11 PM\n",
              "Hyderabad Chefs                                                    North Indian, Chinese  ...                   12 Noon to 10:30 PM\n",
              "Ulavacharu                                                 Andhra, North Indian, Chinese  ...                   12 Noon to 11:30 PM\n",
              "\n",
              "[10 rows x 4 columns]"
            ]
          },
          "metadata": {},
          "execution_count": 66
        }
      ]
    },
    {
      "cell_type": "markdown",
      "metadata": {
        "id": "_r79VA8aNUh_"
      },
      "source": [
        "**Sigmoid Kernel**"
      ]
    },
    {
      "cell_type": "code",
      "metadata": {
        "id": "cHifSZKaHsNG"
      },
      "source": [
        "#calculating the sigmoid kernal\n",
        "sig = sigmoid_kernel(tfidf_matrix, tfidf_matrix)"
      ],
      "execution_count": 67,
      "outputs": []
    },
    {
      "cell_type": "code",
      "metadata": {
        "id": "wJfJcNWrHr6L"
      },
      "source": [
        "#function of recomendatation system\n",
        "def recommend(name, sig = sig):\n",
        "    \n",
        "    #list to put top 10 restaurants\n",
        "    recommend_restaurant = []\n",
        "    #index of the hotel entered\n",
        "    idx = indices[indices == name].index[0]\n",
        "    #restaurants with a similar cosine value\n",
        "    score_series = pd.Series(sig[idx]).sort_values(ascending=False)\n",
        "    #top 30 restaurant indexes with a similar cosine value\n",
        "    top30_indexes = list(score_series.iloc[0:30].index)\n",
        "    #top 30 restaurants\n",
        "    for each in top30_indexes:\n",
        "        recommend_restaurant.append(list(df.index)[each])\n",
        "    \n",
        "    #creating a new data set of similar restaurants\n",
        "    rec_df = pd.DataFrame(columns=['Cuisines', 'Rating', 'Cost', 'Timings'])\n",
        "    #top 30 similar restaurants with some of their columns\n",
        "    for each in recommend_restaurant:\n",
        "        rec_df = rec_df.append(pd.DataFrame(df[['Cuisines','Rating', 'Cost', 'Timings']][df.index == each].sample()))\n",
        "    \n",
        "    #dropping the same named restaurants and sort only the top 10 by the highest rating\n",
        "    rec_df = rec_df.drop_duplicates(subset=['Cuisines','Rating', 'Cost'], keep=False)\n",
        "    rec_df = rec_df.sort_values(by='Rating', ascending=False).head(10)\n",
        "    \n",
        "    print(f'TOP 10 RESTAURANTS LIKE {name} WITH SIMILAR REVIEWS:')\n",
        "    return rec_df"
      ],
      "execution_count": 68,
      "outputs": []
    },
    {
      "cell_type": "code",
      "metadata": {
        "id": "8b-_SU8C9Nyy",
        "colab": {
          "base_uri": "https://localhost:8080/",
          "height": 130
        },
        "outputId": "d3a8ce14-3568-4998-947a-3a5d48e1e098"
      },
      "source": [
        "#evaluating the function with example\n",
        "df[df.index=='Paradise'].head(1)"
      ],
      "execution_count": 69,
      "outputs": [
        {
          "output_type": "execute_result",
          "data": {
            "text/html": [
              "<div>\n",
              "<style scoped>\n",
              "    .dataframe tbody tr th:only-of-type {\n",
              "        vertical-align: middle;\n",
              "    }\n",
              "\n",
              "    .dataframe tbody tr th {\n",
              "        vertical-align: top;\n",
              "    }\n",
              "\n",
              "    .dataframe thead th {\n",
              "        text-align: right;\n",
              "    }\n",
              "</style>\n",
              "<table border=\"1\" class=\"dataframe\">\n",
              "  <thead>\n",
              "    <tr style=\"text-align: right;\">\n",
              "      <th></th>\n",
              "      <th>Restaurant</th>\n",
              "      <th>Reviewer</th>\n",
              "      <th>Review</th>\n",
              "      <th>Rating</th>\n",
              "      <th>Pictures</th>\n",
              "      <th>Reviewrs</th>\n",
              "      <th>Followers</th>\n",
              "      <th>Date</th>\n",
              "      <th>Month</th>\n",
              "      <th>Year</th>\n",
              "      <th>Day</th>\n",
              "      <th>Hour</th>\n",
              "      <th>Cost</th>\n",
              "      <th>Cuisines</th>\n",
              "      <th>Timings</th>\n",
              "    </tr>\n",
              "    <tr>\n",
              "      <th>Name</th>\n",
              "      <th></th>\n",
              "      <th></th>\n",
              "      <th></th>\n",
              "      <th></th>\n",
              "      <th></th>\n",
              "      <th></th>\n",
              "      <th></th>\n",
              "      <th></th>\n",
              "      <th></th>\n",
              "      <th></th>\n",
              "      <th></th>\n",
              "      <th></th>\n",
              "      <th></th>\n",
              "      <th></th>\n",
              "      <th></th>\n",
              "    </tr>\n",
              "  </thead>\n",
              "  <tbody>\n",
              "    <tr>\n",
              "      <th>Paradise</th>\n",
              "      <td>Paradise</td>\n",
              "      <td>Subodh Deshmukh</td>\n",
              "      <td>Paradise Biryani is really good service also g...</td>\n",
              "      <td>5.0</td>\n",
              "      <td>0.0</td>\n",
              "      <td>1.0</td>\n",
              "      <td>1.0</td>\n",
              "      <td>25.0</td>\n",
              "      <td>5.0</td>\n",
              "      <td>2019.0</td>\n",
              "      <td>Saturday</td>\n",
              "      <td>16.0</td>\n",
              "      <td>800</td>\n",
              "      <td>Biryani, North Indian, Chinese</td>\n",
              "      <td>11 AM to 11 PM</td>\n",
              "    </tr>\n",
              "  </tbody>\n",
              "</table>\n",
              "</div>"
            ],
            "text/plain": [
              "         Restaurant  ...         Timings\n",
              "Name                 ...                \n",
              "Paradise   Paradise  ...  11 AM to 11 PM\n",
              "\n",
              "[1 rows x 15 columns]"
            ]
          },
          "metadata": {},
          "execution_count": 69
        }
      ]
    },
    {
      "cell_type": "code",
      "metadata": {
        "id": "lvlJ3PjB9Nyy",
        "colab": {
          "base_uri": "https://localhost:8080/",
          "height": 381
        },
        "outputId": "12a556a4-5d4b-4f7d-b483-2dc766a57852"
      },
      "source": [
        "#top recomendatations on the example\n",
        "recommend('Paradise')"
      ],
      "execution_count": 70,
      "outputs": [
        {
          "output_type": "stream",
          "name": "stdout",
          "text": [
            "TOP 10 RESTAURANTS LIKE Paradise WITH SIMILAR REVIEWS:\n"
          ]
        },
        {
          "output_type": "execute_result",
          "data": {
            "text/html": [
              "<div>\n",
              "<style scoped>\n",
              "    .dataframe tbody tr th:only-of-type {\n",
              "        vertical-align: middle;\n",
              "    }\n",
              "\n",
              "    .dataframe tbody tr th {\n",
              "        vertical-align: top;\n",
              "    }\n",
              "\n",
              "    .dataframe thead th {\n",
              "        text-align: right;\n",
              "    }\n",
              "</style>\n",
              "<table border=\"1\" class=\"dataframe\">\n",
              "  <thead>\n",
              "    <tr style=\"text-align: right;\">\n",
              "      <th></th>\n",
              "      <th>Cuisines</th>\n",
              "      <th>Rating</th>\n",
              "      <th>Cost</th>\n",
              "      <th>Timings</th>\n",
              "    </tr>\n",
              "  </thead>\n",
              "  <tbody>\n",
              "    <tr>\n",
              "      <th>Hotel Zara Hi-Fi</th>\n",
              "      <td>Chinese, North Indian</td>\n",
              "      <td>5.0</td>\n",
              "      <td>400</td>\n",
              "      <td>11:30 AM to 1 AM</td>\n",
              "    </tr>\n",
              "    <tr>\n",
              "      <th>Shah Ghouse Hotel &amp; Restaurant</th>\n",
              "      <td>Biryani, North Indian, Chinese, Seafood, Bever...</td>\n",
              "      <td>5.0</td>\n",
              "      <td>800</td>\n",
              "      <td>12 Noon to 2 AM</td>\n",
              "    </tr>\n",
              "    <tr>\n",
              "      <th>Hitech Bawarchi Food Zone</th>\n",
              "      <td>Biryani, North Indian, Chinese</td>\n",
              "      <td>5.0</td>\n",
              "      <td>500</td>\n",
              "      <td>12 Noon to 11 PM</td>\n",
              "    </tr>\n",
              "    <tr>\n",
              "      <th>Udipi's Upahar</th>\n",
              "      <td>South Indian, North Indian, Chinese</td>\n",
              "      <td>5.0</td>\n",
              "      <td>500</td>\n",
              "      <td>6 AM to 10:30 PM</td>\n",
              "    </tr>\n",
              "    <tr>\n",
              "      <th>Shah Ghouse Spl Shawarma</th>\n",
              "      <td>Lebanese</td>\n",
              "      <td>5.0</td>\n",
              "      <td>300</td>\n",
              "      <td>12 Noon to 12 Midnight</td>\n",
              "    </tr>\n",
              "    <tr>\n",
              "      <th>Amul</th>\n",
              "      <td>Ice Cream, Desserts</td>\n",
              "      <td>5.0</td>\n",
              "      <td>150</td>\n",
              "      <td>10 AM to 5 AM</td>\n",
              "    </tr>\n",
              "    <tr>\n",
              "      <th>Shree Santosh Dhaba Family Restaurant</th>\n",
              "      <td>North Indian, Chinese, Fast Food</td>\n",
              "      <td>5.0</td>\n",
              "      <td>500</td>\n",
              "      <td>11 AM to 11:30 PM</td>\n",
              "    </tr>\n",
              "    <tr>\n",
              "      <th>Aromas@11SIX</th>\n",
              "      <td>North Indian, Chinese, Mughlai, Biryani</td>\n",
              "      <td>5.0</td>\n",
              "      <td>750</td>\n",
              "      <td>11:30 AM to 12 Midnight</td>\n",
              "    </tr>\n",
              "    <tr>\n",
              "      <th>Mohammedia Shawarma</th>\n",
              "      <td>Street Food, Arabian</td>\n",
              "      <td>5.0</td>\n",
              "      <td>150</td>\n",
              "      <td>1 PM to 1 AM</td>\n",
              "    </tr>\n",
              "    <tr>\n",
              "      <th>Hyderabad Chefs</th>\n",
              "      <td>North Indian, Chinese</td>\n",
              "      <td>4.0</td>\n",
              "      <td>600</td>\n",
              "      <td>12 Noon to 10:30 PM</td>\n",
              "    </tr>\n",
              "  </tbody>\n",
              "</table>\n",
              "</div>"
            ],
            "text/plain": [
              "                                                                                Cuisines  ...                  Timings\n",
              "Hotel Zara Hi-Fi                                                   Chinese, North Indian  ...         11:30 AM to 1 AM\n",
              "Shah Ghouse Hotel & Restaurant         Biryani, North Indian, Chinese, Seafood, Bever...  ...          12 Noon to 2 AM\n",
              "Hitech Bawarchi Food Zone                                 Biryani, North Indian, Chinese  ...         12 Noon to 11 PM\n",
              "Udipi's Upahar                                       South Indian, North Indian, Chinese  ...         6 AM to 10:30 PM\n",
              "Shah Ghouse Spl Shawarma                                                        Lebanese  ...   12 Noon to 12 Midnight\n",
              "Amul                                                                 Ice Cream, Desserts  ...            10 AM to 5 AM\n",
              "Shree Santosh Dhaba Family Restaurant                   North Indian, Chinese, Fast Food  ...        11 AM to 11:30 PM\n",
              "Aromas@11SIX                                     North Indian, Chinese, Mughlai, Biryani  ...  11:30 AM to 12 Midnight\n",
              "Mohammedia Shawarma                                                 Street Food, Arabian  ...             1 PM to 1 AM\n",
              "Hyderabad Chefs                                                    North Indian, Chinese  ...      12 Noon to 10:30 PM\n",
              "\n",
              "[10 rows x 4 columns]"
            ]
          },
          "metadata": {},
          "execution_count": 70
        }
      ]
    },
    {
      "cell_type": "code",
      "metadata": {
        "colab": {
          "base_uri": "https://localhost:8080/",
          "height": 381
        },
        "id": "cwI-ZsRmYKAJ",
        "outputId": "d5e2cb96-7ffa-4519-cec4-c93671d1c3d4"
      },
      "source": [
        "#top recomendatations on the example\n",
        "recommend('Pista House')"
      ],
      "execution_count": 71,
      "outputs": [
        {
          "output_type": "stream",
          "name": "stdout",
          "text": [
            "TOP 10 RESTAURANTS LIKE Pista House WITH SIMILAR REVIEWS:\n"
          ]
        },
        {
          "output_type": "execute_result",
          "data": {
            "text/html": [
              "<div>\n",
              "<style scoped>\n",
              "    .dataframe tbody tr th:only-of-type {\n",
              "        vertical-align: middle;\n",
              "    }\n",
              "\n",
              "    .dataframe tbody tr th {\n",
              "        vertical-align: top;\n",
              "    }\n",
              "\n",
              "    .dataframe thead th {\n",
              "        text-align: right;\n",
              "    }\n",
              "</style>\n",
              "<table border=\"1\" class=\"dataframe\">\n",
              "  <thead>\n",
              "    <tr style=\"text-align: right;\">\n",
              "      <th></th>\n",
              "      <th>Cuisines</th>\n",
              "      <th>Rating</th>\n",
              "      <th>Cost</th>\n",
              "      <th>Timings</th>\n",
              "    </tr>\n",
              "  </thead>\n",
              "  <tbody>\n",
              "    <tr>\n",
              "      <th>The Fisherman's Wharf</th>\n",
              "      <td>Seafood, Goan, North Indian, Continental, Asian</td>\n",
              "      <td>5.0</td>\n",
              "      <td>1500</td>\n",
              "      <td>12Noon to 3:30PM, 4PM to 6:30PM, 7PM to 11:30P...</td>\n",
              "    </tr>\n",
              "    <tr>\n",
              "      <th>Pakwaan Grand</th>\n",
              "      <td>North Indian, Chinese, Biryani</td>\n",
              "      <td>5.0</td>\n",
              "      <td>400</td>\n",
              "      <td>12 Noon to 11 PM</td>\n",
              "    </tr>\n",
              "    <tr>\n",
              "      <th>Hyderabad Chefs</th>\n",
              "      <td>North Indian, Chinese</td>\n",
              "      <td>5.0</td>\n",
              "      <td>600</td>\n",
              "      <td>12 Noon to 10:30 PM</td>\n",
              "    </tr>\n",
              "    <tr>\n",
              "      <th>Shah Ghouse Hotel &amp; Restaurant</th>\n",
              "      <td>Biryani, North Indian, Chinese, Seafood, Bever...</td>\n",
              "      <td>5.0</td>\n",
              "      <td>800</td>\n",
              "      <td>12 Noon to 2 AM</td>\n",
              "    </tr>\n",
              "    <tr>\n",
              "      <th>Owm Nom Nom</th>\n",
              "      <td>Chinese, Biryani, Andhra, North Indian</td>\n",
              "      <td>5.0</td>\n",
              "      <td>900</td>\n",
              "      <td>12Noon to 11:30PM (Mon-Sun)</td>\n",
              "    </tr>\n",
              "    <tr>\n",
              "      <th>Pista House</th>\n",
              "      <td>Bakery, North Indian, Mughlai, Juices, Chinese</td>\n",
              "      <td>4.0</td>\n",
              "      <td>1000</td>\n",
              "      <td>11 AM to 12 Midnight</td>\n",
              "    </tr>\n",
              "    <tr>\n",
              "      <th>Marsala Food Company</th>\n",
              "      <td>Arabian, North Indian, Chinese</td>\n",
              "      <td>4.0</td>\n",
              "      <td>700</td>\n",
              "      <td>12noon to 4pm, 7pm to 12midnight (Mon-Sun)</td>\n",
              "    </tr>\n",
              "    <tr>\n",
              "      <th>Royal Spicy Restaurant</th>\n",
              "      <td>North Indian, South Indian</td>\n",
              "      <td>4.0</td>\n",
              "      <td>700</td>\n",
              "      <td>10:30 AM to 11 PM</td>\n",
              "    </tr>\n",
              "    <tr>\n",
              "      <th>Banana Leaf Multicuisine Restaurant</th>\n",
              "      <td>Biryani, South Indian, North Indian, Chinese, ...</td>\n",
              "      <td>4.0</td>\n",
              "      <td>700</td>\n",
              "      <td>12:30 PM to 3:30 PM, 7 PM to 10:40 PM</td>\n",
              "    </tr>\n",
              "    <tr>\n",
              "      <th>Pakwaan Grand</th>\n",
              "      <td>North Indian, Chinese, Biryani</td>\n",
              "      <td>4.0</td>\n",
              "      <td>400</td>\n",
              "      <td>12 Noon to 11 PM</td>\n",
              "    </tr>\n",
              "  </tbody>\n",
              "</table>\n",
              "</div>"
            ],
            "text/plain": [
              "                                                                              Cuisines  ...                                            Timings\n",
              "The Fisherman's Wharf                  Seafood, Goan, North Indian, Continental, Asian  ...  12Noon to 3:30PM, 4PM to 6:30PM, 7PM to 11:30P...\n",
              "Pakwaan Grand                                           North Indian, Chinese, Biryani  ...                                   12 Noon to 11 PM\n",
              "Hyderabad Chefs                                                  North Indian, Chinese  ...                                12 Noon to 10:30 PM\n",
              "Shah Ghouse Hotel & Restaurant       Biryani, North Indian, Chinese, Seafood, Bever...  ...                                    12 Noon to 2 AM\n",
              "Owm Nom Nom                                     Chinese, Biryani, Andhra, North Indian  ...                        12Noon to 11:30PM (Mon-Sun)\n",
              "Pista House                             Bakery, North Indian, Mughlai, Juices, Chinese  ...                               11 AM to 12 Midnight\n",
              "Marsala Food Company                                    Arabian, North Indian, Chinese  ...         12noon to 4pm, 7pm to 12midnight (Mon-Sun)\n",
              "Royal Spicy Restaurant                                      North Indian, South Indian  ...                                  10:30 AM to 11 PM\n",
              "Banana Leaf Multicuisine Restaurant  Biryani, South Indian, North Indian, Chinese, ...  ...              12:30 PM to 3:30 PM, 7 PM to 10:40 PM\n",
              "Pakwaan Grand                                           North Indian, Chinese, Biryani  ...                                   12 Noon to 11 PM\n",
              "\n",
              "[10 rows x 4 columns]"
            ]
          },
          "metadata": {},
          "execution_count": 71
        }
      ]
    },
    {
      "cell_type": "markdown",
      "metadata": {
        "id": "dfKZEPfzIonO"
      },
      "source": [
        "# **Conclusion**\n",
        "\n",
        "* Among all the years we have more orders in the year 2018.\n",
        "\n",
        "* We have more orders in the month of May and less in the month of June.\n",
        "\n",
        "* Restaurants are having more demand during weekends.\n",
        "\n",
        "* We have more orders from 12 - 4pm at noon and from 8 - 11pm at night.\n",
        "\n",
        "* Absolute Barbecues is ranked first and Hotel Zara Hi-Fi is ranked last on the basis of ratings given by the users.\n",
        "\n",
        "* Pista House is having most of the followers and Shree Santosh Dhaba Family \n",
        "\n",
        "* Restaurant is having less number of followers.\n",
        "\n",
        "* We have more followers than reviewers.\n",
        "\n",
        "* Good, good, nice, very good and excellent are the words mostly used by the reviewers in writing reviews.\n",
        "\n",
        "* College Hyatt Hyderabad Gachibowli is the restaurant with high costs and Mohammedia Shawarma is the restaurant with cheap dishes.\n",
        "\n",
        "* North Indian varieties are commonly ordered and Malaysian is the least.\n",
        "\n",
        "* Content based recommendation system was used to train the model.\n"
      ]
    },
    {
      "cell_type": "code",
      "metadata": {
        "id": "YxbhJ6kN9Ny0"
      },
      "source": [
        ""
      ],
      "execution_count": 71,
      "outputs": []
    }
  ]
}