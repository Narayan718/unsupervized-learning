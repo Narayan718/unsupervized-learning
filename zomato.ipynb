{
 "cells": [
  {
   "cell_type": "markdown",
   "metadata": {},
   "source": [
    "# **Problem Statement**"
   ]
  },
  {
   "cell_type": "markdown",
   "metadata": {},
   "source": [
    "Zomato is an Indian restaurant aggregator and food delivery start-up founded by Deepinder Goyal and Pankaj Chaddah in 2008. Zomato provides information, menus and user-reviews of restaurants, and also has food delivery options from partner restaurants in select cities.\n",
    "\n",
    "India is quite famous for its diverse multi cuisine available in a large number of restaurants and hotel resorts, which is reminiscent of unity in diversity. Restaurant business in India is always evolving. More Indians are warming up to the idea of eating restaurant food whether by dining outside or getting food delivered. The growing number of restaurants in every state of India has been a motivation to inspect the data to get some insights, interesting facts and figures about the Indian food industry in each city. So, this project focuses on analysing the Zomato restaurant data for each city in India.\n",
    "\n",
    "The Project focuses on Customers and Company, you have  to analyze the sentiments of the reviews given by the customer in the data and made some useful conclusion in the form of Visualizations. Also, cluster the zomato restaurants into different segments. The data is vizualized as it becomes easy to analyse data at instant. The Analysis also solve some of the business cases that can directly help the customers finding the Best restaurant in their locality and for the company to grow up and work on the fields they are currently lagging in.\n",
    "\n",
    "This could help in clustering the restaurants into segments. Also the data has valuable information around cuisine and costing which can be used in cost vs. benefit analysis\n",
    "\n",
    "Data could be used for sentiment analysis. Also the metadata of reviewers can be used for identifying the critics in the industry. "
   ]
  },
  {
   "cell_type": "markdown",
   "metadata": {},
   "source": [
    "# **Attribute Information**"
   ]
  },
  {
   "cell_type": "markdown",
   "metadata": {},
   "source": [
    "## **Zomato Restaurant names and Metadata**\n",
    "Use this dataset for clustering part"
   ]
  },
  {
   "cell_type": "markdown",
   "metadata": {},
   "source": [
    "1. Name : Name of Restaurants\n",
    "\n",
    "2. Links : URL Links of Restaurants\n",
    "\n",
    "3. Cost : Per person estimated Cost of dining\n",
    "\n",
    "4. Collection : Tagging of Restaurants w.r.t. Zomato categories\n",
    "\n",
    "5. Cuisines : Cuisines served by Restaurants\n",
    "\n",
    "6. Timings : Restaurant Timings"
   ]
  },
  {
   "cell_type": "markdown",
   "metadata": {},
   "source": [
    "## **Zomato Restaurant reviews**\n",
    "Merge this dataset with Names and Matadata and then use for sentiment analysis part"
   ]
  },
  {
   "cell_type": "markdown",
   "metadata": {},
   "source": [
    "1. Restaurant : Name of the Restaurant\n",
    "\n",
    "2. Reviewer : Name of the Reviewer\n",
    "\n",
    "3. Review : Review Text\n",
    "\n",
    "4. Rating : Rating Provided by Reviewer\n",
    "\n",
    "5. MetaData : Reviewer Metadata - No. of Reviews and followers\n",
    "\n",
    "6. Time: Date and Time of Review\n",
    "\n",
    "7. Pictures : No. of pictures posted with review"
   ]
  },
  {
   "cell_type": "markdown",
   "metadata": {},
   "source": [
    "**Importing libraries**"
   ]
  },
  {
   "cell_type": "code",
   "execution_count": 1,
   "metadata": {},
   "outputs": [],
   "source": [
    "#importing libraries\n",
    "import string\n",
    "import numpy as np\n",
    "import pandas as pd\n",
    "import seaborn as sns\n",
    "import warnings\n",
    "warnings.filterwarnings('ignore')\n",
    "import matplotlib.pyplot as plt\n",
    "import missingno as msno\n",
    "from datetime import date, datetime\n",
    "from nltk.corpus import stopwords"
   ]
  },
  {
   "cell_type": "markdown",
   "metadata": {},
   "source": [
    "**Restaurent names dataframe**"
   ]
  },
  {
   "cell_type": "code",
   "execution_count": 2,
   "metadata": {},
   "outputs": [
    {
     "name": "stdout",
     "output_type": "stream",
     "text": [
      "Restaurent names dataframe:\n"
     ]
    },
    {
     "data": {
      "text/html": [
       "<div>\n",
       "<style scoped>\n",
       "    .dataframe tbody tr th:only-of-type {\n",
       "        vertical-align: middle;\n",
       "    }\n",
       "\n",
       "    .dataframe tbody tr th {\n",
       "        vertical-align: top;\n",
       "    }\n",
       "\n",
       "    .dataframe thead th {\n",
       "        text-align: right;\n",
       "    }\n",
       "</style>\n",
       "<table border=\"1\" class=\"dataframe\">\n",
       "  <thead>\n",
       "    <tr style=\"text-align: right;\">\n",
       "      <th></th>\n",
       "      <th>Name</th>\n",
       "      <th>Links</th>\n",
       "      <th>Cost</th>\n",
       "      <th>Collections</th>\n",
       "      <th>Cuisines</th>\n",
       "      <th>Timings</th>\n",
       "    </tr>\n",
       "  </thead>\n",
       "  <tbody>\n",
       "    <tr>\n",
       "      <th>0</th>\n",
       "      <td>Beyond Flavours</td>\n",
       "      <td>https://www.zomato.com/hyderabad/beyond-flavou...</td>\n",
       "      <td>800</td>\n",
       "      <td>Food Hygiene Rated Restaurants in Hyderabad, C...</td>\n",
       "      <td>Chinese, Continental, Kebab, European, South I...</td>\n",
       "      <td>12noon to 3:30pm, 6:30pm to 11:30pm (Mon-Sun)</td>\n",
       "    </tr>\n",
       "    <tr>\n",
       "      <th>1</th>\n",
       "      <td>Paradise</td>\n",
       "      <td>https://www.zomato.com/hyderabad/paradise-gach...</td>\n",
       "      <td>800</td>\n",
       "      <td>Hyderabad's Hottest</td>\n",
       "      <td>Biryani, North Indian, Chinese</td>\n",
       "      <td>11 AM to 11 PM</td>\n",
       "    </tr>\n",
       "    <tr>\n",
       "      <th>2</th>\n",
       "      <td>Flechazo</td>\n",
       "      <td>https://www.zomato.com/hyderabad/flechazo-gach...</td>\n",
       "      <td>1,300</td>\n",
       "      <td>Great Buffets, Hyderabad's Hottest</td>\n",
       "      <td>Asian, Mediterranean, North Indian, Desserts</td>\n",
       "      <td>11:30 AM to 4:30 PM, 6:30 PM to 11 PM</td>\n",
       "    </tr>\n",
       "    <tr>\n",
       "      <th>3</th>\n",
       "      <td>Shah Ghouse Hotel &amp; Restaurant</td>\n",
       "      <td>https://www.zomato.com/hyderabad/shah-ghouse-h...</td>\n",
       "      <td>800</td>\n",
       "      <td>Late Night Restaurants</td>\n",
       "      <td>Biryani, North Indian, Chinese, Seafood, Bever...</td>\n",
       "      <td>12 Noon to 2 AM</td>\n",
       "    </tr>\n",
       "    <tr>\n",
       "      <th>4</th>\n",
       "      <td>Over The Moon Brew Company</td>\n",
       "      <td>https://www.zomato.com/hyderabad/over-the-moon...</td>\n",
       "      <td>1,200</td>\n",
       "      <td>Best Bars &amp; Pubs, Food Hygiene Rated Restauran...</td>\n",
       "      <td>Asian, Continental, North Indian, Chinese, Med...</td>\n",
       "      <td>12noon to 11pm (Mon, Tue, Wed, Thu, Sun), 12no...</td>\n",
       "    </tr>\n",
       "  </tbody>\n",
       "</table>\n",
       "</div>"
      ],
      "text/plain": [
       "                             Name  \\\n",
       "0                 Beyond Flavours   \n",
       "1                        Paradise   \n",
       "2                        Flechazo   \n",
       "3  Shah Ghouse Hotel & Restaurant   \n",
       "4      Over The Moon Brew Company   \n",
       "\n",
       "                                               Links   Cost  \\\n",
       "0  https://www.zomato.com/hyderabad/beyond-flavou...    800   \n",
       "1  https://www.zomato.com/hyderabad/paradise-gach...    800   \n",
       "2  https://www.zomato.com/hyderabad/flechazo-gach...  1,300   \n",
       "3  https://www.zomato.com/hyderabad/shah-ghouse-h...    800   \n",
       "4  https://www.zomato.com/hyderabad/over-the-moon...  1,200   \n",
       "\n",
       "                                         Collections  \\\n",
       "0  Food Hygiene Rated Restaurants in Hyderabad, C...   \n",
       "1                                Hyderabad's Hottest   \n",
       "2                 Great Buffets, Hyderabad's Hottest   \n",
       "3                             Late Night Restaurants   \n",
       "4  Best Bars & Pubs, Food Hygiene Rated Restauran...   \n",
       "\n",
       "                                            Cuisines  \\\n",
       "0  Chinese, Continental, Kebab, European, South I...   \n",
       "1                     Biryani, North Indian, Chinese   \n",
       "2       Asian, Mediterranean, North Indian, Desserts   \n",
       "3  Biryani, North Indian, Chinese, Seafood, Bever...   \n",
       "4  Asian, Continental, North Indian, Chinese, Med...   \n",
       "\n",
       "                                             Timings  \n",
       "0      12noon to 3:30pm, 6:30pm to 11:30pm (Mon-Sun)  \n",
       "1                                     11 AM to 11 PM  \n",
       "2              11:30 AM to 4:30 PM, 6:30 PM to 11 PM  \n",
       "3                                    12 Noon to 2 AM  \n",
       "4  12noon to 11pm (Mon, Tue, Wed, Thu, Sun), 12no...  "
      ]
     },
     "execution_count": 2,
     "metadata": {},
     "output_type": "execute_result"
    }
   ],
   "source": [
    "#loading the zomato restaurant dataset \n",
    "names_df = pd.read_csv('Zomato Restaurant names and Metadata.csv')\n",
    "reviews_df = pd.read_csv('Zomato Restaurant reviews.csv')\n",
    "print('Restaurent names dataframe:')\n",
    "names_df.head()"
   ]
  },
  {
   "cell_type": "code",
   "execution_count": 3,
   "metadata": {},
   "outputs": [
    {
     "data": {
      "text/plain": [
       "(105, 6)"
      ]
     },
     "execution_count": 3,
     "metadata": {},
     "output_type": "execute_result"
    }
   ],
   "source": [
    "#shape and size of the dataset\n",
    "names_df.shape"
   ]
  },
  {
   "cell_type": "markdown",
   "metadata": {},
   "source": [
    "**Restaurent reviews dataframe**"
   ]
  },
  {
   "cell_type": "code",
   "execution_count": 4,
   "metadata": {},
   "outputs": [
    {
     "name": "stdout",
     "output_type": "stream",
     "text": [
      "Restaurent reviews dataframe:\n"
     ]
    },
    {
     "data": {
      "text/html": [
       "<div>\n",
       "<style scoped>\n",
       "    .dataframe tbody tr th:only-of-type {\n",
       "        vertical-align: middle;\n",
       "    }\n",
       "\n",
       "    .dataframe tbody tr th {\n",
       "        vertical-align: top;\n",
       "    }\n",
       "\n",
       "    .dataframe thead th {\n",
       "        text-align: right;\n",
       "    }\n",
       "</style>\n",
       "<table border=\"1\" class=\"dataframe\">\n",
       "  <thead>\n",
       "    <tr style=\"text-align: right;\">\n",
       "      <th></th>\n",
       "      <th>Restaurant</th>\n",
       "      <th>Reviewer</th>\n",
       "      <th>Review</th>\n",
       "      <th>Rating</th>\n",
       "      <th>Metadata</th>\n",
       "      <th>Time</th>\n",
       "      <th>Pictures</th>\n",
       "    </tr>\n",
       "  </thead>\n",
       "  <tbody>\n",
       "    <tr>\n",
       "      <th>0</th>\n",
       "      <td>Beyond Flavours</td>\n",
       "      <td>Rusha Chakraborty</td>\n",
       "      <td>The ambience was good, food was quite good . h...</td>\n",
       "      <td>5</td>\n",
       "      <td>1 Review , 2 Followers</td>\n",
       "      <td>5/25/2019 15:54</td>\n",
       "      <td>0</td>\n",
       "    </tr>\n",
       "    <tr>\n",
       "      <th>1</th>\n",
       "      <td>Beyond Flavours</td>\n",
       "      <td>Anusha Tirumalaneedi</td>\n",
       "      <td>Ambience is too good for a pleasant evening. S...</td>\n",
       "      <td>5</td>\n",
       "      <td>3 Reviews , 2 Followers</td>\n",
       "      <td>5/25/2019 14:20</td>\n",
       "      <td>0</td>\n",
       "    </tr>\n",
       "    <tr>\n",
       "      <th>2</th>\n",
       "      <td>Beyond Flavours</td>\n",
       "      <td>Ashok Shekhawat</td>\n",
       "      <td>A must try.. great food great ambience. Thnx f...</td>\n",
       "      <td>5</td>\n",
       "      <td>2 Reviews , 3 Followers</td>\n",
       "      <td>5/24/2019 22:54</td>\n",
       "      <td>0</td>\n",
       "    </tr>\n",
       "    <tr>\n",
       "      <th>3</th>\n",
       "      <td>Beyond Flavours</td>\n",
       "      <td>Swapnil Sarkar</td>\n",
       "      <td>Soumen das and Arun was a great guy. Only beca...</td>\n",
       "      <td>5</td>\n",
       "      <td>1 Review , 1 Follower</td>\n",
       "      <td>5/24/2019 22:11</td>\n",
       "      <td>0</td>\n",
       "    </tr>\n",
       "    <tr>\n",
       "      <th>4</th>\n",
       "      <td>Beyond Flavours</td>\n",
       "      <td>Dileep</td>\n",
       "      <td>Food is good.we ordered Kodi drumsticks and ba...</td>\n",
       "      <td>5</td>\n",
       "      <td>3 Reviews , 2 Followers</td>\n",
       "      <td>5/24/2019 21:37</td>\n",
       "      <td>0</td>\n",
       "    </tr>\n",
       "  </tbody>\n",
       "</table>\n",
       "</div>"
      ],
      "text/plain": [
       "        Restaurant              Reviewer  \\\n",
       "0  Beyond Flavours     Rusha Chakraborty   \n",
       "1  Beyond Flavours  Anusha Tirumalaneedi   \n",
       "2  Beyond Flavours       Ashok Shekhawat   \n",
       "3  Beyond Flavours        Swapnil Sarkar   \n",
       "4  Beyond Flavours                Dileep   \n",
       "\n",
       "                                              Review Rating  \\\n",
       "0  The ambience was good, food was quite good . h...      5   \n",
       "1  Ambience is too good for a pleasant evening. S...      5   \n",
       "2  A must try.. great food great ambience. Thnx f...      5   \n",
       "3  Soumen das and Arun was a great guy. Only beca...      5   \n",
       "4  Food is good.we ordered Kodi drumsticks and ba...      5   \n",
       "\n",
       "                  Metadata             Time  Pictures  \n",
       "0   1 Review , 2 Followers  5/25/2019 15:54         0  \n",
       "1  3 Reviews , 2 Followers  5/25/2019 14:20         0  \n",
       "2  2 Reviews , 3 Followers  5/24/2019 22:54         0  \n",
       "3    1 Review , 1 Follower  5/24/2019 22:11         0  \n",
       "4  3 Reviews , 2 Followers  5/24/2019 21:37         0  "
      ]
     },
     "execution_count": 4,
     "metadata": {},
     "output_type": "execute_result"
    }
   ],
   "source": [
    "#loading the restaurant reviews dataset\n",
    "print('Restaurent reviews dataframe:')\n",
    "reviews_df.head()"
   ]
  },
  {
   "cell_type": "markdown",
   "metadata": {},
   "source": [
    "**Restaurent reviews data cleaning**"
   ]
  },
  {
   "cell_type": "code",
   "execution_count": 5,
   "metadata": {},
   "outputs": [
    {
     "data": {
      "text/plain": [
       "(10000, 7)"
      ]
     },
     "execution_count": 5,
     "metadata": {},
     "output_type": "execute_result"
    }
   ],
   "source": [
    "#shape and size of dataset\n",
    "reviews_df.shape"
   ]
  },
  {
   "cell_type": "code",
   "execution_count": 6,
   "metadata": {},
   "outputs": [
    {
     "data": {
      "text/plain": [
       "Index(['Restaurant', 'Reviewer', 'Review', 'Rating', 'Metadata', 'Time',\n",
       "       'Pictures'],\n",
       "      dtype='object')"
      ]
     },
     "execution_count": 6,
     "metadata": {},
     "output_type": "execute_result"
    }
   ],
   "source": [
    "#columns in the reviews dataset\n",
    "reviews_df.columns"
   ]
  },
  {
   "cell_type": "code",
   "execution_count": 7,
   "metadata": {},
   "outputs": [
    {
     "name": "stdout",
     "output_type": "stream",
     "text": [
      "<class 'pandas.core.frame.DataFrame'>\n",
      "RangeIndex: 10000 entries, 0 to 9999\n",
      "Data columns (total 7 columns):\n",
      " #   Column      Non-Null Count  Dtype \n",
      "---  ------      --------------  ----- \n",
      " 0   Restaurant  10000 non-null  object\n",
      " 1   Reviewer    9962 non-null   object\n",
      " 2   Review      9955 non-null   object\n",
      " 3   Rating      9962 non-null   object\n",
      " 4   Metadata    9962 non-null   object\n",
      " 5   Time        9962 non-null   object\n",
      " 6   Pictures    10000 non-null  int64 \n",
      "dtypes: int64(1), object(6)\n",
      "memory usage: 547.0+ KB\n"
     ]
    }
   ],
   "source": [
    "reviews_df.info()"
   ]
  },
  {
   "cell_type": "markdown",
   "metadata": {},
   "source": [
    "# **Data Cleaning**"
   ]
  },
  {
   "cell_type": "code",
   "execution_count": 8,
   "metadata": {},
   "outputs": [
    {
     "data": {
      "image/png": "[encoded data removed]",
      "text/plain": [
       "<Figure size 1800x720 with 3 Axes>"
      ]
     },
     "metadata": {
      "needs_background": "light"
     },
     "output_type": "display_data"
    }
   ],
   "source": [
    "#checking for null values\n",
    "msno.bar(reviews_df, color='green')\n",
    "plt.title('Checking for NaN values', size=16)\n",
    "plt.xlabel('Columns', size=14)\n",
    "plt.show()"
   ]
  },
  {
   "cell_type": "markdown",
   "metadata": {},
   "source": [
    "* Reviewer, Review, Rating, Metadata and Time are the features having the NaN values"
   ]
  },
  {
   "cell_type": "markdown",
   "metadata": {},
   "source": [
    "**Number of unique values**"
   ]
  },
  {
   "cell_type": "code",
   "execution_count": 9,
   "metadata": {},
   "outputs": [
    {
     "data": {
      "text/plain": [
       "Restaurant     100\n",
       "Reviewer      7446\n",
       "Review        9364\n",
       "Rating          10\n",
       "Metadata      2477\n",
       "Time          9782\n",
       "Pictures        36\n",
       "dtype: int64"
      ]
     },
     "execution_count": 9,
     "metadata": {},
     "output_type": "execute_result"
    }
   ],
   "source": [
    "#number of unique values in reviews dataset\n",
    "reviews_df.nunique()"
   ]
  },
  {
   "cell_type": "markdown",
   "metadata": {},
   "source": [
    "**Restaurant Ratings**"
   ]
  },
  {
   "cell_type": "code",
   "execution_count": 10,
   "metadata": {},
   "outputs": [
    {
     "data": {
      "image/png": "[encoded data removed]",
      "text/plain": [
       "<Figure size 864x360 with 1 Axes>"
      ]
     },
     "metadata": {
      "needs_background": "light"
     },
     "output_type": "display_data"
    }
   ],
   "source": [
    "#plotting the value counts of Restaurant ratings\n",
    "plt.figure(figsize=(12, 5))\n",
    "sns.countplot(reviews_df.Rating)\n",
    "plt.title('Restaurant Ratings', size=16)\n",
    "plt.xlabel('Rating', size=14)\n",
    "plt.ylabel('Count', size=14)\n",
    "plt.show()"
   ]
  },
  {
   "cell_type": "code",
   "execution_count": 11,
   "metadata": {},
   "outputs": [],
   "source": [
    "#removing the chategorical data\n",
    "reviews_df = reviews_df[reviews_df['Rating']!='Like']"
   ]
  },
  {
   "cell_type": "code",
   "execution_count": 12,
   "metadata": {},
   "outputs": [],
   "source": [
    "#converting the rating datatype to numerical values\n",
    "reviews_df['Rating'] = reviews_df['Rating'].astype(float)"
   ]
  },
  {
   "cell_type": "code",
   "execution_count": 13,
   "metadata": {},
   "outputs": [
    {
     "name": "stdout",
     "output_type": "stream",
     "text": [
      "<class 'pandas.core.frame.DataFrame'>\n",
      "Int64Index: 9999 entries, 0 to 9999\n",
      "Data columns (total 7 columns):\n",
      " #   Column      Non-Null Count  Dtype  \n",
      "---  ------      --------------  -----  \n",
      " 0   Restaurant  9999 non-null   object \n",
      " 1   Reviewer    9961 non-null   object \n",
      " 2   Review      9954 non-null   object \n",
      " 3   Rating      9961 non-null   float64\n",
      " 4   Metadata    9961 non-null   object \n",
      " 5   Time        9961 non-null   object \n",
      " 6   Pictures    9999 non-null   int64  \n",
      "dtypes: float64(1), int64(1), object(5)\n",
      "memory usage: 624.9+ KB\n"
     ]
    }
   ],
   "source": [
    "#information of dataframe after the conversion\n",
    "reviews_df.info()"
   ]
  },
  {
   "cell_type": "code",
   "execution_count": 14,
   "metadata": {},
   "outputs": [],
   "source": [
    "#dropping the null values\n",
    "reviews_df.dropna(inplace=True)"
   ]
  },
  {
   "cell_type": "code",
   "execution_count": 15,
   "metadata": {},
   "outputs": [
    {
     "data": {
      "image/png": "[encoded data removed]",
      "text/plain": [
       "<Figure size 864x360 with 2 Axes>"
      ]
     },
     "metadata": {
      "needs_background": "light"
     },
     "output_type": "display_data"
    }
   ],
   "source": [
    "#heatmap of data frame\n",
    "plt.figure(figsize=(12, 5))\n",
    "sns.heatmap(reviews_df.isnull(), yticklabels=False)\n",
    "plt.title('Heatmap of NaN values', size=16)\n",
    "plt.xlabel('Columns', size=14)\n",
    "plt.show()"
   ]
  },
  {
   "cell_type": "code",
   "execution_count": 16,
   "metadata": {},
   "outputs": [],
   "source": [
    "#converting the datatype of metadata\n",
    "reviews_df['Metadata'] = reviews_df['Metadata'].astype(str)"
   ]
  },
  {
   "cell_type": "code",
   "execution_count": 17,
   "metadata": {},
   "outputs": [
    {
     "data": {
      "text/html": [
       "<div>\n",
       "<style scoped>\n",
       "    .dataframe tbody tr th:only-of-type {\n",
       "        vertical-align: middle;\n",
       "    }\n",
       "\n",
       "    .dataframe tbody tr th {\n",
       "        vertical-align: top;\n",
       "    }\n",
       "\n",
       "    .dataframe thead th {\n",
       "        text-align: right;\n",
       "    }\n",
       "</style>\n",
       "<table border=\"1\" class=\"dataframe\">\n",
       "  <thead>\n",
       "    <tr style=\"text-align: right;\">\n",
       "      <th></th>\n",
       "      <th>Restaurant</th>\n",
       "      <th>Reviewer</th>\n",
       "      <th>Review</th>\n",
       "      <th>Rating</th>\n",
       "      <th>Metadata</th>\n",
       "      <th>Time</th>\n",
       "      <th>Pictures</th>\n",
       "    </tr>\n",
       "  </thead>\n",
       "  <tbody>\n",
       "    <tr>\n",
       "      <th>0</th>\n",
       "      <td>Beyond Flavours</td>\n",
       "      <td>Rusha Chakraborty</td>\n",
       "      <td>The ambience was good, food was quite good . h...</td>\n",
       "      <td>5.0</td>\n",
       "      <td>1 Review , 2 Followers</td>\n",
       "      <td>5/25/2019 15:54</td>\n",
       "      <td>0</td>\n",
       "    </tr>\n",
       "    <tr>\n",
       "      <th>1</th>\n",
       "      <td>Beyond Flavours</td>\n",
       "      <td>Anusha Tirumalaneedi</td>\n",
       "      <td>Ambience is too good for a pleasant evening. S...</td>\n",
       "      <td>5.0</td>\n",
       "      <td>3 Reviews , 2 Followers</td>\n",
       "      <td>5/25/2019 14:20</td>\n",
       "      <td>0</td>\n",
       "    </tr>\n",
       "    <tr>\n",
       "      <th>2</th>\n",
       "      <td>Beyond Flavours</td>\n",
       "      <td>Ashok Shekhawat</td>\n",
       "      <td>A must try.. great food great ambience. Thnx f...</td>\n",
       "      <td>5.0</td>\n",
       "      <td>2 Reviews , 3 Followers</td>\n",
       "      <td>5/24/2019 22:54</td>\n",
       "      <td>0</td>\n",
       "    </tr>\n",
       "    <tr>\n",
       "      <th>3</th>\n",
       "      <td>Beyond Flavours</td>\n",
       "      <td>Swapnil Sarkar</td>\n",
       "      <td>Soumen das and Arun was a great guy. Only beca...</td>\n",
       "      <td>5.0</td>\n",
       "      <td>1 Review , 1 Follower</td>\n",
       "      <td>5/24/2019 22:11</td>\n",
       "      <td>0</td>\n",
       "    </tr>\n",
       "    <tr>\n",
       "      <th>4</th>\n",
       "      <td>Beyond Flavours</td>\n",
       "      <td>Dileep</td>\n",
       "      <td>Food is good.we ordered Kodi drumsticks and ba...</td>\n",
       "      <td>5.0</td>\n",
       "      <td>3 Reviews , 2 Followers</td>\n",
       "      <td>5/24/2019 21:37</td>\n",
       "      <td>0</td>\n",
       "    </tr>\n",
       "  </tbody>\n",
       "</table>\n",
       "</div>"
      ],
      "text/plain": [
       "        Restaurant              Reviewer  \\\n",
       "0  Beyond Flavours     Rusha Chakraborty   \n",
       "1  Beyond Flavours  Anusha Tirumalaneedi   \n",
       "2  Beyond Flavours       Ashok Shekhawat   \n",
       "3  Beyond Flavours        Swapnil Sarkar   \n",
       "4  Beyond Flavours                Dileep   \n",
       "\n",
       "                                              Review  Rating  \\\n",
       "0  The ambience was good, food was quite good . h...     5.0   \n",
       "1  Ambience is too good for a pleasant evening. S...     5.0   \n",
       "2  A must try.. great food great ambience. Thnx f...     5.0   \n",
       "3  Soumen das and Arun was a great guy. Only beca...     5.0   \n",
       "4  Food is good.we ordered Kodi drumsticks and ba...     5.0   \n",
       "\n",
       "                  Metadata             Time  Pictures  \n",
       "0   1 Review , 2 Followers  5/25/2019 15:54         0  \n",
       "1  3 Reviews , 2 Followers  5/25/2019 14:20         0  \n",
       "2  2 Reviews , 3 Followers  5/24/2019 22:54         0  \n",
       "3    1 Review , 1 Follower  5/24/2019 22:11         0  \n",
       "4  3 Reviews , 2 Followers  5/24/2019 21:37         0  "
      ]
     },
     "execution_count": 17,
     "metadata": {},
     "output_type": "execute_result"
    }
   ],
   "source": [
    "#first 5 rows of dataframe after data cleaning \n",
    "reviews_df.head()"
   ]
  },
  {
   "cell_type": "code",
   "execution_count": 18,
   "metadata": {},
   "outputs": [],
   "source": [
    "#separating the data contained in the metadata column\n",
    "reviews_df['Reviewrs'], reviews_df['Followers'] = reviews_df['Metadata'].str.split(',').str"
   ]
  },
  {
   "cell_type": "code",
   "execution_count": 19,
   "metadata": {},
   "outputs": [],
   "source": [
    "#separating the numerical data contained in columns\n",
    "reviews_df['Reviewrs'] = pd.to_numeric(reviews_df['Reviewrs'].str.split(' ').str[0])\n",
    "reviews_df['Followers'] = pd.to_numeric(reviews_df['Followers'].str.split(' ').str[1])"
   ]
  },
  {
   "cell_type": "code",
   "execution_count": 20,
   "metadata": {},
   "outputs": [
    {
     "data": {
      "text/html": [
       "<div>\n",
       "<style scoped>\n",
       "    .dataframe tbody tr th:only-of-type {\n",
       "        vertical-align: middle;\n",
       "    }\n",
       "\n",
       "    .dataframe tbody tr th {\n",
       "        vertical-align: top;\n",
       "    }\n",
       "\n",
       "    .dataframe thead th {\n",
       "        text-align: right;\n",
       "    }\n",
       "</style>\n",
       "<table border=\"1\" class=\"dataframe\">\n",
       "  <thead>\n",
       "    <tr style=\"text-align: right;\">\n",
       "      <th></th>\n",
       "      <th>Restaurant</th>\n",
       "      <th>Reviewer</th>\n",
       "      <th>Review</th>\n",
       "      <th>Rating</th>\n",
       "      <th>Time</th>\n",
       "      <th>Pictures</th>\n",
       "      <th>Reviewrs</th>\n",
       "      <th>Followers</th>\n",
       "    </tr>\n",
       "  </thead>\n",
       "  <tbody>\n",
       "    <tr>\n",
       "      <th>0</th>\n",
       "      <td>Beyond Flavours</td>\n",
       "      <td>Rusha Chakraborty</td>\n",
       "      <td>The ambience was good, food was quite good . h...</td>\n",
       "      <td>5.0</td>\n",
       "      <td>5/25/2019 15:54</td>\n",
       "      <td>0</td>\n",
       "      <td>1</td>\n",
       "      <td>2.0</td>\n",
       "    </tr>\n",
       "    <tr>\n",
       "      <th>1</th>\n",
       "      <td>Beyond Flavours</td>\n",
       "      <td>Anusha Tirumalaneedi</td>\n",
       "      <td>Ambience is too good for a pleasant evening. S...</td>\n",
       "      <td>5.0</td>\n",
       "      <td>5/25/2019 14:20</td>\n",
       "      <td>0</td>\n",
       "      <td>3</td>\n",
       "      <td>2.0</td>\n",
       "    </tr>\n",
       "    <tr>\n",
       "      <th>2</th>\n",
       "      <td>Beyond Flavours</td>\n",
       "      <td>Ashok Shekhawat</td>\n",
       "      <td>A must try.. great food great ambience. Thnx f...</td>\n",
       "      <td>5.0</td>\n",
       "      <td>5/24/2019 22:54</td>\n",
       "      <td>0</td>\n",
       "      <td>2</td>\n",
       "      <td>3.0</td>\n",
       "    </tr>\n",
       "    <tr>\n",
       "      <th>3</th>\n",
       "      <td>Beyond Flavours</td>\n",
       "      <td>Swapnil Sarkar</td>\n",
       "      <td>Soumen das and Arun was a great guy. Only beca...</td>\n",
       "      <td>5.0</td>\n",
       "      <td>5/24/2019 22:11</td>\n",
       "      <td>0</td>\n",
       "      <td>1</td>\n",
       "      <td>1.0</td>\n",
       "    </tr>\n",
       "    <tr>\n",
       "      <th>4</th>\n",
       "      <td>Beyond Flavours</td>\n",
       "      <td>Dileep</td>\n",
       "      <td>Food is good.we ordered Kodi drumsticks and ba...</td>\n",
       "      <td>5.0</td>\n",
       "      <td>5/24/2019 21:37</td>\n",
       "      <td>0</td>\n",
       "      <td>3</td>\n",
       "      <td>2.0</td>\n",
       "    </tr>\n",
       "  </tbody>\n",
       "</table>\n",
       "</div>"
      ],
      "text/plain": [
       "        Restaurant              Reviewer  \\\n",
       "0  Beyond Flavours     Rusha Chakraborty   \n",
       "1  Beyond Flavours  Anusha Tirumalaneedi   \n",
       "2  Beyond Flavours       Ashok Shekhawat   \n",
       "3  Beyond Flavours        Swapnil Sarkar   \n",
       "4  Beyond Flavours                Dileep   \n",
       "\n",
       "                                              Review  Rating             Time  \\\n",
       "0  The ambience was good, food was quite good . h...     5.0  5/25/2019 15:54   \n",
       "1  Ambience is too good for a pleasant evening. S...     5.0  5/25/2019 14:20   \n",
       "2  A must try.. great food great ambience. Thnx f...     5.0  5/24/2019 22:54   \n",
       "3  Soumen das and Arun was a great guy. Only beca...     5.0  5/24/2019 22:11   \n",
       "4  Food is good.we ordered Kodi drumsticks and ba...     5.0  5/24/2019 21:37   \n",
       "\n",
       "   Pictures  Reviewrs  Followers  \n",
       "0         0         1        2.0  \n",
       "1         0         3        2.0  \n",
       "2         0         2        3.0  \n",
       "3         0         1        1.0  \n",
       "4         0         3        2.0  "
      ]
     },
     "execution_count": 20,
     "metadata": {},
     "output_type": "execute_result"
    }
   ],
   "source": [
    "#dropping the column\n",
    "reviews_df.drop('Metadata', axis=1, inplace=True)\n",
    "reviews_df.head()"
   ]
  },
  {
   "cell_type": "code",
   "execution_count": 21,
   "metadata": {},
   "outputs": [],
   "source": [
    "#changing the datetime format\n",
    "reviews_df['Time'] = pd.to_datetime(reviews_df['Time'])"
   ]
  },
  {
   "cell_type": "code",
   "execution_count": 22,
   "metadata": {},
   "outputs": [],
   "source": [
    "#inserting new columns after converssion of format\n",
    "reviews_df['Date'] = reviews_df['Time'].dt.day\n",
    "reviews_df['Month'] = reviews_df['Time'].dt.month\n",
    "reviews_df['Year'] = reviews_df['Time'].dt.year\n",
    "reviews_df['Day'] = reviews_df['Time'].dt.day_name()\n",
    "reviews_df['Hour'] = reviews_df['Time'].dt.hour"
   ]
  },
  {
   "cell_type": "code",
   "execution_count": 23,
   "metadata": {},
   "outputs": [
    {
     "data": {
      "text/html": [
       "<div>\n",
       "<style scoped>\n",
       "    .dataframe tbody tr th:only-of-type {\n",
       "        vertical-align: middle;\n",
       "    }\n",
       "\n",
       "    .dataframe tbody tr th {\n",
       "        vertical-align: top;\n",
       "    }\n",
       "\n",
       "    .dataframe thead th {\n",
       "        text-align: right;\n",
       "    }\n",
       "</style>\n",
       "<table border=\"1\" class=\"dataframe\">\n",
       "  <thead>\n",
       "    <tr style=\"text-align: right;\">\n",
       "      <th></th>\n",
       "      <th>Restaurant</th>\n",
       "      <th>Reviewer</th>\n",
       "      <th>Review</th>\n",
       "      <th>Rating</th>\n",
       "      <th>Time</th>\n",
       "      <th>Pictures</th>\n",
       "      <th>Reviewrs</th>\n",
       "      <th>Followers</th>\n",
       "      <th>Date</th>\n",
       "      <th>Month</th>\n",
       "      <th>Year</th>\n",
       "      <th>Day</th>\n",
       "      <th>Hour</th>\n",
       "    </tr>\n",
       "  </thead>\n",
       "  <tbody>\n",
       "    <tr>\n",
       "      <th>0</th>\n",
       "      <td>Beyond Flavours</td>\n",
       "      <td>Rusha Chakraborty</td>\n",
       "      <td>The ambience was good, food was quite good . h...</td>\n",
       "      <td>5.0</td>\n",
       "      <td>2019-05-25 15:54:00</td>\n",
       "      <td>0</td>\n",
       "      <td>1</td>\n",
       "      <td>2.0</td>\n",
       "      <td>25</td>\n",
       "      <td>5</td>\n",
       "      <td>2019</td>\n",
       "      <td>Saturday</td>\n",
       "      <td>15</td>\n",
       "    </tr>\n",
       "    <tr>\n",
       "      <th>1</th>\n",
       "      <td>Beyond Flavours</td>\n",
       "      <td>Anusha Tirumalaneedi</td>\n",
       "      <td>Ambience is too good for a pleasant evening. S...</td>\n",
       "      <td>5.0</td>\n",
       "      <td>2019-05-25 14:20:00</td>\n",
       "      <td>0</td>\n",
       "      <td>3</td>\n",
       "      <td>2.0</td>\n",
       "      <td>25</td>\n",
       "      <td>5</td>\n",
       "      <td>2019</td>\n",
       "      <td>Saturday</td>\n",
       "      <td>14</td>\n",
       "    </tr>\n",
       "    <tr>\n",
       "      <th>2</th>\n",
       "      <td>Beyond Flavours</td>\n",
       "      <td>Ashok Shekhawat</td>\n",
       "      <td>A must try.. great food great ambience. Thnx f...</td>\n",
       "      <td>5.0</td>\n",
       "      <td>2019-05-24 22:54:00</td>\n",
       "      <td>0</td>\n",
       "      <td>2</td>\n",
       "      <td>3.0</td>\n",
       "      <td>24</td>\n",
       "      <td>5</td>\n",
       "      <td>2019</td>\n",
       "      <td>Friday</td>\n",
       "      <td>22</td>\n",
       "    </tr>\n",
       "    <tr>\n",
       "      <th>3</th>\n",
       "      <td>Beyond Flavours</td>\n",
       "      <td>Swapnil Sarkar</td>\n",
       "      <td>Soumen das and Arun was a great guy. Only beca...</td>\n",
       "      <td>5.0</td>\n",
       "      <td>2019-05-24 22:11:00</td>\n",
       "      <td>0</td>\n",
       "      <td>1</td>\n",
       "      <td>1.0</td>\n",
       "      <td>24</td>\n",
       "      <td>5</td>\n",
       "      <td>2019</td>\n",
       "      <td>Friday</td>\n",
       "      <td>22</td>\n",
       "    </tr>\n",
       "    <tr>\n",
       "      <th>4</th>\n",
       "      <td>Beyond Flavours</td>\n",
       "      <td>Dileep</td>\n",
       "      <td>Food is good.we ordered Kodi drumsticks and ba...</td>\n",
       "      <td>5.0</td>\n",
       "      <td>2019-05-24 21:37:00</td>\n",
       "      <td>0</td>\n",
       "      <td>3</td>\n",
       "      <td>2.0</td>\n",
       "      <td>24</td>\n",
       "      <td>5</td>\n",
       "      <td>2019</td>\n",
       "      <td>Friday</td>\n",
       "      <td>21</td>\n",
       "    </tr>\n",
       "  </tbody>\n",
       "</table>\n",
       "</div>"
      ],
      "text/plain": [
       "        Restaurant              Reviewer  \\\n",
       "0  Beyond Flavours     Rusha Chakraborty   \n",
       "1  Beyond Flavours  Anusha Tirumalaneedi   \n",
       "2  Beyond Flavours       Ashok Shekhawat   \n",
       "3  Beyond Flavours        Swapnil Sarkar   \n",
       "4  Beyond Flavours                Dileep   \n",
       "\n",
       "                                              Review  Rating  \\\n",
       "0  The ambience was good, food was quite good . h...     5.0   \n",
       "1  Ambience is too good for a pleasant evening. S...     5.0   \n",
       "2  A must try.. great food great ambience. Thnx f...     5.0   \n",
       "3  Soumen das and Arun was a great guy. Only beca...     5.0   \n",
       "4  Food is good.we ordered Kodi drumsticks and ba...     5.0   \n",
       "\n",
       "                 Time  Pictures  Reviewrs  Followers  Date  Month  Year  \\\n",
       "0 2019-05-25 15:54:00         0         1        2.0    25      5  2019   \n",
       "1 2019-05-25 14:20:00         0         3        2.0    25      5  2019   \n",
       "2 2019-05-24 22:54:00         0         2        3.0    24      5  2019   \n",
       "3 2019-05-24 22:11:00         0         1        1.0    24      5  2019   \n",
       "4 2019-05-24 21:37:00         0         3        2.0    24      5  2019   \n",
       "\n",
       "        Day  Hour  \n",
       "0  Saturday    15  \n",
       "1  Saturday    14  \n",
       "2    Friday    22  \n",
       "3    Friday    22  \n",
       "4    Friday    21  "
      ]
     },
     "execution_count": 23,
     "metadata": {},
     "output_type": "execute_result"
    }
   ],
   "source": [
    "#dataframe after inserssion of columns\n",
    "reviews_df.head()"
   ]
  },
  {
   "cell_type": "code",
   "execution_count": 24,
   "metadata": {},
   "outputs": [
    {
     "data": {
      "text/plain": [
       "array([2019, 2018, 2017, 2016], dtype=int64)"
      ]
     },
     "execution_count": 24,
     "metadata": {},
     "output_type": "execute_result"
    }
   ],
   "source": [
    "#dropping the datetime column\n",
    "reviews_df.drop('Time', axis=1, inplace=True)\n",
    "#checking for unique values in year feature\n",
    "reviews_df['Year'].unique()"
   ]
  },
  {
   "cell_type": "markdown",
   "metadata": {},
   "source": [
    "# **Data Visualization**"
   ]
  },
  {
   "cell_type": "code",
   "execution_count": 25,
   "metadata": {},
   "outputs": [
    {
     "data": {
      "image/png": "[encoded data removed]",
      "text/plain": [
       "<Figure size 864x360 with 1 Axes>"
      ]
     },
     "metadata": {
      "needs_background": "light"
     },
     "output_type": "display_data"
    },
    {
     "data": {
      "image/png": "[encoded data removed]",
      "text/plain": [
       "<Figure size 864x360 with 1 Axes>"
      ]
     },
     "metadata": {
      "needs_background": "light"
     },
     "output_type": "display_data"
    },
    {
     "data": {
      "image/png": "[encoded data removed]",
      "text/plain": [
       "<Figure size 864x360 with 1 Axes>"
      ]
     },
     "metadata": {
      "needs_background": "light"
     },
     "output_type": "display_data"
    },
    {
     "data": {
      "image/png": "[encoded data removed]",
      "text/plain": [
       "<Figure size 864x360 with 1 Axes>"
      ]
     },
     "metadata": {
      "needs_background": "light"
     },
     "output_type": "display_data"
    },
    {
     "data": {
      "image/png": "[encoded data removed]",
      "text/plain": [
       "<Figure size 864x360 with 1 Axes>"
      ]
     },
     "metadata": {
      "needs_background": "light"
     },
     "output_type": "display_data"
    }
   ],
   "source": [
    "#creating a list of new features\n",
    "features = ['Year', 'Month', 'Date', 'Day', 'Hour']\n",
    "\n",
    "#plotting of value counts of the features\n",
    "for col in features:\n",
    "    fig = plt.figure(figsize=(12, 5))\n",
    "    ax = fig.gca()\n",
    "    sns.countplot(reviews_df[col], ax=ax)\n",
    "    plt.title(f'{col} and their value counts', size=16)\n",
    "    plt.xlabel(col, size=14)\n",
    "    plt.ylabel('Count', size=14)\n",
    "    plt.show()"
   ]
  },
  {
   "cell_type": "markdown",
   "metadata": {},
   "source": [
    "**Restaurants and Ratings**"
   ]
  },
  {
   "cell_type": "code",
   "execution_count": 26,
   "metadata": {},
   "outputs": [
    {
     "data": {
      "image/png": "[encoded data removed]",
      "text/plain": [
       "<Figure size 720x360 with 1 Axes>"
      ]
     },
     "metadata": {
      "needs_background": "light"
     },
     "output_type": "display_data"
    }
   ],
   "source": [
    "#data of restaurants\n",
    "top_restaurants = reviews_df.groupby('Restaurant').agg({'Rating':'sum'}).sort_values(by='Rating',ascending=False)\n",
    "#top 10 restaurants\n",
    "top_10 = top_restaurants[:10]\n",
    "#plotting the data of top 10 restaurants\n",
    "top_10.plot(kind='barh', xlim=(400, 500), figsize=(10, 5))\n",
    "plt.title('Top 10 Rated Restaurants', size=16)\n",
    "plt.ylabel('Restaurant', size=14)\n",
    "plt.xlabel('Total Ratings', size=14)\n",
    "plt.show()"
   ]
  },
  {
   "cell_type": "code",
   "execution_count": 27,
   "metadata": {},
   "outputs": [
    {
     "data": {
      "text/plain": [
       "(100, 1)"
      ]
     },
     "execution_count": 27,
     "metadata": {},
     "output_type": "execute_result"
    }
   ],
   "source": [
    "#checking the shape for middle records of features\n",
    "top_restaurants.shape"
   ]
  },
  {
   "cell_type": "code",
   "execution_count": 28,
   "metadata": {},
   "outputs": [
    {
     "data": {
      "image/png": "[encoded data removed]",
      "text/plain": [
       "<Figure size 720x360 with 1 Axes>"
      ]
     },
     "metadata": {
      "needs_background": "light"
     },
     "output_type": "display_data"
    }
   ],
   "source": [
    "#average rated restaurants\n",
    "avg_rated = top_restaurants[45:55]\n",
    "avg_rated.plot(kind='barh', xlim=(350, 370), figsize=(10, 5), color='orange')\n",
    "plt.title('Last 10 Rated Restaurants', size=16)\n",
    "plt.ylabel('Restaurant', size=14)\n",
    "plt.xlabel('Total Ratings', size=14)\n",
    "plt.show()"
   ]
  },
  {
   "cell_type": "code",
   "execution_count": 29,
   "metadata": {},
   "outputs": [
    {
     "data": {
      "image/png": "[encoded data removed]",
      "text/plain": [
       "<Figure size 720x360 with 1 Axes>"
      ]
     },
     "metadata": {
      "needs_background": "light"
     },
     "output_type": "display_data"
    }
   ],
   "source": [
    "#least 10 restaurants\n",
    "last_10 = top_restaurants[-10:]\n",
    "last_10.plot(kind='barh', xlim=(230, 300), figsize=(10, 5), color='c')\n",
    "plt.title('Last 10 Rated Restaurants', size=16)\n",
    "plt.ylabel('Restaurant', size=14)\n",
    "plt.show()"
   ]
  },
  {
   "cell_type": "markdown",
   "metadata": {},
   "source": [
    "**Restaurants and Followers**"
   ]
  },
  {
   "cell_type": "code",
   "execution_count": 30,
   "metadata": {},
   "outputs": [
    {
     "data": {
      "image/png": "[encoded data removed]",
      "text/plain": [
       "<Figure size 720x360 with 1 Axes>"
      ]
     },
     "metadata": {
      "needs_background": "light"
     },
     "output_type": "display_data"
    }
   ],
   "source": [
    "#data of restaurants\n",
    "followed_restaurants = reviews_df.groupby('Restaurant').agg({'Followers':'sum'}).sort_values(by='Followers',ascending=False)\n",
    "#top 10 restaurants\n",
    "top_10 = followed_restaurants[:10]\n",
    "top_10.plot(kind='barh',  figsize=(10, 5))\n",
    "plt.title('Top 10 Followed Restaurants', size=16)\n",
    "plt.ylabel('Restaurants', size=14)\n",
    "plt.xlabel('Total Followers', size=14)\n",
    "plt.show()"
   ]
  },
  {
   "cell_type": "code",
   "execution_count": 31,
   "metadata": {},
   "outputs": [
    {
     "data": {
      "image/png": "[encoded data removed]",
      "text/plain": [
       "<Figure size 720x360 with 1 Axes>"
      ]
     },
     "metadata": {
      "needs_background": "light"
     },
     "output_type": "display_data"
    }
   ],
   "source": [
    "#plotting last 10 records\n",
    "least_10 = followed_restaurants[-10:]\n",
    "least_10.plot(kind='barh',  figsize=(10, 5))\n",
    "plt.title('Least 10 Followed Restaurants', size=16, )\n",
    "plt.ylabel('Restaurants', size=14)\n",
    "plt.xlabel('Total Followers', size=14)\n",
    "plt.show()"
   ]
  },
  {
   "cell_type": "markdown",
   "metadata": {},
   "source": [
    "**Pictures Posted**"
   ]
  },
  {
   "cell_type": "code",
   "execution_count": 32,
   "metadata": {},
   "outputs": [
    {
     "data": {
      "image/png": "[encoded data removed]",
      "text/plain": [
       "<Figure size 720x360 with 1 Axes>"
      ]
     },
     "metadata": {
      "needs_background": "light"
     },
     "output_type": "display_data"
    }
   ],
   "source": [
    "#data of restaurants with pictures\n",
    "pic_restaurants = reviews_df.groupby('Restaurant').agg({'Pictures':'sum'}).sort_values(by='Pictures',ascending=False)\n",
    "#top 10 restaurants\n",
    "top = pic_restaurants.head(10)\n",
    "#plotting the data of top 10 restaurants\n",
    "top.plot(kind='barh', figsize=(10, 5))\n",
    "plt.title('Top Restaurants with Pictures', size=16)\n",
    "plt.ylabel('Restaurant', size=14)\n",
    "plt.xlabel('Total Pictures', size=14)\n",
    "plt.show()"
   ]
  },
  {
   "cell_type": "code",
   "execution_count": 33,
   "metadata": {},
   "outputs": [
    {
     "data": {
      "image/png": "[encoded data removed]",
      "text/plain": [
       "<Figure size 720x360 with 1 Axes>"
      ]
     },
     "metadata": {
      "needs_background": "light"
     },
     "output_type": "display_data"
    }
   ],
   "source": [
    "#last 10 records\n",
    "least = pic_restaurants.tail(10)\n",
    "#plotting the data of least 10 restaurants\n",
    "least.plot(kind='barh', figsize=(10, 5))\n",
    "plt.title('Restaurants with Pictures', size=16)\n",
    "plt.ylabel('Restaurant', size=14)\n",
    "plt.xlabel('Total Pictures', size=14)\n",
    "plt.show()"
   ]
  },
  {
   "cell_type": "markdown",
   "metadata": {},
   "source": [
    "**Reviewrs and Followers**"
   ]
  },
  {
   "cell_type": "code",
   "execution_count": 34,
   "metadata": {},
   "outputs": [
    {
     "data": {
      "text/html": [
       "<div>\n",
       "<style scoped>\n",
       "    .dataframe tbody tr th:only-of-type {\n",
       "        vertical-align: middle;\n",
       "    }\n",
       "\n",
       "    .dataframe tbody tr th {\n",
       "        vertical-align: top;\n",
       "    }\n",
       "\n",
       "    .dataframe thead th {\n",
       "        text-align: right;\n",
       "    }\n",
       "</style>\n",
       "<table border=\"1\" class=\"dataframe\">\n",
       "  <thead>\n",
       "    <tr style=\"text-align: right;\">\n",
       "      <th></th>\n",
       "      <th>Reviewrs</th>\n",
       "      <th>Followers</th>\n",
       "    </tr>\n",
       "    <tr>\n",
       "      <th>Rating</th>\n",
       "      <th></th>\n",
       "      <th></th>\n",
       "    </tr>\n",
       "  </thead>\n",
       "  <tbody>\n",
       "    <tr>\n",
       "      <th>1.0</th>\n",
       "      <td>13165</td>\n",
       "      <td>84228.0</td>\n",
       "    </tr>\n",
       "    <tr>\n",
       "      <th>1.5</th>\n",
       "      <td>457</td>\n",
       "      <td>3381.0</td>\n",
       "    </tr>\n",
       "    <tr>\n",
       "      <th>2.0</th>\n",
       "      <td>15234</td>\n",
       "      <td>99521.0</td>\n",
       "    </tr>\n",
       "    <tr>\n",
       "      <th>2.5</th>\n",
       "      <td>985</td>\n",
       "      <td>4997.0</td>\n",
       "    </tr>\n",
       "    <tr>\n",
       "      <th>3.0</th>\n",
       "      <td>47320</td>\n",
       "      <td>276104.0</td>\n",
       "    </tr>\n",
       "    <tr>\n",
       "      <th>3.5</th>\n",
       "      <td>5289</td>\n",
       "      <td>25045.0</td>\n",
       "    </tr>\n",
       "    <tr>\n",
       "      <th>4.0</th>\n",
       "      <td>101115</td>\n",
       "      <td>679406.0</td>\n",
       "    </tr>\n",
       "    <tr>\n",
       "      <th>4.5</th>\n",
       "      <td>4067</td>\n",
       "      <td>34892.0</td>\n",
       "    </tr>\n",
       "    <tr>\n",
       "      <th>5.0</th>\n",
       "      <td>51343</td>\n",
       "      <td>416146.0</td>\n",
       "    </tr>\n",
       "  </tbody>\n",
       "</table>\n",
       "</div>"
      ],
      "text/plain": [
       "        Reviewrs  Followers\n",
       "Rating                     \n",
       "1.0        13165    84228.0\n",
       "1.5          457     3381.0\n",
       "2.0        15234    99521.0\n",
       "2.5          985     4997.0\n",
       "3.0        47320   276104.0\n",
       "3.5         5289    25045.0\n",
       "4.0       101115   679406.0\n",
       "4.5         4067    34892.0\n",
       "5.0        51343   416146.0"
      ]
     },
     "execution_count": 34,
     "metadata": {},
     "output_type": "execute_result"
    }
   ],
   "source": [
    "#finding the total number of reviewrs and followers\n",
    "ratings = reviews_df.groupby('Rating').agg({'Reviewrs':sum, 'Followers':sum})\n",
    "ratings"
   ]
  },
  {
   "cell_type": "code",
   "execution_count": 35,
   "metadata": {},
   "outputs": [
    {
     "data": {
      "image/png": "[encoded data removed]",
      "text/plain": [
       "<Figure size 864x360 with 1 Axes>"
      ]
     },
     "metadata": {
      "needs_background": "light"
     },
     "output_type": "display_data"
    }
   ],
   "source": [
    "#plotting the data of ratings\n",
    "ratings.plot(kind='bar', figsize=(12, 5))\n",
    "plt.title('Reviewrs and Followers for the Restaurant', size=16)\n",
    "plt.xlabel('Ratings', size=14)\n",
    "plt.ylabel('Total Number of Reviewers and Followers', size=14)\n",
    "plt.show()"
   ]
  },
  {
   "cell_type": "markdown",
   "metadata": {},
   "source": [
    "**Reviewers**"
   ]
  },
  {
   "cell_type": "code",
   "execution_count": 36,
   "metadata": {},
   "outputs": [
    {
     "data": {
      "text/html": [
       "<div>\n",
       "<style scoped>\n",
       "    .dataframe tbody tr th:only-of-type {\n",
       "        vertical-align: middle;\n",
       "    }\n",
       "\n",
       "    .dataframe tbody tr th {\n",
       "        vertical-align: top;\n",
       "    }\n",
       "\n",
       "    .dataframe thead th {\n",
       "        text-align: right;\n",
       "    }\n",
       "</style>\n",
       "<table border=\"1\" class=\"dataframe\">\n",
       "  <thead>\n",
       "    <tr style=\"text-align: right;\">\n",
       "      <th></th>\n",
       "      <th>Rating</th>\n",
       "    </tr>\n",
       "    <tr>\n",
       "      <th>Reviewer</th>\n",
       "      <th></th>\n",
       "    </tr>\n",
       "  </thead>\n",
       "  <tbody>\n",
       "    <tr>\n",
       "      <th>Kiran</th>\n",
       "      <td>54.0</td>\n",
       "    </tr>\n",
       "    <tr>\n",
       "      <th>Ankita</th>\n",
       "      <td>51.0</td>\n",
       "    </tr>\n",
       "    <tr>\n",
       "      <th>Vedant Killa</th>\n",
       "      <td>44.0</td>\n",
       "    </tr>\n",
       "    <tr>\n",
       "      <th>Kumar</th>\n",
       "      <td>42.0</td>\n",
       "    </tr>\n",
       "    <tr>\n",
       "      <th>Parijat Ray</th>\n",
       "      <td>41.5</td>\n",
       "    </tr>\n",
       "    <tr>\n",
       "      <th>Jay Mehta</th>\n",
       "      <td>41.0</td>\n",
       "    </tr>\n",
       "    <tr>\n",
       "      <th>Sravani</th>\n",
       "      <td>40.0</td>\n",
       "    </tr>\n",
       "    <tr>\n",
       "      <th>Prachita Jayaswal</th>\n",
       "      <td>39.0</td>\n",
       "    </tr>\n",
       "    <tr>\n",
       "      <th>Aman Agarwal</th>\n",
       "      <td>38.0</td>\n",
       "    </tr>\n",
       "    <tr>\n",
       "      <th>Manojkumar D Nambisan</th>\n",
       "      <td>37.0</td>\n",
       "    </tr>\n",
       "  </tbody>\n",
       "</table>\n",
       "</div>"
      ],
      "text/plain": [
       "                       Rating\n",
       "Reviewer                     \n",
       "Kiran                    54.0\n",
       "Ankita                   51.0\n",
       "Vedant Killa             44.0\n",
       "Kumar                    42.0\n",
       "Parijat Ray              41.5\n",
       "Jay Mehta                41.0\n",
       "Sravani                  40.0\n",
       "Prachita Jayaswal        39.0\n",
       "Aman Agarwal             38.0\n",
       "Manojkumar D Nambisan    37.0"
      ]
     },
     "execution_count": 36,
     "metadata": {},
     "output_type": "execute_result"
    }
   ],
   "source": [
    "#gathering the data of reviewers\n",
    "top_reviewers = reviews_df.groupby('Reviewer').agg({'Rating':'sum'}).sort_values(by='Rating',ascending=False)\n",
    "top_10 = top_reviewers[:10]\n",
    "top_10"
   ]
  },
  {
   "cell_type": "code",
   "execution_count": 37,
   "metadata": {},
   "outputs": [
    {
     "data": {
      "image/png": "[encoded data removed]",
      "text/plain": [
       "<Figure size 720x360 with 1 Axes>"
      ]
     },
     "metadata": {
      "needs_background": "light"
     },
     "output_type": "display_data"
    }
   ],
   "source": [
    "#plotting the data of top reviewers\n",
    "top_10.plot(kind='barh', xlim=(35, 60), figsize=(10, 5))\n",
    "plt.title('Top 10 Rated Reviewers', size=16)\n",
    "plt.ylabel('Reviewers', size=14)\n",
    "plt.show()"
   ]
  },
  {
   "cell_type": "code",
   "execution_count": 38,
   "metadata": {},
   "outputs": [
    {
     "data": {
      "image/png": "[encoded data removed]",
      "text/plain": [
       "<Figure size 720x360 with 1 Axes>"
      ]
     },
     "metadata": {
      "needs_background": "light"
     },
     "output_type": "display_data"
    }
   ],
   "source": [
    "#least reviewers\n",
    "last_10 = top_reviewers[-10:]\n",
    "last_10.plot(kind='barh', xlim=(0, 3), figsize=(10, 5), color='c')\n",
    "plt.title('Last 10 Rated Reviewers', size=16)\n",
    "plt.ylabel('Reviewers', size=14)\n",
    "plt.show()"
   ]
  },
  {
   "cell_type": "code",
   "execution_count": 39,
   "metadata": {},
   "outputs": [],
   "source": [
    "#defining the preprocessing\n",
    "def txt_processing(text):\n",
    "    #removing the punctuations\n",
    "    no_punc = [char for char in text if char not in string.punctuation]\n",
    "    no_punc = \"\".join(no_punc)\n",
    "    #removing stopwords\n",
    "    return \" \".join([word for word in no_punc.split() if word.lower not in stopwords.words('english')])"
   ]
  },
  {
   "cell_type": "code",
   "execution_count": 40,
   "metadata": {},
   "outputs": [
    {
     "data": {
      "text/plain": [
       "0    The ambience was good food was quite good had ...\n",
       "1    Ambience is too good for a pleasant evening Se...\n",
       "2    A must try great food great ambience Thnx for ...\n",
       "3    Soumen das and Arun was a great guy Only becau...\n",
       "4    Food is goodwe ordered Kodi drumsticks and bas...\n",
       "5    Ambiance is good service is good food is aPrad...\n",
       "6    Its a very nice place ambience is different al...\n",
       "7    Well after reading so many reviews finally vis...\n",
       "8    Excellent food specially if you like spicy foo...\n",
       "9    Came for the birthday treat of a close friend ...\n",
       "Name: Review, dtype: object"
      ]
     },
     "execution_count": 40,
     "metadata": {},
     "output_type": "execute_result"
    }
   ],
   "source": [
    "#applying the text preprocessing fuction\n",
    "reviews_df['Review'] = reviews_df['Review'].apply(lambda text: txt_processing(text))\n",
    "#top 10 records after processing\n",
    "reviews_df['Review'].head(10)"
   ]
  },
  {
   "cell_type": "code",
   "execution_count": 41,
   "metadata": {},
   "outputs": [],
   "source": [
    "#dictionary of reviews\n",
    "reviews_dict = {}\n",
    "for word in reviews_df['Review']:\n",
    "    for char in word.split(', '):\n",
    "        if char in reviews_dict:\n",
    "            reviews_dict[char] = reviews_dict[char]+1\n",
    "        else:\n",
    "            reviews_dict[char] = 1"
   ]
  },
  {
   "cell_type": "code",
   "execution_count": 42,
   "metadata": {},
   "outputs": [
    {
     "data": {
      "text/html": [
       "<div>\n",
       "<style scoped>\n",
       "    .dataframe tbody tr th:only-of-type {\n",
       "        vertical-align: middle;\n",
       "    }\n",
       "\n",
       "    .dataframe tbody tr th {\n",
       "        vertical-align: top;\n",
       "    }\n",
       "\n",
       "    .dataframe thead th {\n",
       "        text-align: right;\n",
       "    }\n",
       "</style>\n",
       "<table border=\"1\" class=\"dataframe\">\n",
       "  <thead>\n",
       "    <tr style=\"text-align: right;\">\n",
       "      <th></th>\n",
       "      <th>Review</th>\n",
       "      <th>Count</th>\n",
       "    </tr>\n",
       "  </thead>\n",
       "  <tbody>\n",
       "    <tr>\n",
       "      <th>785</th>\n",
       "      <td>good</td>\n",
       "      <td>239</td>\n",
       "    </tr>\n",
       "    <tr>\n",
       "      <th>1566</th>\n",
       "      <td>Good</td>\n",
       "      <td>50</td>\n",
       "    </tr>\n",
       "    <tr>\n",
       "      <th>1581</th>\n",
       "      <td>nice</td>\n",
       "      <td>30</td>\n",
       "    </tr>\n",
       "    <tr>\n",
       "      <th>1900</th>\n",
       "      <td>very good</td>\n",
       "      <td>23</td>\n",
       "    </tr>\n",
       "    <tr>\n",
       "      <th>791</th>\n",
       "      <td>excellent</td>\n",
       "      <td>20</td>\n",
       "    </tr>\n",
       "  </tbody>\n",
       "</table>\n",
       "</div>"
      ],
      "text/plain": [
       "         Review  Count\n",
       "785        good    239\n",
       "1566       Good     50\n",
       "1581       nice     30\n",
       "1900  very good     23\n",
       "791   excellent     20"
      ]
     },
     "execution_count": 42,
     "metadata": {},
     "output_type": "execute_result"
    }
   ],
   "source": [
    "#dataframe of words in the reviews\n",
    "review_df = pd.DataFrame(reviews_dict.items(), columns=['Review', 'Count']).sort_values('Count', ascending=False)\n",
    "#first 5 records of the dataframe\n",
    "review_df.head()"
   ]
  },
  {
   "cell_type": "markdown",
   "metadata": {},
   "source": [
    "**Restaurant Names Data Frame**"
   ]
  },
  {
   "cell_type": "code",
   "execution_count": 43,
   "metadata": {},
   "outputs": [
    {
     "name": "stdout",
     "output_type": "stream",
     "text": [
      "Restaurent names dataframe:\n"
     ]
    },
    {
     "data": {
      "text/html": [
       "<div>\n",
       "<style scoped>\n",
       "    .dataframe tbody tr th:only-of-type {\n",
       "        vertical-align: middle;\n",
       "    }\n",
       "\n",
       "    .dataframe tbody tr th {\n",
       "        vertical-align: top;\n",
       "    }\n",
       "\n",
       "    .dataframe thead th {\n",
       "        text-align: right;\n",
       "    }\n",
       "</style>\n",
       "<table border=\"1\" class=\"dataframe\">\n",
       "  <thead>\n",
       "    <tr style=\"text-align: right;\">\n",
       "      <th></th>\n",
       "      <th>Name</th>\n",
       "      <th>Links</th>\n",
       "      <th>Cost</th>\n",
       "      <th>Collections</th>\n",
       "      <th>Cuisines</th>\n",
       "      <th>Timings</th>\n",
       "    </tr>\n",
       "  </thead>\n",
       "  <tbody>\n",
       "    <tr>\n",
       "      <th>0</th>\n",
       "      <td>Beyond Flavours</td>\n",
       "      <td>https://www.zomato.com/hyderabad/beyond-flavou...</td>\n",
       "      <td>800</td>\n",
       "      <td>Food Hygiene Rated Restaurants in Hyderabad, C...</td>\n",
       "      <td>Chinese, Continental, Kebab, European, South I...</td>\n",
       "      <td>12noon to 3:30pm, 6:30pm to 11:30pm (Mon-Sun)</td>\n",
       "    </tr>\n",
       "    <tr>\n",
       "      <th>1</th>\n",
       "      <td>Paradise</td>\n",
       "      <td>https://www.zomato.com/hyderabad/paradise-gach...</td>\n",
       "      <td>800</td>\n",
       "      <td>Hyderabad's Hottest</td>\n",
       "      <td>Biryani, North Indian, Chinese</td>\n",
       "      <td>11 AM to 11 PM</td>\n",
       "    </tr>\n",
       "    <tr>\n",
       "      <th>2</th>\n",
       "      <td>Flechazo</td>\n",
       "      <td>https://www.zomato.com/hyderabad/flechazo-gach...</td>\n",
       "      <td>1,300</td>\n",
       "      <td>Great Buffets, Hyderabad's Hottest</td>\n",
       "      <td>Asian, Mediterranean, North Indian, Desserts</td>\n",
       "      <td>11:30 AM to 4:30 PM, 6:30 PM to 11 PM</td>\n",
       "    </tr>\n",
       "    <tr>\n",
       "      <th>3</th>\n",
       "      <td>Shah Ghouse Hotel &amp; Restaurant</td>\n",
       "      <td>https://www.zomato.com/hyderabad/shah-ghouse-h...</td>\n",
       "      <td>800</td>\n",
       "      <td>Late Night Restaurants</td>\n",
       "      <td>Biryani, North Indian, Chinese, Seafood, Bever...</td>\n",
       "      <td>12 Noon to 2 AM</td>\n",
       "    </tr>\n",
       "    <tr>\n",
       "      <th>4</th>\n",
       "      <td>Over The Moon Brew Company</td>\n",
       "      <td>https://www.zomato.com/hyderabad/over-the-moon...</td>\n",
       "      <td>1,200</td>\n",
       "      <td>Best Bars &amp; Pubs, Food Hygiene Rated Restauran...</td>\n",
       "      <td>Asian, Continental, North Indian, Chinese, Med...</td>\n",
       "      <td>12noon to 11pm (Mon, Tue, Wed, Thu, Sun), 12no...</td>\n",
       "    </tr>\n",
       "  </tbody>\n",
       "</table>\n",
       "</div>"
      ],
      "text/plain": [
       "                             Name  \\\n",
       "0                 Beyond Flavours   \n",
       "1                        Paradise   \n",
       "2                        Flechazo   \n",
       "3  Shah Ghouse Hotel & Restaurant   \n",
       "4      Over The Moon Brew Company   \n",
       "\n",
       "                                               Links   Cost  \\\n",
       "0  https://www.zomato.com/hyderabad/beyond-flavou...    800   \n",
       "1  https://www.zomato.com/hyderabad/paradise-gach...    800   \n",
       "2  https://www.zomato.com/hyderabad/flechazo-gach...  1,300   \n",
       "3  https://www.zomato.com/hyderabad/shah-ghouse-h...    800   \n",
       "4  https://www.zomato.com/hyderabad/over-the-moon...  1,200   \n",
       "\n",
       "                                         Collections  \\\n",
       "0  Food Hygiene Rated Restaurants in Hyderabad, C...   \n",
       "1                                Hyderabad's Hottest   \n",
       "2                 Great Buffets, Hyderabad's Hottest   \n",
       "3                             Late Night Restaurants   \n",
       "4  Best Bars & Pubs, Food Hygiene Rated Restauran...   \n",
       "\n",
       "                                            Cuisines  \\\n",
       "0  Chinese, Continental, Kebab, European, South I...   \n",
       "1                     Biryani, North Indian, Chinese   \n",
       "2       Asian, Mediterranean, North Indian, Desserts   \n",
       "3  Biryani, North Indian, Chinese, Seafood, Bever...   \n",
       "4  Asian, Continental, North Indian, Chinese, Med...   \n",
       "\n",
       "                                             Timings  \n",
       "0      12noon to 3:30pm, 6:30pm to 11:30pm (Mon-Sun)  \n",
       "1                                     11 AM to 11 PM  \n",
       "2              11:30 AM to 4:30 PM, 6:30 PM to 11 PM  \n",
       "3                                    12 Noon to 2 AM  \n",
       "4  12noon to 11pm (Mon, Tue, Wed, Thu, Sun), 12no...  "
      ]
     },
     "execution_count": 43,
     "metadata": {},
     "output_type": "execute_result"
    }
   ],
   "source": [
    "#loading the zomato restaurant dataset \n",
    "names_df = pd.read_csv('Zomato Restaurant names and Metadata.csv')\n",
    "print('Restaurent names dataframe:')\n",
    "names_df.head()"
   ]
  },
  {
   "cell_type": "markdown",
   "metadata": {},
   "source": [
    "**Data Cleaning**"
   ]
  },
  {
   "cell_type": "code",
   "execution_count": 44,
   "metadata": {},
   "outputs": [
    {
     "data": {
      "image/png": "[encoded data removed]",
      "text/plain": [
       "<Figure size 1800x720 with 3 Axes>"
      ]
     },
     "metadata": {
      "needs_background": "light"
     },
     "output_type": "display_data"
    }
   ],
   "source": [
    "#checking for null values\n",
    "msno.bar(names_df, color='gray')\n",
    "plt.title('Checking for NaN values', size=16)\n",
    "plt.xlabel('Columns', size=14)\n",
    "plt.show()"
   ]
  },
  {
   "cell_type": "markdown",
   "metadata": {},
   "source": [
    "* Collections feature is having the NaN values\n",
    "* Dropping the feature"
   ]
  },
  {
   "cell_type": "markdown",
   "metadata": {},
   "source": [
    "**Changing the Cost feature in th dataset**"
   ]
  },
  {
   "cell_type": "code",
   "execution_count": 45,
   "metadata": {},
   "outputs": [],
   "source": [
    "#replacing , in the feature\n",
    "names_df['Cost'] = names_df['Cost'].str.replace(',','').astype(int)"
   ]
  },
  {
   "cell_type": "code",
   "execution_count": 46,
   "metadata": {},
   "outputs": [
    {
     "name": "stdout",
     "output_type": "stream",
     "text": [
      "<class 'pandas.core.frame.DataFrame'>\n",
      "RangeIndex: 105 entries, 0 to 104\n",
      "Data columns (total 6 columns):\n",
      " #   Column       Non-Null Count  Dtype \n",
      "---  ------       --------------  ----- \n",
      " 0   Name         105 non-null    object\n",
      " 1   Links        105 non-null    object\n",
      " 2   Cost         105 non-null    int32 \n",
      " 3   Collections  51 non-null     object\n",
      " 4   Cuisines     105 non-null    object\n",
      " 5   Timings      104 non-null    object\n",
      "dtypes: int32(1), object(5)\n",
      "memory usage: 4.6+ KB\n"
     ]
    }
   ],
   "source": [
    "#information of datatypes\n",
    "names_df.info()"
   ]
  },
  {
   "cell_type": "code",
   "execution_count": 47,
   "metadata": {},
   "outputs": [
    {
     "data": {
      "text/plain": [
       "Name           105\n",
       "Links          105\n",
       "Cost            29\n",
       "Collections     42\n",
       "Cuisines        92\n",
       "Timings         77\n",
       "dtype: int64"
      ]
     },
     "execution_count": 47,
     "metadata": {},
     "output_type": "execute_result"
    }
   ],
   "source": [
    "#number of unique values\n",
    "names_df.nunique()"
   ]
  },
  {
   "cell_type": "markdown",
   "metadata": {},
   "source": [
    "**Filling the null value in Timings feature**"
   ]
  },
  {
   "cell_type": "code",
   "execution_count": 48,
   "metadata": {},
   "outputs": [],
   "source": [
    "#finding the mode of the feature\n",
    "z = names_df['Timings'].mode()[0]\n",
    "#filling the null values\n",
    "names_df['Timings'] = names_df['Timings'].fillna(z)\n",
    "#dropping the nan values features\n",
    "names_df.drop('Collections', axis=1, inplace=True)"
   ]
  },
  {
   "cell_type": "code",
   "execution_count": 49,
   "metadata": {},
   "outputs": [
    {
     "data": {
      "image/png": "[encoded data removed]",
      "text/plain": [
       "<Figure size 864x360 with 2 Axes>"
      ]
     },
     "metadata": {
      "needs_background": "light"
     },
     "output_type": "display_data"
    }
   ],
   "source": [
    "#heatmap of data frame\n",
    "plt.figure(figsize=(12, 5))\n",
    "sns.heatmap(names_df.isnull(), yticklabels=False)\n",
    "plt.title('Heatmap of NaN values', size=16)\n",
    "plt.xlabel('Columns', size=14)\n",
    "plt.show()"
   ]
  },
  {
   "cell_type": "code",
   "execution_count": 50,
   "metadata": {},
   "outputs": [
    {
     "data": {
      "text/plain": [
       "(105, 5)"
      ]
     },
     "execution_count": 50,
     "metadata": {},
     "output_type": "execute_result"
    }
   ],
   "source": [
    "names_df.shape"
   ]
  },
  {
   "cell_type": "markdown",
   "metadata": {},
   "source": [
    "**Analysis on Cost Feature**"
   ]
  },
  {
   "cell_type": "code",
   "execution_count": 51,
   "metadata": {},
   "outputs": [
    {
     "data": {
      "image/png": "[encoded data removed]",
      "text/plain": [
       "<Figure size 864x360 with 1 Axes>"
      ]
     },
     "metadata": {
      "needs_background": "light"
     },
     "output_type": "display_data"
    }
   ],
   "source": [
    "#finding total of costs on the restaurant names\n",
    "cost = names_df.groupby(['Name'])['Cost'].sum().sort_values(ascending=False)\n",
    "high_cost = cost.head(10)\n",
    "\n",
    "#plotting of data\n",
    "high_cost.plot(kind='barh', figsize=(12,5), color='red')\n",
    "plt.title('Restaurant with high Cost', size=16)\n",
    "plt.xlabel('Cost', size=14)\n",
    "plt.ylabel('Name', size=14)\n",
    "plt.show()"
   ]
  },
  {
   "cell_type": "code",
   "execution_count": 52,
   "metadata": {},
   "outputs": [
    {
     "data": {
      "image/png": "[encoded data removed]",
      "text/plain": [
       "<Figure size 864x360 with 1 Axes>"
      ]
     },
     "metadata": {
      "needs_background": "light"
     },
     "output_type": "display_data"
    }
   ],
   "source": [
    "#plotting of the cheapest restuarants\n",
    "low_cost = cost.tail(10)\n",
    "low_cost.plot(kind='barh', figsize=(12,5), color='green')\n",
    "plt.title('Restaurant with low Cost', size=16)\n",
    "plt.xlabel('Cost', size=14)\n",
    "plt.ylabel('Name', size=14)\n",
    "plt.show()"
   ]
  },
  {
   "cell_type": "markdown",
   "metadata": {},
   "source": [
    "**Analysis on Cuisines**"
   ]
  },
  {
   "cell_type": "code",
   "execution_count": 53,
   "metadata": {},
   "outputs": [],
   "source": [
    "#dictionary of dishes in restuarant\n",
    "cuisines_dict = {}\n",
    "for cuisine in names_df['Cuisines']:\n",
    "    for name in cuisine.split(', '):\n",
    "        if name in cuisines_dict:\n",
    "            cuisines_dict[name] = cuisines_dict[name]+1\n",
    "        else:\n",
    "            cuisines_dict[name] = 1"
   ]
  },
  {
   "cell_type": "code",
   "execution_count": 54,
   "metadata": {},
   "outputs": [
    {
     "data": {
      "text/html": [
       "<div>\n",
       "<style scoped>\n",
       "    .dataframe tbody tr th:only-of-type {\n",
       "        vertical-align: middle;\n",
       "    }\n",
       "\n",
       "    .dataframe tbody tr th {\n",
       "        vertical-align: top;\n",
       "    }\n",
       "\n",
       "    .dataframe thead th {\n",
       "        text-align: right;\n",
       "    }\n",
       "</style>\n",
       "<table border=\"1\" class=\"dataframe\">\n",
       "  <thead>\n",
       "    <tr style=\"text-align: right;\">\n",
       "      <th></th>\n",
       "      <th>Cuisine</th>\n",
       "      <th>Count</th>\n",
       "    </tr>\n",
       "  </thead>\n",
       "  <tbody>\n",
       "    <tr>\n",
       "      <th>5</th>\n",
       "      <td>North Indian</td>\n",
       "      <td>61</td>\n",
       "    </tr>\n",
       "    <tr>\n",
       "      <th>0</th>\n",
       "      <td>Chinese</td>\n",
       "      <td>43</td>\n",
       "    </tr>\n",
       "    <tr>\n",
       "      <th>1</th>\n",
       "      <td>Continental</td>\n",
       "      <td>21</td>\n",
       "    </tr>\n",
       "    <tr>\n",
       "      <th>6</th>\n",
       "      <td>Biryani</td>\n",
       "      <td>16</td>\n",
       "    </tr>\n",
       "    <tr>\n",
       "      <th>18</th>\n",
       "      <td>Fast Food</td>\n",
       "      <td>15</td>\n",
       "    </tr>\n",
       "  </tbody>\n",
       "</table>\n",
       "</div>"
      ],
      "text/plain": [
       "         Cuisine  Count\n",
       "5   North Indian     61\n",
       "0        Chinese     43\n",
       "1    Continental     21\n",
       "6        Biryani     16\n",
       "18     Fast Food     15"
      ]
     },
     "execution_count": 54,
     "metadata": {},
     "output_type": "execute_result"
    }
   ],
   "source": [
    "#dataframe of the variaties of disehes\n",
    "cuisine_df = pd.DataFrame(cuisines_dict.items(), columns=['Cuisine', 'Count']).sort_values('Count', ascending=False)\n",
    "cuisine_df.head()"
   ]
  },
  {
   "cell_type": "code",
   "execution_count": 55,
   "metadata": {},
   "outputs": [
    {
     "data": {
      "image/png": "[encoded data removed]",
      "text/plain": [
       "<Figure size 864x360 with 1 Axes>"
      ]
     },
     "metadata": {
      "needs_background": "light"
     },
     "output_type": "display_data"
    }
   ],
   "source": [
    "#plotting of cuisines data of top orders\n",
    "plt.figure(figsize=(12, 5))\n",
    "sns.barplot(x=cuisine_df['Cuisine'][:10], y=cuisine_df['Count'][:10])\n",
    "plt.title('Frequently Ordered', size=16)\n",
    "plt.xlabel('Cuisine', size=14)\n",
    "plt.ylabel('Count', size=14)\n",
    "plt.show()"
   ]
  },
  {
   "cell_type": "code",
   "execution_count": 56,
   "metadata": {},
   "outputs": [
    {
     "data": {
      "image/png": "[encoded data removed]",
      "text/plain": [
       "<Figure size 864x360 with 1 Axes>"
      ]
     },
     "metadata": {
      "needs_background": "light"
     },
     "output_type": "display_data"
    }
   ],
   "source": [
    "#plotting of cuisines data of least orders\n",
    "plt.figure(figsize=(12, 5))\n",
    "sns.barplot(x=cuisine_df['Cuisine'][-10:], y=cuisine_df['Count'][-10:])\n",
    "plt.title('Ordered Less', size=16)\n",
    "plt.xlabel('Cuisine', size=14)\n",
    "plt.ylabel('Count', size=14)\n",
    "plt.show()"
   ]
  },
  {
   "cell_type": "code",
   "execution_count": 57,
   "metadata": {},
   "outputs": [],
   "source": [
    "#importing libraries required for recomendation system\n",
    "from sklearn.feature_extraction.text import TfidfVectorizer\n",
    "from sklearn.metrics.pairwise import linear_kernel"
   ]
  },
  {
   "cell_type": "code",
   "execution_count": 58,
   "metadata": {},
   "outputs": [
    {
     "data": {
      "text/html": [
       "<div>\n",
       "<style scoped>\n",
       "    .dataframe tbody tr th:only-of-type {\n",
       "        vertical-align: middle;\n",
       "    }\n",
       "\n",
       "    .dataframe tbody tr th {\n",
       "        vertical-align: top;\n",
       "    }\n",
       "\n",
       "    .dataframe thead th {\n",
       "        text-align: right;\n",
       "    }\n",
       "</style>\n",
       "<table border=\"1\" class=\"dataframe\">\n",
       "  <thead>\n",
       "    <tr style=\"text-align: right;\">\n",
       "      <th></th>\n",
       "      <th>Restaurant</th>\n",
       "      <th>Reviewer</th>\n",
       "      <th>Review</th>\n",
       "      <th>Rating</th>\n",
       "      <th>Pictures</th>\n",
       "      <th>Reviewrs</th>\n",
       "      <th>Followers</th>\n",
       "      <th>Date</th>\n",
       "      <th>Month</th>\n",
       "      <th>Year</th>\n",
       "      <th>Day</th>\n",
       "      <th>Hour</th>\n",
       "      <th>Name</th>\n",
       "      <th>Cost</th>\n",
       "      <th>Cuisines</th>\n",
       "      <th>Timings</th>\n",
       "    </tr>\n",
       "  </thead>\n",
       "  <tbody>\n",
       "    <tr>\n",
       "      <th>0</th>\n",
       "      <td>Beyond Flavours</td>\n",
       "      <td>Rusha Chakraborty</td>\n",
       "      <td>The ambience was good food was quite good had ...</td>\n",
       "      <td>5.0</td>\n",
       "      <td>0.0</td>\n",
       "      <td>1.0</td>\n",
       "      <td>2.0</td>\n",
       "      <td>25.0</td>\n",
       "      <td>5.0</td>\n",
       "      <td>2019.0</td>\n",
       "      <td>Saturday</td>\n",
       "      <td>15.0</td>\n",
       "      <td>Beyond Flavours</td>\n",
       "      <td>800</td>\n",
       "      <td>Chinese, Continental, Kebab, European, South I...</td>\n",
       "      <td>12noon to 3:30pm, 6:30pm to 11:30pm (Mon-Sun)</td>\n",
       "    </tr>\n",
       "    <tr>\n",
       "      <th>1</th>\n",
       "      <td>Beyond Flavours</td>\n",
       "      <td>Anusha Tirumalaneedi</td>\n",
       "      <td>Ambience is too good for a pleasant evening Se...</td>\n",
       "      <td>5.0</td>\n",
       "      <td>0.0</td>\n",
       "      <td>3.0</td>\n",
       "      <td>2.0</td>\n",
       "      <td>25.0</td>\n",
       "      <td>5.0</td>\n",
       "      <td>2019.0</td>\n",
       "      <td>Saturday</td>\n",
       "      <td>14.0</td>\n",
       "      <td>Beyond Flavours</td>\n",
       "      <td>800</td>\n",
       "      <td>Chinese, Continental, Kebab, European, South I...</td>\n",
       "      <td>12noon to 3:30pm, 6:30pm to 11:30pm (Mon-Sun)</td>\n",
       "    </tr>\n",
       "    <tr>\n",
       "      <th>2</th>\n",
       "      <td>Beyond Flavours</td>\n",
       "      <td>Ashok Shekhawat</td>\n",
       "      <td>A must try great food great ambience Thnx for ...</td>\n",
       "      <td>5.0</td>\n",
       "      <td>0.0</td>\n",
       "      <td>2.0</td>\n",
       "      <td>3.0</td>\n",
       "      <td>24.0</td>\n",
       "      <td>5.0</td>\n",
       "      <td>2019.0</td>\n",
       "      <td>Friday</td>\n",
       "      <td>22.0</td>\n",
       "      <td>Beyond Flavours</td>\n",
       "      <td>800</td>\n",
       "      <td>Chinese, Continental, Kebab, European, South I...</td>\n",
       "      <td>12noon to 3:30pm, 6:30pm to 11:30pm (Mon-Sun)</td>\n",
       "    </tr>\n",
       "    <tr>\n",
       "      <th>3</th>\n",
       "      <td>Beyond Flavours</td>\n",
       "      <td>Swapnil Sarkar</td>\n",
       "      <td>Soumen das and Arun was a great guy Only becau...</td>\n",
       "      <td>5.0</td>\n",
       "      <td>0.0</td>\n",
       "      <td>1.0</td>\n",
       "      <td>1.0</td>\n",
       "      <td>24.0</td>\n",
       "      <td>5.0</td>\n",
       "      <td>2019.0</td>\n",
       "      <td>Friday</td>\n",
       "      <td>22.0</td>\n",
       "      <td>Beyond Flavours</td>\n",
       "      <td>800</td>\n",
       "      <td>Chinese, Continental, Kebab, European, South I...</td>\n",
       "      <td>12noon to 3:30pm, 6:30pm to 11:30pm (Mon-Sun)</td>\n",
       "    </tr>\n",
       "    <tr>\n",
       "      <th>4</th>\n",
       "      <td>Beyond Flavours</td>\n",
       "      <td>Dileep</td>\n",
       "      <td>Food is goodwe ordered Kodi drumsticks and bas...</td>\n",
       "      <td>5.0</td>\n",
       "      <td>0.0</td>\n",
       "      <td>3.0</td>\n",
       "      <td>2.0</td>\n",
       "      <td>24.0</td>\n",
       "      <td>5.0</td>\n",
       "      <td>2019.0</td>\n",
       "      <td>Friday</td>\n",
       "      <td>21.0</td>\n",
       "      <td>Beyond Flavours</td>\n",
       "      <td>800</td>\n",
       "      <td>Chinese, Continental, Kebab, European, South I...</td>\n",
       "      <td>12noon to 3:30pm, 6:30pm to 11:30pm (Mon-Sun)</td>\n",
       "    </tr>\n",
       "  </tbody>\n",
       "</table>\n",
       "</div>"
      ],
      "text/plain": [
       "        Restaurant              Reviewer  \\\n",
       "0  Beyond Flavours     Rusha Chakraborty   \n",
       "1  Beyond Flavours  Anusha Tirumalaneedi   \n",
       "2  Beyond Flavours       Ashok Shekhawat   \n",
       "3  Beyond Flavours        Swapnil Sarkar   \n",
       "4  Beyond Flavours                Dileep   \n",
       "\n",
       "                                              Review  Rating  Pictures  \\\n",
       "0  The ambience was good food was quite good had ...     5.0       0.0   \n",
       "1  Ambience is too good for a pleasant evening Se...     5.0       0.0   \n",
       "2  A must try great food great ambience Thnx for ...     5.0       0.0   \n",
       "3  Soumen das and Arun was a great guy Only becau...     5.0       0.0   \n",
       "4  Food is goodwe ordered Kodi drumsticks and bas...     5.0       0.0   \n",
       "\n",
       "   Reviewrs  Followers  Date  Month    Year       Day  Hour             Name  \\\n",
       "0       1.0        2.0  25.0    5.0  2019.0  Saturday  15.0  Beyond Flavours   \n",
       "1       3.0        2.0  25.0    5.0  2019.0  Saturday  14.0  Beyond Flavours   \n",
       "2       2.0        3.0  24.0    5.0  2019.0    Friday  22.0  Beyond Flavours   \n",
       "3       1.0        1.0  24.0    5.0  2019.0    Friday  22.0  Beyond Flavours   \n",
       "4       3.0        2.0  24.0    5.0  2019.0    Friday  21.0  Beyond Flavours   \n",
       "\n",
       "   Cost                                           Cuisines  \\\n",
       "0   800  Chinese, Continental, Kebab, European, South I...   \n",
       "1   800  Chinese, Continental, Kebab, European, South I...   \n",
       "2   800  Chinese, Continental, Kebab, European, South I...   \n",
       "3   800  Chinese, Continental, Kebab, European, South I...   \n",
       "4   800  Chinese, Continental, Kebab, European, South I...   \n",
       "\n",
       "                                         Timings  \n",
       "0  12noon to 3:30pm, 6:30pm to 11:30pm (Mon-Sun)  \n",
       "1  12noon to 3:30pm, 6:30pm to 11:30pm (Mon-Sun)  \n",
       "2  12noon to 3:30pm, 6:30pm to 11:30pm (Mon-Sun)  \n",
       "3  12noon to 3:30pm, 6:30pm to 11:30pm (Mon-Sun)  \n",
       "4  12noon to 3:30pm, 6:30pm to 11:30pm (Mon-Sun)  "
      ]
     },
     "execution_count": 58,
     "metadata": {},
     "output_type": "execute_result"
    }
   ],
   "source": [
    "#merging 2 dataframes\n",
    "df = pd.merge(reviews_df, names_df, how='outer', right_on='Name', left_on='Restaurant')\n",
    "#droppin links feature\n",
    "df.drop(columns=['Links'], axis=1, inplace=True)\n",
    "#first 5 records of merged dataframe\n",
    "df.head()"
   ]
  },
  {
   "cell_type": "code",
   "execution_count": 59,
   "metadata": {},
   "outputs": [],
   "source": [
    "#changing the index of the dataframe\n",
    "df.set_index('Name', inplace=True)\n",
    "#series of indices\n",
    "indices = pd.Series(df.index)\n",
    "tfidf = TfidfVectorizer(analyzer='word', ngram_range=(1, 2), min_df=0, stop_words='english')\n",
    "tfidf_matrix = tfidf.fit_transform(reviews_df['Review'])"
   ]
  },
  {
   "cell_type": "code",
   "execution_count": 60,
   "metadata": {},
   "outputs": [],
   "source": [
    "#calculating the similarity\n",
    "cosine_similarities = linear_kernel(tfidf_matrix, tfidf_matrix)"
   ]
  },
  {
   "cell_type": "code",
   "execution_count": 61,
   "metadata": {},
   "outputs": [],
   "source": [
    "#function of recomendatation system\n",
    "def recommend(name, cosine_similarities = cosine_similarities):\n",
    "    \n",
    "    #list to put top 10 restaurants\n",
    "    recommend_restaurant = []\n",
    "    #index of the hotel entered\n",
    "    idx = indices[indices == name].index[0]\n",
    "    #restaurants with a similar cosine value\n",
    "    score_series = pd.Series(cosine_similarities[idx]).sort_values(ascending=False)\n",
    "    #top 30 restaurant indexes with a similar cosine value\n",
    "    top30_indexes = list(score_series.iloc[0:30].index)\n",
    "    #top 30 restaurants\n",
    "    for each in top30_indexes:\n",
    "        recommend_restaurant.append(list(df.index)[each])\n",
    "    \n",
    "    #creating a new data set of similar restaurants\n",
    "    df_new = pd.DataFrame(columns=['Cuisines', 'Rating', 'Cost', 'Timings'])\n",
    "    #top 30 similar restaurants with some of their columns\n",
    "    for each in recommend_restaurant:\n",
    "        df_new = df_new.append(pd.DataFrame(df[['Cuisines','Rating', 'Cost', 'Timings']][df.index == each].sample()))\n",
    "    \n",
    "    #dropping the same named restaurants and sort only the top 10 by the highest rating\n",
    "    df_new = df_new.drop_duplicates(subset=['Cuisines','Rating', 'Cost'], keep=False)\n",
    "    df_new = df_new.sort_values(by='Rating', ascending=False).head(10)\n",
    "    \n",
    "    print(f'TOP 10 RESTAURANTS LIKE {name} WITH SIMILAR REVIEWS:')\n",
    "    return df_new"
   ]
  },
  {
   "cell_type": "code",
   "execution_count": 62,
   "metadata": {},
   "outputs": [
    {
     "data": {
      "text/html": [
       "<div>\n",
       "<style scoped>\n",
       "    .dataframe tbody tr th:only-of-type {\n",
       "        vertical-align: middle;\n",
       "    }\n",
       "\n",
       "    .dataframe tbody tr th {\n",
       "        vertical-align: top;\n",
       "    }\n",
       "\n",
       "    .dataframe thead th {\n",
       "        text-align: right;\n",
       "    }\n",
       "</style>\n",
       "<table border=\"1\" class=\"dataframe\">\n",
       "  <thead>\n",
       "    <tr style=\"text-align: right;\">\n",
       "      <th></th>\n",
       "      <th>Restaurant</th>\n",
       "      <th>Reviewer</th>\n",
       "      <th>Review</th>\n",
       "      <th>Rating</th>\n",
       "      <th>Pictures</th>\n",
       "      <th>Reviewrs</th>\n",
       "      <th>Followers</th>\n",
       "      <th>Date</th>\n",
       "      <th>Month</th>\n",
       "      <th>Year</th>\n",
       "      <th>Day</th>\n",
       "      <th>Hour</th>\n",
       "      <th>Cost</th>\n",
       "      <th>Cuisines</th>\n",
       "      <th>Timings</th>\n",
       "    </tr>\n",
       "    <tr>\n",
       "      <th>Name</th>\n",
       "      <th></th>\n",
       "      <th></th>\n",
       "      <th></th>\n",
       "      <th></th>\n",
       "      <th></th>\n",
       "      <th></th>\n",
       "      <th></th>\n",
       "      <th></th>\n",
       "      <th></th>\n",
       "      <th></th>\n",
       "      <th></th>\n",
       "      <th></th>\n",
       "      <th></th>\n",
       "      <th></th>\n",
       "      <th></th>\n",
       "    </tr>\n",
       "  </thead>\n",
       "  <tbody>\n",
       "    <tr>\n",
       "      <th>Pista House</th>\n",
       "      <td>Pista House</td>\n",
       "      <td>Moonis Ahmed</td>\n",
       "      <td>Living in Manikonda this has been our goto pla...</td>\n",
       "      <td>4.0</td>\n",
       "      <td>0.0</td>\n",
       "      <td>160.0</td>\n",
       "      <td>754.0</td>\n",
       "      <td>24.0</td>\n",
       "      <td>5.0</td>\n",
       "      <td>2019.0</td>\n",
       "      <td>Friday</td>\n",
       "      <td>19.0</td>\n",
       "      <td>1000</td>\n",
       "      <td>Bakery, North Indian, Mughlai, Juices, Chinese</td>\n",
       "      <td>11 AM to 12 Midnight</td>\n",
       "    </tr>\n",
       "  </tbody>\n",
       "</table>\n",
       "</div>"
      ],
      "text/plain": [
       "              Restaurant      Reviewer  \\\n",
       "Name                                     \n",
       "Pista House  Pista House  Moonis Ahmed   \n",
       "\n",
       "                                                        Review  Rating  \\\n",
       "Name                                                                     \n",
       "Pista House  Living in Manikonda this has been our goto pla...     4.0   \n",
       "\n",
       "             Pictures  Reviewrs  Followers  Date  Month    Year     Day  Hour  \\\n",
       "Name                                                                            \n",
       "Pista House       0.0     160.0      754.0  24.0    5.0  2019.0  Friday  19.0   \n",
       "\n",
       "             Cost                                        Cuisines  \\\n",
       "Name                                                                \n",
       "Pista House  1000  Bakery, North Indian, Mughlai, Juices, Chinese   \n",
       "\n",
       "                          Timings  \n",
       "Name                               \n",
       "Pista House  11 AM to 12 Midnight  "
      ]
     },
     "execution_count": 62,
     "metadata": {},
     "output_type": "execute_result"
    }
   ],
   "source": [
    "#evaluating the function with example\n",
    "df[df.index=='Pista House'].head(1)"
   ]
  },
  {
   "cell_type": "code",
   "execution_count": 63,
   "metadata": {},
   "outputs": [
    {
     "name": "stdout",
     "output_type": "stream",
     "text": [
      "TOP 10 RESTAURANTS LIKE Pista House WITH SIMILAR REVIEWS:\n"
     ]
    },
    {
     "data": {
      "text/html": [
       "<div>\n",
       "<style scoped>\n",
       "    .dataframe tbody tr th:only-of-type {\n",
       "        vertical-align: middle;\n",
       "    }\n",
       "\n",
       "    .dataframe tbody tr th {\n",
       "        vertical-align: top;\n",
       "    }\n",
       "\n",
       "    .dataframe thead th {\n",
       "        text-align: right;\n",
       "    }\n",
       "</style>\n",
       "<table border=\"1\" class=\"dataframe\">\n",
       "  <thead>\n",
       "    <tr style=\"text-align: right;\">\n",
       "      <th></th>\n",
       "      <th>Cuisines</th>\n",
       "      <th>Rating</th>\n",
       "      <th>Cost</th>\n",
       "      <th>Timings</th>\n",
       "    </tr>\n",
       "  </thead>\n",
       "  <tbody>\n",
       "    <tr>\n",
       "      <th>Marsala Food Company</th>\n",
       "      <td>Arabian, North Indian, Chinese</td>\n",
       "      <td>5.0</td>\n",
       "      <td>700</td>\n",
       "      <td>12noon to 4pm, 7pm to 12midnight (Mon-Sun)</td>\n",
       "    </tr>\n",
       "    <tr>\n",
       "      <th>Kritunga Restaurant</th>\n",
       "      <td>Andhra, Biryani, Hyderabadi, North Indian</td>\n",
       "      <td>5.0</td>\n",
       "      <td>500</td>\n",
       "      <td>12 Noon to 4 PM, 7 PM to 11 PM</td>\n",
       "    </tr>\n",
       "    <tr>\n",
       "      <th>The Fisherman's Wharf</th>\n",
       "      <td>Seafood, Goan, North Indian, Continental, Asian</td>\n",
       "      <td>5.0</td>\n",
       "      <td>1500</td>\n",
       "      <td>12Noon to 3:30PM, 4PM to 6:30PM, 7PM to 11:30P...</td>\n",
       "    </tr>\n",
       "    <tr>\n",
       "      <th>Pakwaan Grand</th>\n",
       "      <td>North Indian, Chinese, Biryani</td>\n",
       "      <td>5.0</td>\n",
       "      <td>400</td>\n",
       "      <td>12 Noon to 11 PM</td>\n",
       "    </tr>\n",
       "    <tr>\n",
       "      <th>Hyderabadi Daawat</th>\n",
       "      <td>Hyderabadi, Chinese, Mughlai</td>\n",
       "      <td>5.0</td>\n",
       "      <td>600</td>\n",
       "      <td>12:30pm to 11:30pm (Mon-Sun)</td>\n",
       "    </tr>\n",
       "    <tr>\n",
       "      <th>Paradise</th>\n",
       "      <td>Biryani, North Indian, Chinese</td>\n",
       "      <td>5.0</td>\n",
       "      <td>800</td>\n",
       "      <td>11 AM to 11 PM</td>\n",
       "    </tr>\n",
       "    <tr>\n",
       "      <th>Shah Ghouse Spl Shawarma</th>\n",
       "      <td>Lebanese</td>\n",
       "      <td>5.0</td>\n",
       "      <td>300</td>\n",
       "      <td>12 Noon to 12 Midnight</td>\n",
       "    </tr>\n",
       "    <tr>\n",
       "      <th>Shah Ghouse Hotel &amp; Restaurant</th>\n",
       "      <td>Biryani, North Indian, Chinese, Seafood, Bever...</td>\n",
       "      <td>4.0</td>\n",
       "      <td>800</td>\n",
       "      <td>12 Noon to 2 AM</td>\n",
       "    </tr>\n",
       "    <tr>\n",
       "      <th>Hyderabadi Daawat</th>\n",
       "      <td>Hyderabadi, Chinese, Mughlai</td>\n",
       "      <td>4.0</td>\n",
       "      <td>600</td>\n",
       "      <td>12:30pm to 11:30pm (Mon-Sun)</td>\n",
       "    </tr>\n",
       "    <tr>\n",
       "      <th>Pista House</th>\n",
       "      <td>Bakery, North Indian, Mughlai, Juices, Chinese</td>\n",
       "      <td>3.0</td>\n",
       "      <td>1000</td>\n",
       "      <td>11 AM to 12 Midnight</td>\n",
       "    </tr>\n",
       "  </tbody>\n",
       "</table>\n",
       "</div>"
      ],
      "text/plain": [
       "                                                                         Cuisines  \\\n",
       "Marsala Food Company                               Arabian, North Indian, Chinese   \n",
       "Kritunga Restaurant                     Andhra, Biryani, Hyderabadi, North Indian   \n",
       "The Fisherman's Wharf             Seafood, Goan, North Indian, Continental, Asian   \n",
       "Pakwaan Grand                                      North Indian, Chinese, Biryani   \n",
       "Hyderabadi Daawat                                    Hyderabadi, Chinese, Mughlai   \n",
       "Paradise                                           Biryani, North Indian, Chinese   \n",
       "Shah Ghouse Spl Shawarma                                                 Lebanese   \n",
       "Shah Ghouse Hotel & Restaurant  Biryani, North Indian, Chinese, Seafood, Bever...   \n",
       "Hyderabadi Daawat                                    Hyderabadi, Chinese, Mughlai   \n",
       "Pista House                        Bakery, North Indian, Mughlai, Juices, Chinese   \n",
       "\n",
       "                                Rating  Cost  \\\n",
       "Marsala Food Company               5.0   700   \n",
       "Kritunga Restaurant                5.0   500   \n",
       "The Fisherman's Wharf              5.0  1500   \n",
       "Pakwaan Grand                      5.0   400   \n",
       "Hyderabadi Daawat                  5.0   600   \n",
       "Paradise                           5.0   800   \n",
       "Shah Ghouse Spl Shawarma           5.0   300   \n",
       "Shah Ghouse Hotel & Restaurant     4.0   800   \n",
       "Hyderabadi Daawat                  4.0   600   \n",
       "Pista House                        3.0  1000   \n",
       "\n",
       "                                                                          Timings  \n",
       "Marsala Food Company                   12noon to 4pm, 7pm to 12midnight (Mon-Sun)  \n",
       "Kritunga Restaurant                                12 Noon to 4 PM, 7 PM to 11 PM  \n",
       "The Fisherman's Wharf           12Noon to 3:30PM, 4PM to 6:30PM, 7PM to 11:30P...  \n",
       "Pakwaan Grand                                                    12 Noon to 11 PM  \n",
       "Hyderabadi Daawat                                    12:30pm to 11:30pm (Mon-Sun)  \n",
       "Paradise                                                           11 AM to 11 PM  \n",
       "Shah Ghouse Spl Shawarma                                   12 Noon to 12 Midnight  \n",
       "Shah Ghouse Hotel & Restaurant                                    12 Noon to 2 AM  \n",
       "Hyderabadi Daawat                                    12:30pm to 11:30pm (Mon-Sun)  \n",
       "Pista House                                                  11 AM to 12 Midnight  "
      ]
     },
     "execution_count": 63,
     "metadata": {},
     "output_type": "execute_result"
    }
   ],
   "source": [
    "#top recomendatations on the example\n",
    "recommend('Pista House')"
   ]
  },
  {
   "cell_type": "code",
   "execution_count": 64,
   "metadata": {},
   "outputs": [
    {
     "data": {
      "text/html": [
       "<div>\n",
       "<style scoped>\n",
       "    .dataframe tbody tr th:only-of-type {\n",
       "        vertical-align: middle;\n",
       "    }\n",
       "\n",
       "    .dataframe tbody tr th {\n",
       "        vertical-align: top;\n",
       "    }\n",
       "\n",
       "    .dataframe thead th {\n",
       "        text-align: right;\n",
       "    }\n",
       "</style>\n",
       "<table border=\"1\" class=\"dataframe\">\n",
       "  <thead>\n",
       "    <tr style=\"text-align: right;\">\n",
       "      <th></th>\n",
       "      <th>Restaurant</th>\n",
       "      <th>Reviewer</th>\n",
       "      <th>Review</th>\n",
       "      <th>Rating</th>\n",
       "      <th>Pictures</th>\n",
       "      <th>Reviewrs</th>\n",
       "      <th>Followers</th>\n",
       "      <th>Date</th>\n",
       "      <th>Month</th>\n",
       "      <th>Year</th>\n",
       "      <th>Day</th>\n",
       "      <th>Hour</th>\n",
       "      <th>Cost</th>\n",
       "      <th>Cuisines</th>\n",
       "      <th>Timings</th>\n",
       "    </tr>\n",
       "    <tr>\n",
       "      <th>Name</th>\n",
       "      <th></th>\n",
       "      <th></th>\n",
       "      <th></th>\n",
       "      <th></th>\n",
       "      <th></th>\n",
       "      <th></th>\n",
       "      <th></th>\n",
       "      <th></th>\n",
       "      <th></th>\n",
       "      <th></th>\n",
       "      <th></th>\n",
       "      <th></th>\n",
       "      <th></th>\n",
       "      <th></th>\n",
       "      <th></th>\n",
       "    </tr>\n",
       "  </thead>\n",
       "  <tbody>\n",
       "    <tr>\n",
       "      <th>Paradise</th>\n",
       "      <td>Paradise</td>\n",
       "      <td>Subodh Deshmukh</td>\n",
       "      <td>Paradise Biryani is really good service also g...</td>\n",
       "      <td>5.0</td>\n",
       "      <td>0.0</td>\n",
       "      <td>1.0</td>\n",
       "      <td>1.0</td>\n",
       "      <td>25.0</td>\n",
       "      <td>5.0</td>\n",
       "      <td>2019.0</td>\n",
       "      <td>Saturday</td>\n",
       "      <td>16.0</td>\n",
       "      <td>800</td>\n",
       "      <td>Biryani, North Indian, Chinese</td>\n",
       "      <td>11 AM to 11 PM</td>\n",
       "    </tr>\n",
       "  </tbody>\n",
       "</table>\n",
       "</div>"
      ],
      "text/plain": [
       "         Restaurant         Reviewer  \\\n",
       "Name                                   \n",
       "Paradise   Paradise  Subodh Deshmukh   \n",
       "\n",
       "                                                     Review  Rating  Pictures  \\\n",
       "Name                                                                            \n",
       "Paradise  Paradise Biryani is really good service also g...     5.0       0.0   \n",
       "\n",
       "          Reviewrs  Followers  Date  Month    Year       Day  Hour  Cost  \\\n",
       "Name                                                                       \n",
       "Paradise       1.0        1.0  25.0    5.0  2019.0  Saturday  16.0   800   \n",
       "\n",
       "                                Cuisines         Timings  \n",
       "Name                                                      \n",
       "Paradise  Biryani, North Indian, Chinese  11 AM to 11 PM  "
      ]
     },
     "execution_count": 64,
     "metadata": {},
     "output_type": "execute_result"
    }
   ],
   "source": [
    "#evaluating the function with example\n",
    "df[df.index=='Paradise'].head(1)"
   ]
  },
  {
   "cell_type": "code",
   "execution_count": 65,
   "metadata": {},
   "outputs": [
    {
     "name": "stdout",
     "output_type": "stream",
     "text": [
      "TOP 10 RESTAURANTS LIKE Paradise WITH SIMILAR REVIEWS:\n"
     ]
    },
    {
     "data": {
      "text/html": [
       "<div>\n",
       "<style scoped>\n",
       "    .dataframe tbody tr th:only-of-type {\n",
       "        vertical-align: middle;\n",
       "    }\n",
       "\n",
       "    .dataframe tbody tr th {\n",
       "        vertical-align: top;\n",
       "    }\n",
       "\n",
       "    .dataframe thead th {\n",
       "        text-align: right;\n",
       "    }\n",
       "</style>\n",
       "<table border=\"1\" class=\"dataframe\">\n",
       "  <thead>\n",
       "    <tr style=\"text-align: right;\">\n",
       "      <th></th>\n",
       "      <th>Cuisines</th>\n",
       "      <th>Rating</th>\n",
       "      <th>Cost</th>\n",
       "      <th>Timings</th>\n",
       "    </tr>\n",
       "  </thead>\n",
       "  <tbody>\n",
       "    <tr>\n",
       "      <th>Hotel Zara Hi-Fi</th>\n",
       "      <td>Chinese, North Indian</td>\n",
       "      <td>5.0</td>\n",
       "      <td>400</td>\n",
       "      <td>11:30 AM to 1 AM</td>\n",
       "    </tr>\n",
       "    <tr>\n",
       "      <th>Udipi's Upahar</th>\n",
       "      <td>South Indian, North Indian, Chinese</td>\n",
       "      <td>5.0</td>\n",
       "      <td>500</td>\n",
       "      <td>6 AM to 10:30 PM</td>\n",
       "    </tr>\n",
       "    <tr>\n",
       "      <th>Amul</th>\n",
       "      <td>Ice Cream, Desserts</td>\n",
       "      <td>5.0</td>\n",
       "      <td>150</td>\n",
       "      <td>10 AM to 5 AM</td>\n",
       "    </tr>\n",
       "    <tr>\n",
       "      <th>The Chocolate Room</th>\n",
       "      <td>Cafe, Desserts</td>\n",
       "      <td>5.0</td>\n",
       "      <td>600</td>\n",
       "      <td>10 AM to 12 Midnight</td>\n",
       "    </tr>\n",
       "    <tr>\n",
       "      <th>Aromas@11SIX</th>\n",
       "      <td>North Indian, Chinese, Mughlai, Biryani</td>\n",
       "      <td>5.0</td>\n",
       "      <td>750</td>\n",
       "      <td>11:30 AM to 12 Midnight</td>\n",
       "    </tr>\n",
       "    <tr>\n",
       "      <th>Khaan Saab</th>\n",
       "      <td>North Indian, Mughlai</td>\n",
       "      <td>5.0</td>\n",
       "      <td>1100</td>\n",
       "      <td>12 Noon to 3:30 PM, 7 PM to 11:30 PM</td>\n",
       "    </tr>\n",
       "    <tr>\n",
       "      <th>Hyderabad Chefs</th>\n",
       "      <td>North Indian, Chinese</td>\n",
       "      <td>5.0</td>\n",
       "      <td>600</td>\n",
       "      <td>12 Noon to 10:30 PM</td>\n",
       "    </tr>\n",
       "    <tr>\n",
       "      <th>Biryanis And More</th>\n",
       "      <td>North Indian, Biryani, Chinese</td>\n",
       "      <td>5.0</td>\n",
       "      <td>500</td>\n",
       "      <td>11 AM to 11 PM</td>\n",
       "    </tr>\n",
       "    <tr>\n",
       "      <th>Owm Nom Nom</th>\n",
       "      <td>Chinese, Biryani, Andhra, North Indian</td>\n",
       "      <td>5.0</td>\n",
       "      <td>900</td>\n",
       "      <td>12Noon to 11:30PM (Mon-Sun)</td>\n",
       "    </tr>\n",
       "    <tr>\n",
       "      <th>Gal Punjab Di</th>\n",
       "      <td>North Indian, Continental</td>\n",
       "      <td>5.0</td>\n",
       "      <td>800</td>\n",
       "      <td>11:55 AM to 4 PM, 7 PM to 11:15 PM</td>\n",
       "    </tr>\n",
       "  </tbody>\n",
       "</table>\n",
       "</div>"
      ],
      "text/plain": [
       "                                                   Cuisines  Rating  Cost  \\\n",
       "Hotel Zara Hi-Fi                      Chinese, North Indian     5.0   400   \n",
       "Udipi's Upahar          South Indian, North Indian, Chinese     5.0   500   \n",
       "Amul                                    Ice Cream, Desserts     5.0   150   \n",
       "The Chocolate Room                           Cafe, Desserts     5.0   600   \n",
       "Aromas@11SIX        North Indian, Chinese, Mughlai, Biryani     5.0   750   \n",
       "Khaan Saab                            North Indian, Mughlai     5.0  1100   \n",
       "Hyderabad Chefs                       North Indian, Chinese     5.0   600   \n",
       "Biryanis And More            North Indian, Biryani, Chinese     5.0   500   \n",
       "Owm Nom Nom          Chinese, Biryani, Andhra, North Indian     5.0   900   \n",
       "Gal Punjab Di                     North Indian, Continental     5.0   800   \n",
       "\n",
       "                                                 Timings  \n",
       "Hotel Zara Hi-Fi                        11:30 AM to 1 AM  \n",
       "Udipi's Upahar                          6 AM to 10:30 PM  \n",
       "Amul                                       10 AM to 5 AM  \n",
       "The Chocolate Room                  10 AM to 12 Midnight  \n",
       "Aromas@11SIX                     11:30 AM to 12 Midnight  \n",
       "Khaan Saab          12 Noon to 3:30 PM, 7 PM to 11:30 PM  \n",
       "Hyderabad Chefs                      12 Noon to 10:30 PM  \n",
       "Biryanis And More                         11 AM to 11 PM  \n",
       "Owm Nom Nom                  12Noon to 11:30PM (Mon-Sun)  \n",
       "Gal Punjab Di         11:55 AM to 4 PM, 7 PM to 11:15 PM  "
      ]
     },
     "execution_count": 65,
     "metadata": {},
     "output_type": "execute_result"
    }
   ],
   "source": [
    "#top recomendatations on the example\n",
    "recommend('Paradise')"
   ]
  },
  {
   "cell_type": "code",
   "execution_count": 66,
   "metadata": {},
   "outputs": [
    {
     "data": {
      "text/html": [
       "<div>\n",
       "<style scoped>\n",
       "    .dataframe tbody tr th:only-of-type {\n",
       "        vertical-align: middle;\n",
       "    }\n",
       "\n",
       "    .dataframe tbody tr th {\n",
       "        vertical-align: top;\n",
       "    }\n",
       "\n",
       "    .dataframe thead th {\n",
       "        text-align: right;\n",
       "    }\n",
       "</style>\n",
       "<table border=\"1\" class=\"dataframe\">\n",
       "  <thead>\n",
       "    <tr style=\"text-align: right;\">\n",
       "      <th></th>\n",
       "      <th>Restaurant</th>\n",
       "      <th>Reviewer</th>\n",
       "      <th>Review</th>\n",
       "      <th>Rating</th>\n",
       "      <th>Pictures</th>\n",
       "      <th>Reviewrs</th>\n",
       "      <th>Followers</th>\n",
       "      <th>Date</th>\n",
       "      <th>Month</th>\n",
       "      <th>Year</th>\n",
       "      <th>Day</th>\n",
       "      <th>Hour</th>\n",
       "      <th>Cost</th>\n",
       "      <th>Cuisines</th>\n",
       "      <th>Timings</th>\n",
       "    </tr>\n",
       "    <tr>\n",
       "      <th>Name</th>\n",
       "      <th></th>\n",
       "      <th></th>\n",
       "      <th></th>\n",
       "      <th></th>\n",
       "      <th></th>\n",
       "      <th></th>\n",
       "      <th></th>\n",
       "      <th></th>\n",
       "      <th></th>\n",
       "      <th></th>\n",
       "      <th></th>\n",
       "      <th></th>\n",
       "      <th></th>\n",
       "      <th></th>\n",
       "      <th></th>\n",
       "    </tr>\n",
       "  </thead>\n",
       "  <tbody>\n",
       "    <tr>\n",
       "      <th>Hyderabadi Daawat</th>\n",
       "      <td>Hyderabadi Daawat</td>\n",
       "      <td>Sureshraju Datla</td>\n",
       "      <td>i have ordered Veg Biryani from Hyderabad Daaw...</td>\n",
       "      <td>3.0</td>\n",
       "      <td>0.0</td>\n",
       "      <td>5.0</td>\n",
       "      <td>NaN</td>\n",
       "      <td>20.0</td>\n",
       "      <td>5.0</td>\n",
       "      <td>2019.0</td>\n",
       "      <td>Monday</td>\n",
       "      <td>11.0</td>\n",
       "      <td>600</td>\n",
       "      <td>Hyderabadi, Chinese, Mughlai</td>\n",
       "      <td>12:30pm to 11:30pm (Mon-Sun)</td>\n",
       "    </tr>\n",
       "  </tbody>\n",
       "</table>\n",
       "</div>"
      ],
      "text/plain": [
       "                          Restaurant          Reviewer  \\\n",
       "Name                                                     \n",
       "Hyderabadi Daawat  Hyderabadi Daawat  Sureshraju Datla   \n",
       "\n",
       "                                                              Review  Rating  \\\n",
       "Name                                                                           \n",
       "Hyderabadi Daawat  i have ordered Veg Biryani from Hyderabad Daaw...     3.0   \n",
       "\n",
       "                   Pictures  Reviewrs  Followers  Date  Month    Year     Day  \\\n",
       "Name                                                                            \n",
       "Hyderabadi Daawat       0.0       5.0        NaN  20.0    5.0  2019.0  Monday   \n",
       "\n",
       "                   Hour  Cost                      Cuisines  \\\n",
       "Name                                                          \n",
       "Hyderabadi Daawat  11.0   600  Hyderabadi, Chinese, Mughlai   \n",
       "\n",
       "                                        Timings  \n",
       "Name                                             \n",
       "Hyderabadi Daawat  12:30pm to 11:30pm (Mon-Sun)  "
      ]
     },
     "execution_count": 66,
     "metadata": {},
     "output_type": "execute_result"
    }
   ],
   "source": [
    "#evaluating the function with example\n",
    "df[df.index=='Hyderabadi Daawat'].head(1)"
   ]
  },
  {
   "cell_type": "code",
   "execution_count": 67,
   "metadata": {},
   "outputs": [
    {
     "name": "stdout",
     "output_type": "stream",
     "text": [
      "TOP 10 RESTAURANTS LIKE Hyderabadi Daawat WITH SIMILAR REVIEWS:\n"
     ]
    },
    {
     "data": {
      "text/html": [
       "<div>\n",
       "<style scoped>\n",
       "    .dataframe tbody tr th:only-of-type {\n",
       "        vertical-align: middle;\n",
       "    }\n",
       "\n",
       "    .dataframe tbody tr th {\n",
       "        vertical-align: top;\n",
       "    }\n",
       "\n",
       "    .dataframe thead th {\n",
       "        text-align: right;\n",
       "    }\n",
       "</style>\n",
       "<table border=\"1\" class=\"dataframe\">\n",
       "  <thead>\n",
       "    <tr style=\"text-align: right;\">\n",
       "      <th></th>\n",
       "      <th>Cuisines</th>\n",
       "      <th>Rating</th>\n",
       "      <th>Cost</th>\n",
       "      <th>Timings</th>\n",
       "    </tr>\n",
       "  </thead>\n",
       "  <tbody>\n",
       "    <tr>\n",
       "      <th>Amul</th>\n",
       "      <td>Ice Cream, Desserts</td>\n",
       "      <td>5.0</td>\n",
       "      <td>150</td>\n",
       "      <td>10 AM to 5 AM</td>\n",
       "    </tr>\n",
       "    <tr>\n",
       "      <th>Green Bawarchi Restaurant</th>\n",
       "      <td>North Indian, Chinese, Biryani</td>\n",
       "      <td>5.0</td>\n",
       "      <td>700</td>\n",
       "      <td>12 Noon to 11 PM</td>\n",
       "    </tr>\n",
       "    <tr>\n",
       "      <th>Hitech Bawarchi Food Zone</th>\n",
       "      <td>Biryani, North Indian, Chinese</td>\n",
       "      <td>5.0</td>\n",
       "      <td>500</td>\n",
       "      <td>12 Noon to 11 PM</td>\n",
       "    </tr>\n",
       "    <tr>\n",
       "      <th>Desi Bytes</th>\n",
       "      <td>North Indian, Chinese</td>\n",
       "      <td>5.0</td>\n",
       "      <td>400</td>\n",
       "      <td>1 PM to 2 AM (Mon, Wed-Sun), Tue Closed</td>\n",
       "    </tr>\n",
       "    <tr>\n",
       "      <th>Cream Stone</th>\n",
       "      <td>Ice Cream, Desserts</td>\n",
       "      <td>5.0</td>\n",
       "      <td>350</td>\n",
       "      <td>10 AM to 1 AM (Mon-Thu), 10 AM to 1:30 AM (Fri...</td>\n",
       "    </tr>\n",
       "    <tr>\n",
       "      <th>Behrouz Biryani</th>\n",
       "      <td>Mughlai, Biryani</td>\n",
       "      <td>5.0</td>\n",
       "      <td>600</td>\n",
       "      <td>10 AM to 1 AM</td>\n",
       "    </tr>\n",
       "    <tr>\n",
       "      <th>T Grill</th>\n",
       "      <td>North Indian, Andhra, Biryani, Chinese</td>\n",
       "      <td>5.0</td>\n",
       "      <td>700</td>\n",
       "      <td>12:30 PM to 3:30 PM, 7 PM to 11 PM</td>\n",
       "    </tr>\n",
       "    <tr>\n",
       "      <th>Hyper Local</th>\n",
       "      <td>American, Chinese, North Indian, Kebab, South ...</td>\n",
       "      <td>5.0</td>\n",
       "      <td>1000</td>\n",
       "      <td>12 Noon to 12 Midnight</td>\n",
       "    </tr>\n",
       "    <tr>\n",
       "      <th>Hunger Maggi Point</th>\n",
       "      <td>Fast Food</td>\n",
       "      <td>4.0</td>\n",
       "      <td>200</td>\n",
       "      <td>4:30 PM to 5:30 AM</td>\n",
       "    </tr>\n",
       "    <tr>\n",
       "      <th>Sardarji's Chaats &amp; More</th>\n",
       "      <td>Street Food, North Indian, Fast Food</td>\n",
       "      <td>4.0</td>\n",
       "      <td>400</td>\n",
       "      <td>12 Noon to 3:30 PM, 7 PM to 10:30 PM</td>\n",
       "    </tr>\n",
       "  </tbody>\n",
       "</table>\n",
       "</div>"
      ],
      "text/plain": [
       "                                                                    Cuisines  \\\n",
       "Amul                                                     Ice Cream, Desserts   \n",
       "Green Bawarchi Restaurant                     North Indian, Chinese, Biryani   \n",
       "Hitech Bawarchi Food Zone                     Biryani, North Indian, Chinese   \n",
       "Desi Bytes                                             North Indian, Chinese   \n",
       "Cream Stone                                              Ice Cream, Desserts   \n",
       "Behrouz Biryani                                             Mughlai, Biryani   \n",
       "T Grill                               North Indian, Andhra, Biryani, Chinese   \n",
       "Hyper Local                American, Chinese, North Indian, Kebab, South ...   \n",
       "Hunger Maggi Point                                                 Fast Food   \n",
       "Sardarji's Chaats & More                Street Food, North Indian, Fast Food   \n",
       "\n",
       "                           Rating  Cost  \\\n",
       "Amul                          5.0   150   \n",
       "Green Bawarchi Restaurant     5.0   700   \n",
       "Hitech Bawarchi Food Zone     5.0   500   \n",
       "Desi Bytes                    5.0   400   \n",
       "Cream Stone                   5.0   350   \n",
       "Behrouz Biryani               5.0   600   \n",
       "T Grill                       5.0   700   \n",
       "Hyper Local                   5.0  1000   \n",
       "Hunger Maggi Point            4.0   200   \n",
       "Sardarji's Chaats & More      4.0   400   \n",
       "\n",
       "                                                                     Timings  \n",
       "Amul                                                           10 AM to 5 AM  \n",
       "Green Bawarchi Restaurant                                   12 Noon to 11 PM  \n",
       "Hitech Bawarchi Food Zone                                   12 Noon to 11 PM  \n",
       "Desi Bytes                           1 PM to 2 AM (Mon, Wed-Sun), Tue Closed  \n",
       "Cream Stone                10 AM to 1 AM (Mon-Thu), 10 AM to 1:30 AM (Fri...  \n",
       "Behrouz Biryani                                                10 AM to 1 AM  \n",
       "T Grill                                   12:30 PM to 3:30 PM, 7 PM to 11 PM  \n",
       "Hyper Local                                           12 Noon to 12 Midnight  \n",
       "Hunger Maggi Point                                        4:30 PM to 5:30 AM  \n",
       "Sardarji's Chaats & More                12 Noon to 3:30 PM, 7 PM to 10:30 PM  "
      ]
     },
     "execution_count": 67,
     "metadata": {},
     "output_type": "execute_result"
    }
   ],
   "source": [
    "#top recomendatations on the example\n",
    "recommend('Hyderabadi Daawat')"
   ]
  },
  {
   "cell_type": "code",
   "execution_count": null,
   "metadata": {},
   "outputs": [],
   "source": []
  }
 ],
 "metadata": {
  "kernelspec": {
   "display_name": "Python 3",
   "language": "python",
   "name": "python3"
  },
  "language_info": {
   "codemirror_mode": {
    "name": "ipython",
    "version": 3
   },
   "file_extension": ".py",
   "mimetype": "text/x-python",
   "name": "python",
   "nbconvert_exporter": "python",
   "pygments_lexer": "ipython3",
   "version": "3.8.8"
  }
 },
 "nbformat": 4,
 "nbformat_minor": 4
}
